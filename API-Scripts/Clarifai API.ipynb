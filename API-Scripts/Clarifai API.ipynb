{
 "cells": [
  {
   "cell_type": "code",
   "execution_count": 7,
   "metadata": {},
   "outputs": [],
   "source": [
    "from clarifai.rest import ClarifaiApp\n",
    "app = ClarifaiApp(api_key='API_KEY')"
   ]
  },
  {
   "cell_type": "code",
   "execution_count": 6,
   "metadata": {},
   "outputs": [
    {
     "data": {
      "text/plain": [
       "{'status': {'code': 10000,\n",
       "  'description': 'Ok',\n",
       "  'req_id': '24a5ace7d9824680a7d0858bba7aecc1'},\n",
       " 'outputs': [{'id': '92f98017535d4a5dbaa5a5cb724f6a6f',\n",
       "   'status': {'code': 10000, 'description': 'Ok'},\n",
       "   'created_at': '2019-11-14T16:30:00.140830756Z',\n",
       "   'model': {'id': 'eee28c313d69466f836ab83287a54ed9',\n",
       "    'name': 'travel-v1.0',\n",
       "    'created_at': '2016-09-17T22:18:59.955626Z',\n",
       "    'app_id': 'main',\n",
       "    'output_info': {'message': 'Show output_info with: GET /models/{model_id}/output_info',\n",
       "     'type': 'concept',\n",
       "     'type_ext': 'concept'},\n",
       "    'model_version': {'id': 'd2ffbf9730fd41fea79063270847be82',\n",
       "     'created_at': '2016-09-17T22:18:59.955626Z',\n",
       "     'status': {'code': 21100, 'description': 'Model is trained and ready'}},\n",
       "    'display_name': 'Travel'},\n",
       "   'input': {'id': 'a159c26824a845c3a247dc9bae7aad4b',\n",
       "    'data': {'image': {'url': 'https://clarifai.com/cms-assets/20180308185817/travel.jpg'}}},\n",
       "   'data': {'concepts': [{'id': 'ai_T4GN2Cdl',\n",
       "      'name': 'Water Sports',\n",
       "      'value': 0.8575283288955688,\n",
       "      'app_id': 'main'},\n",
       "     {'id': 'ai_XB2b9m4v',\n",
       "      'name': 'Summer',\n",
       "      'value': 0.7652181386947632,\n",
       "      'app_id': 'main'},\n",
       "     {'id': 'ai_sf6B79BS',\n",
       "      'name': 'Sports & Activities',\n",
       "      'value': 0.45720335841178894,\n",
       "      'app_id': 'main'},\n",
       "     {'id': 'ai_TCZdTr6B',\n",
       "      'name': 'Yoga',\n",
       "      'value': 0.292674720287323,\n",
       "      'app_id': 'main'},\n",
       "     {'id': 'ai_7Wn1cVgv',\n",
       "      'name': 'Indoor Swimming Pool',\n",
       "      'value': 0.2845468521118164,\n",
       "      'app_id': 'main'},\n",
       "     {'id': 'ai_rRbfXwwx',\n",
       "      'name': 'Chair',\n",
       "      'value': 0.24106237292289734,\n",
       "      'app_id': 'main'},\n",
       "     {'id': 'ai_3j6nNvsH',\n",
       "      'name': 'Casino',\n",
       "      'value': 0.23752668499946594,\n",
       "      'app_id': 'main'},\n",
       "     {'id': 'ai_NVNKLrCW',\n",
       "      'name': 'Details',\n",
       "      'value': 0.2359631061553955,\n",
       "      'app_id': 'main'},\n",
       "     {'id': 'ai_4NvhWszJ',\n",
       "      'name': 'Snow & Ski Sports',\n",
       "      'value': 0.19599729776382446,\n",
       "      'app_id': 'main'},\n",
       "     {'id': 'ai_v5zlpKkc',\n",
       "      'name': 'Tennis Court',\n",
       "      'value': 0.13053420186042786,\n",
       "      'app_id': 'main'},\n",
       "     {'id': 'ai_hmSzCZd5',\n",
       "      'name': 'Daytime',\n",
       "      'value': 0.110465407371521,\n",
       "      'app_id': 'main'},\n",
       "     {'id': 'ai_10wRz2HT',\n",
       "      'name': 'Internet Area',\n",
       "      'value': 0.1046869158744812,\n",
       "      'app_id': 'main'},\n",
       "     {'id': 'ai_q0SJrBZW',\n",
       "      'name': 'Water Park',\n",
       "      'value': 0.10241836309432983,\n",
       "      'app_id': 'main'},\n",
       "     {'id': 'ai_zF1MvGHt',\n",
       "      'name': 'Television',\n",
       "      'value': 0.1000700294971466,\n",
       "      'app_id': 'main'},\n",
       "     {'id': 'ai_tbXzfXXz',\n",
       "      'name': 'Outdoor Pool',\n",
       "      'value': 0.09051087498664856,\n",
       "      'app_id': 'main'},\n",
       "     {'id': 'ai_zTxfQQKH',\n",
       "      'name': 'Kids Area',\n",
       "      'value': 0.08545824885368347,\n",
       "      'app_id': 'main'},\n",
       "     {'id': 'ai_q4dFqXVs',\n",
       "      'name': 'Boat',\n",
       "      'value': 0.08121669292449951,\n",
       "      'app_id': 'main'},\n",
       "     {'id': 'ai_J2x9qKdS',\n",
       "      'name': 'Animals',\n",
       "      'value': 0.06938990950584412,\n",
       "      'app_id': 'main'},\n",
       "     {'id': 'ai_7kVDV8Md',\n",
       "      'name': 'Bicycling',\n",
       "      'value': 0.06090950965881348,\n",
       "      'app_id': 'main'},\n",
       "     {'id': 'ai_CtFL0TP6',\n",
       "      'name': 'Wellness & Spa',\n",
       "      'value': 0.057620078325271606,\n",
       "      'app_id': 'main'}]}}]}"
      ]
     },
     "execution_count": 6,
     "metadata": {},
     "output_type": "execute_result"
    }
   ],
   "source": [
    "from clarifai.rest import Image as ClImage\n",
    "model = app.models.get('travel-v1.0')\n",
    "image = ClImage(url='https://clarifai.com/cms-assets/20180308185817/travel.jpg')\n",
    "model.predict([image])"
   ]
  },
  {
   "cell_type": "code",
   "execution_count": 22,
   "metadata": {},
   "outputs": [
    {
     "data": {
      "text/plain": [
       "{'status': {'code': 10000,\n",
       "  'description': 'Ok',\n",
       "  'req_id': '4b09f8e97ea64832a9eb5b43407313b7'},\n",
       " 'outputs': [{'id': 'df73603fbb3549249898ff1720895940',\n",
       "   'status': {'code': 10000, 'description': 'Ok'},\n",
       "   'created_at': '2019-11-14T22:32:37.239033508Z',\n",
       "   'model': {'id': 'e9576d86d2004ed1a38ba0cf39ecb4b1',\n",
       "    'name': 'nsfw-v1.0',\n",
       "    'created_at': '2016-09-17T22:18:59.955626Z',\n",
       "    'app_id': 'main',\n",
       "    'output_info': {'message': 'Show output_info with: GET /models/{model_id}/output_info',\n",
       "     'type': 'concept',\n",
       "     'type_ext': 'concept'},\n",
       "    'model_version': {'id': 'aa47919c9a8d4d94bfa283121281bcc4',\n",
       "     'created_at': '2018-01-23T19:25:09.618692Z',\n",
       "     'status': {'code': 21100, 'description': 'Model is trained and ready'}},\n",
       "    'display_name': 'NSFW'},\n",
       "   'input': {'id': '57f60f53724c4617abdc5babc13f5772',\n",
       "    'data': {'image': {'url': 'https://media.dhakatribune.com/uploads/2019/07/lead-1563710420110.jpg'}}},\n",
       "   'data': {'concepts': [{'id': 'ai_RT20lm2Q',\n",
       "      'name': 'sfw',\n",
       "      'value': 0.9914555549621582,\n",
       "      'app_id': 'main'},\n",
       "     {'id': 'ai_KxzHKtPl',\n",
       "      'name': 'nsfw',\n",
       "      'value': 0.008544372394680977,\n",
       "      'app_id': 'main'}]}}]}"
      ]
     },
     "execution_count": 22,
     "metadata": {},
     "output_type": "execute_result"
    }
   ],
   "source": [
    "from clarifai.rest import Image as ClImage\n",
    "image_url = \"https://media.dhakatribune.com/uploads/2019/07/lead-1563710420110.jpg\"\n",
    "model = app.models.get('nsfw-v1.0')\n",
    "image = ClImage(url=image_url)\n",
    "model.predict([image])"
   ]
  },
  {
   "cell_type": "code",
   "execution_count": null,
   "metadata": {},
   "outputs": [],
   "source": [
    "# API Links : https://www.clarifai.com/models"
   ]
  }
 ],
 "metadata": {
  "kernelspec": {
   "display_name": "Python 3",
   "language": "python",
   "name": "python3"
  },
  "language_info": {
   "codemirror_mode": {
    "name": "ipython",
    "version": 3
   },
   "file_extension": ".py",
   "mimetype": "text/x-python",
   "name": "python",
   "nbconvert_exporter": "python",
   "pygments_lexer": "ipython3",
   "version": "3.6.5"
  }
 },
 "nbformat": 4,
 "nbformat_minor": 2
}
