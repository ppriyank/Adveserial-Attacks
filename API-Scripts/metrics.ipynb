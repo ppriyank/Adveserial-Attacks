{
 "cells": [
  {
   "cell_type": "code",
   "execution_count": 1,
   "metadata": {},
   "outputs": [],
   "source": [
    "from jiwer import wer\n",
    "from rouge import Rouge\n",
    "import nltk\n",
    "import io\n",
    "import os"
   ]
  },
  {
   "cell_type": "markdown",
   "metadata": {},
   "source": [
    "#### Word Error Rate"
   ]
  },
  {
   "cell_type": "code",
   "execution_count": 2,
   "metadata": {},
   "outputs": [],
   "source": [
    "def wer_score(gt, hyp):\n",
    "    return (wer(gt, hyp))"
   ]
  },
  {
   "cell_type": "markdown",
   "metadata": {},
   "source": [
    "#### BLEU Score = Precision"
   ]
  },
  {
   "cell_type": "code",
   "execution_count": 3,
   "metadata": {},
   "outputs": [],
   "source": [
    "def bleu_score(gt, hyp):\n",
    "    truth = gt.split()\n",
    "    api = hyp.split()\n",
    "    return (nltk.translate.bleu_score.sentence_bleu([truth], api))"
   ]
  },
  {
   "cell_type": "markdown",
   "metadata": {},
   "source": [
    "### ROUGE Score = Recall"
   ]
  },
  {
   "cell_type": "code",
   "execution_count": 4,
   "metadata": {},
   "outputs": [],
   "source": [
    "def rouge(gt, hyp):\n",
    "    rouge = Rouge()\n",
    "    scores = rouge.get_scores(hyp, gt)   \n",
    "    return (scores[0]['rouge-2']['f'], scores[0]['rouge-2']['r'], scores[0]['rouge-2']['p'])"
   ]
  },
  {
   "cell_type": "code",
   "execution_count": 19,
   "metadata": {},
   "outputs": [],
   "source": [
    "google_path_orig = 'D:/NYU_MS/Sem3/CloudML/Project/test/google_orig.txt'\n",
    "original_path = 'D:/NYU_MS/Sem3/CloudML/Project/test/original.txt'\n",
    "ibm_path_orig = 'D:/NYU_MS/Sem3/CloudML/Project/test/ibm_orig.txt'\n",
    "ibm_path_attack = 'D:/NYU_MS/Sem3/CloudML/Project/test/ibm_attack.txt'\n",
    "google_path_attack = 'D:/NYU_MS/Sem3/CloudML/Project/test/google_attack.txt'\n",
    "\n",
    "f = open(google_path_orig,'r')\n",
    "google_orig = f.read().lower()\n",
    "f.close()\n",
    "\n",
    "f = open(original_path,'r')\n",
    "gt = f.read().lower()\n",
    "f.close()\n",
    "\n",
    "f = open(ibm_path_orig,'r')\n",
    "ibm_orig = f.read().lower()\n",
    "f.close()\n",
    "\n",
    "f = open(ibm_path_attack,'r')\n",
    "ibm_attack = f.read().lower()\n",
    "f.close()\n",
    "\n",
    "f = open(google_path_attack,'r')\n",
    "#google_attack = f.read().lower()\n",
    "st = \"I'm home I found the same sort of clumsiness in the Tomato Sofrito which characterizes the clothes off cone as a cruise ship\"\n",
    "google_attack = st.lower()\n",
    "f.close()"
   ]
  },
  {
   "cell_type": "code",
   "execution_count": 6,
   "metadata": {},
   "outputs": [],
   "source": [
    "original_f1, original_recall, original_precision = rouge(gt,gt)\n",
    "original__goog_f1, original__goog_recall, original_goog_precision = rouge(gt,google_orig)\n",
    "google_bleu_orig = bleu_score(gt, google_orig)\n",
    "google_wer_orig = bleu_score(gt, google_orig)"
   ]
  },
  {
   "cell_type": "code",
   "execution_count": 7,
   "metadata": {},
   "outputs": [],
   "source": [
    "original__ibm_f1, original__ibm_recall, original_ibm_precision = rouge(gt,ibm_orig)\n",
    "ibm_bleu_orig = bleu_score(gt, ibm_orig)\n",
    "ibm_wer_orig = bleu_score(gt, ibm_orig)"
   ]
  },
  {
   "cell_type": "code",
   "execution_count": 8,
   "metadata": {},
   "outputs": [],
   "source": [
    "attack__ibm_f1, attack__ibm_recall, attack_ibm_precision = rouge(gt,ibm_attack)\n",
    "ibm_bleu_attack = bleu_score(gt, ibm_attack)\n",
    "ibm_wer_attack = bleu_score(gt, ibm_attack)"
   ]
  },
  {
   "cell_type": "code",
   "execution_count": 20,
   "metadata": {},
   "outputs": [],
   "source": [
    "attack__goog_f1, attack__goog_recall, attack_goog_precision = rouge(gt,google_attack)\n",
    "google_bleu_attack = bleu_score(gt, google_attack)\n",
    "google_wer_attack = bleu_score(gt, google_attack)"
   ]
  },
  {
   "cell_type": "code",
   "execution_count": 10,
   "metadata": {},
   "outputs": [
    {
     "name": "stdout",
     "output_type": "stream",
     "text": [
      "Google Original\n",
      "F1_test =  0.999999995 \n",
      "Recall_test =  1.0 \n",
      "Precision_test =  1.0 \n",
      "Google F1 =  0.899999995 \n",
      "Google_recall =  0.9 \n",
      "Google precision =  0.9 \n",
      "Google Bleu =  0.8656030552541708 \n",
      "WER_google =  0.8656030552541708\n"
     ]
    }
   ],
   "source": [
    "print(\"Google Original\")\n",
    "print(\"F1_test = \", original_f1, \"\\nRecall_test = \", original_recall, \"\\nPrecision_test = \", original_precision, \"\\nGoogle F1 = \", original__goog_f1, \"\\nGoogle_recall = \", original__goog_recall, \"\\nGoogle precision = \", original_goog_precision, \"\\nGoogle Bleu = \", google_bleu_orig, \"\\nWER_google = \",google_wer_orig)"
   ]
  },
  {
   "cell_type": "code",
   "execution_count": 11,
   "metadata": {},
   "outputs": [
    {
     "name": "stdout",
     "output_type": "stream",
     "text": [
      "IBM Original\n",
      "\n",
      "\n",
      "ibm F1 =  0.8780487754907793 \n",
      "ibm_recall =  0.9 \n",
      "ibm precision =  0.8571428571428571 \n",
      "ibm Bleu =  0.8232490471721702 \n",
      "WER_ibm =  0.8232490471721702\n"
     ]
    }
   ],
   "source": [
    "print(\"IBM Original\\n\")\n",
    "print(\"\\nibm F1 = \", original__ibm_f1, \"\\nibm_recall = \", original__ibm_recall, \"\\nibm precision = \", original_ibm_precision, \"\\nibm Bleu = \", ibm_bleu_orig, \"\\nWER_ibm = \",ibm_wer_orig)"
   ]
  },
  {
   "cell_type": "code",
   "execution_count": 12,
   "metadata": {},
   "outputs": [
    {
     "name": "stdout",
     "output_type": "stream",
     "text": [
      "IBM Attacked\n",
      "\n",
      "F1 =  0.682926824271267 \n",
      "ibm_recall =  0.7 \n",
      "ibm precision =  0.6666666666666666 \n",
      "ibm Bleu =  0.6350869045864345 \n",
      "WER_ibm =  0.6350869045864345\n"
     ]
    }
   ],
   "source": [
    "print(\"IBM Attacked\\n\")\n",
    "print(\"F1 = \", attack__ibm_f1, \"\\nibm_recall = \", attack__ibm_recall, \"\\nibm precision = \", attack_ibm_precision, \"\\nibm Bleu = \", ibm_bleu_attack, \"\\nWER_ibm = \",ibm_wer_attack)"
   ]
  },
  {
   "cell_type": "code",
   "execution_count": 21,
   "metadata": {},
   "outputs": [
    {
     "name": "stdout",
     "output_type": "stream",
     "text": [
      "Google Attacked\n",
      "\n",
      "F1 =  0.3809523759637189 \n",
      "Google_recall =  0.4 \n",
      "Google precision =  0.36363636363636365 \n",
      "Google Bleu =  0.3083012995502152 \n",
      "WER_Google =  0.3083012995502152\n"
     ]
    }
   ],
   "source": [
    "print(\"Google Attacked\\n\")\n",
    "print(\"F1 = \", attack__goog_f1, \"\\nGoogle_recall = \", attack__goog_recall, \"\\nGoogle precision = \", attack_goog_precision, \"\\nGoogle Bleu = \", google_bleu_attack, \"\\nWER_Google = \",google_wer_attack)"
   ]
  },
  {
   "cell_type": "code",
   "execution_count": 22,
   "metadata": {},
   "outputs": [
    {
     "data": {
      "text/plain": [
       "\"i'm home i found the same sort of clumsiness in the tomato sofrito which characterizes the clothes off cone as a cruise ship\""
      ]
     },
     "execution_count": 22,
     "metadata": {},
     "output_type": "execute_result"
    }
   ],
   "source": [
    "google_attack"
   ]
  },
  {
   "cell_type": "code",
   "execution_count": 17,
   "metadata": {},
   "outputs": [
    {
     "data": {
      "text/plain": [
       "'and hence we find the same sort of clumsiness in the timaeus of plato which characterizes the philosophical poem of lucretius'"
      ]
     },
     "execution_count": 17,
     "metadata": {},
     "output_type": "execute_result"
    }
   ],
   "source": [
    "gt"
   ]
  },
  {
   "cell_type": "code",
   "execution_count": 18,
   "metadata": {},
   "outputs": [
    {
     "data": {
      "text/plain": [
       "0.0"
      ]
     },
     "execution_count": 18,
     "metadata": {},
     "output_type": "execute_result"
    }
   ],
   "source": [
    "wer(\"he is\", \"he is\")"
   ]
  },
  {
   "cell_type": "code",
   "execution_count": null,
   "metadata": {},
   "outputs": [],
   "source": []
  }
 ],
 "metadata": {
  "kernelspec": {
   "display_name": "Python 3",
   "language": "python",
   "name": "python3"
  },
  "language_info": {
   "codemirror_mode": {
    "name": "ipython",
    "version": 3
   },
   "file_extension": ".py",
   "mimetype": "text/x-python",
   "name": "python",
   "nbconvert_exporter": "python",
   "pygments_lexer": "ipython3",
   "version": "3.7.5"
  }
 },
 "nbformat": 4,
 "nbformat_minor": 2
}
