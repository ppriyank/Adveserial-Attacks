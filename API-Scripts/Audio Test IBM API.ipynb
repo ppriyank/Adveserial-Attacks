{
 "cells": [
  {
   "cell_type": "code",
   "execution_count": 7,
   "metadata": {},
   "outputs": [],
   "source": [
    "from ibm_watson import SpeechToTextV1\n",
    "from ibm_cloud_sdk_core.authenticators import IAMAuthenticator\n",
    "\n",
    "speech_to_text_api_key = 'L531OGJIjRfcrrdpKVoyQ_qapYex7Mz1rHRFdm1lv2qw'\n",
    "speech_to_text_authenticator = IAMAuthenticator(speech_to_text_api_key)\n",
    "speech_to_text = SpeechToTextV1(authenticator=speech_to_text_authenticator)\n",
    "speech_to_text.set_service_url('https://stream.watsonplatform.net/speech-to-text/api')"
   ]
  },
  {
   "cell_type": "code",
   "execution_count": 20,
   "metadata": {},
   "outputs": [
    {
     "name": "stdout",
     "output_type": "stream",
     "text": [
      "Writing ./audio-dataset-original/script-IBM/00.txt...\n",
      "Writing ./audio-dataset-original/script-IBM/01.txt...\n",
      "Writing ./audio-dataset-original/script-IBM/02.txt...\n",
      "Writing ./audio-dataset-original/script-IBM/03.txt...\n",
      "Writing ./audio-dataset-original/script-IBM/04.txt...\n",
      "Writing ./audio-dataset-original/script-IBM/05.txt...\n",
      "Writing ./audio-dataset-original/script-IBM/06.txt...\n",
      "Writing ./audio-dataset-original/script-IBM/07.txt...\n",
      "Writing ./audio-dataset-original/script-IBM/08.txt...\n",
      "Writing ./audio-dataset-original/script-IBM/09.txt...\n",
      "Writing ./audio-dataset-original/script-IBM/10.txt...\n",
      "Writing ./audio-dataset-original/script-IBM/11.txt...\n",
      "Writing ./audio-dataset-original/script-IBM/12.txt...\n",
      "Writing ./audio-dataset-original/script-IBM/13.txt...\n",
      "Writing ./audio-dataset-original/script-IBM/14.txt...\n",
      "Writing ./audio-dataset-original/script-IBM/15.txt...\n",
      "Writing ./audio-dataset-original/script-IBM/16.txt...\n",
      "Writing ./audio-dataset-original/script-IBM/17.txt...\n",
      "Writing ./audio-dataset-original/script-IBM/18.txt...\n",
      "Writing ./audio-dataset-original/script-IBM/19.txt...\n",
      "Writing ./audio-dataset-original/script-IBM/20.txt...\n",
      "Writing ./audio-dataset-original/script-IBM/21.txt...\n",
      "Writing ./audio-dataset-original/script-IBM/22.txt...\n",
      "Writing ./audio-dataset-original/script-IBM/23.txt...\n",
      "Writing ./audio-dataset-original/script-IBM/24.txt...\n",
      "Writing ./audio-dataset-original/script-IBM/25.txt...\n",
      "Writing ./audio-dataset-original/script-IBM/26.txt...\n",
      "Writing ./audio-dataset-original/script-IBM/27.txt...\n",
      "Writing ./audio-dataset-original/script-IBM/28.txt...\n",
      "Writing ./audio-dataset-original/script-IBM/29.txt...\n",
      "Writing ./audio-dataset-original/script-IBM/30.txt...\n",
      "Writing ./audio-dataset-original/script-IBM/31.txt...\n",
      "Writing ./audio-dataset-original/script-IBM/32.txt...\n",
      "Writing ./audio-dataset-original/script-IBM/33.txt...\n",
      "Writing ./audio-dataset-original/script-IBM/34.txt...\n",
      "Writing ./audio-dataset-original/script-IBM/35.txt...\n",
      "Writing ./audio-dataset-original/script-IBM/36.txt...\n",
      "Writing ./audio-dataset-original/script-IBM/37.txt...\n",
      "Writing ./audio-dataset-original/script-IBM/38.txt...\n",
      "Writing ./audio-dataset-original/script-IBM/39.txt...\n",
      "Writing ./audio-dataset-original/script-IBM/40.txt...\n",
      "Writing ./audio-dataset-original/script-IBM/41.txt...\n",
      "Writing ./audio-dataset-original/script-IBM/42.txt...\n",
      "Writing ./audio-dataset-original/script-IBM/43.txt...\n",
      "Writing ./audio-dataset-original/script-IBM/44.txt...\n",
      "Writing ./audio-dataset-original/script-IBM/45.txt...\n",
      "Writing ./audio-dataset-original/script-IBM/46.txt...\n",
      "Writing ./audio-dataset-original/script-IBM/47.txt...\n",
      "Writing ./audio-dataset-original/script-IBM/48.txt...\n",
      "Writing ./audio-dataset-original/script-IBM/49.txt...\n",
      "Writing ./audio-dataset-original/script-IBM/50.txt...\n",
      "Writing ./audio-dataset-original/script-IBM/51.txt...\n",
      "Writing ./audio-dataset-original/script-IBM/52.txt...\n",
      "Writing ./audio-dataset-original/script-IBM/53.txt...\n",
      "Writing ./audio-dataset-original/script-IBM/54.txt...\n",
      "Writing ./audio-dataset-original/script-IBM/55.txt...\n",
      "Writing ./audio-dataset-original/script-IBM/56.txt...\n",
      "Writing ./audio-dataset-original/script-IBM/57.txt...\n",
      "Writing ./audio-dataset-original/script-IBM/58.txt...\n",
      "Writing ./audio-dataset-original/script-IBM/59.txt...\n"
     ]
    }
   ],
   "source": [
    "import os\n",
    "\n",
    "for i in range(60):\n",
    "    path = './audio-dataset-original/audio/{:02d}.wav'.format(i)\n",
    "    with open(path, 'rb') as audio_file:\n",
    "        response = speech_to_text.recognize(audio=audio_file, content_type='audio/wav', model='en-US_BroadbandModel').get_result()\n",
    "        transcript = ''.join([sentence['alternatives'][0]['transcript'] for sentence in response['results']])\n",
    "        transcript_path = './audio-dataset-original/script-IBM/{:02d}.txt'.format(i)\n",
    "        with open(transcript_path, 'wt') as transcript_file:\n",
    "            print('Writing {0}...'.format(transcript_path))\n",
    "            transcript_file.write(transcript)"
   ]
  },
  {
   "cell_type": "code",
   "execution_count": 34,
   "metadata": {},
   "outputs": [],
   "source": [
    "t = []\n",
    "for i in range(60):\n",
    "    path = './audio-dataset-original/script-IBM/{:02d}.txt'.format(i)\n",
    "    with open(path, 'rt') as f:\n",
    "        t.append(f.read().replace('\\n', ' '))"
   ]
  },
  {
   "cell_type": "code",
   "execution_count": 29,
   "metadata": {},
   "outputs": [
    {
     "data": {
      "text/plain": [
       "[\"the accepted definition of creativity is production of something original and useful and it is commonly thought that creativity occurs on the right side of the brain and the arts play an important role in enhancing it but according to new research creativity isn't about freedom from concrete facts \",\n",
       " \"hello Peter I heard he worked in a remote village last month yes as a volunteer teaching in a primary school in southeastern China a good choice for the summer vacation for me it's not in your choice of responsibility your right what can a volunteer generally do many things like creating a change in the surroundings providing shelter and food to the needy ones \",\n",
       " \"have you had any difficulties as a volunteer definitely lack of respect and knowledge mint a look of funds now and then all my many obstacles so the most important spirit is perseverance I'd like to join you some day anytime \",\n",
       " \"I have a good feeling about this house if you like the outside you'll go into really love the inside what a beautiful home and I like the way the window screen gives you privacy from the street follow me into the kitchen you will love it while they put a wine storage area and the kitchen I love it the past is the bedroom and attach bathroom I love the relaxing colors of the wall and floor covering \",\n",
       " \"transport one then has a lost property office which collects the items left behind as people flow through the city's transport system each day it is the biggest lost property office in Europe globally only by Tokyo's sixty five staff sort through hundreds of thousands of lost and forgotten items each at the office which is run by Paul Cohen \",\n",
       " \"how long has discovered something interesting about the complexity of lost shoes he said if you have once you you're more likely to go looking for the other if you loose tissues well it's slightly out of sight out of mind he got his many people regard lost at the opportunity to treat themselves to something new \",\n",
       " 'the human memory works like a filing system for filing system to be effective information has to be put in a logical place inside a folder that includes related information when the members of a debate team practice by using facts in support of an argument they are exactly gathering related pieces of information into a single mental folder ',\n",
       " 'the new set back in some cities they are thinking of turning off the public water supply during part of each day %HESITATION there is a shortage of water here too is there anything we can do to help water is so important sure there are many things we can do to cut down on the amount of water we use one is to change some of the things in the bathroom ',\n",
       " 'can I stay here for just another minute I really need to look up something on Shakespeare sorry everyone is supposed to put books back to the shelf when the closing bell sounded ',\n",
       " \"another simple way of building some savings is by depositing as little as two percent of your monthly income into a savings account the key is that before bills and living expenses start to eat away your salary you should put aside the savings portion of your pay once you have reached a thousand dollars you'll find you probably have the motivation to continue to save even more \",\n",
       " \"surely I'm working on our class diary for next week would you please give me the information sure first it's the deadline for after class activity application the deadline is next Monday June fourteenth Monday June fourteenth yes then on Wednesday that's the sixteenth all classmates have to hand in three student photos three student photos okay next is the basketball club meeting it's on the seventeenth \",\n",
       " \"your new book my world will be published next week would you please tell us the theme of your book well I want people who have challenges in their lives to believe that despite their difficulties they can still accomplish a lot one of my suggestions is to always ask for help right what's the best part about being a judge in court having a voice in the decision making process there's something extremely satisfying about that \",\n",
       " \"what's your idea of happiness I think it would be the satisfaction of enjoying things with others meaning when you're giving to others whether it's time attention a gift anything just those moments of sharing \",\n",
       " 'all over the world people go to cafes to relax alone or with friends and in many cafes in Korea you can do more than that you can relax and play with dogs at new dog cafes this new cafe is one of them the dog stamp honoring teachers around the room ',\n",
       " \"then we arranged for an engineer to visit your house yesterday the electricity no he didn't five minutes after he arrived he had an emergency call and left I'm very sorry I can arrange for another engineer to visit you on Wednesday okay but I have a meeting that morning do you have an exact time for his visit is two o'clock okay for you yes that's fine thank you no problem \",\n",
       " 'how do you feel about the Klein my it was a lot more difficult than we had expected but we persevered and made it why did you choose to conquer such a high we regard this as a chance to prove the human spirit really a tough SUNY what did you do in times of difficulty we turned to each other for inspiration as we continued on the way to the peak ',\n",
       " 'can you to take a look through the text message watch for a delayed response when college students were asked to tell a lie during an interview with the computer they took ten percent longer on average to send the message and they did more editing than usual ',\n",
       " \"what do you like most about the airport environment well I really appreciate the daylight daylight yes the windows here make it seem as if you are outside another thing I like is the moving walkways you don't have to walk for miles to the boarding gate I see anything you don't like the shops are often overcrowded there's not enough space to move around comfortably and also I suppose the trolleys at two small \",\n",
       " \"and there's any case interview here interviewer presents a problem in a series of questions to find out how the candidate would approach the problem it goes something like this the company wants to hire more graduates without spending more than its current budget what would you advise them to do this can be particularly challenging I need to analyze the problem and solve it \",\n",
       " \"the third type is known as the behavioral interview the questions are usually designed to find out about how the candidates handled tricky situations in the past a typical question might be can you give me an example of a situation where you had to follow orders that you didn't agree with this opens up a lot of information and the interviewer gets to see more of the candidates \",\n",
       " 'how about your school right that was fine I was able to get my school work done with good grades my only problem was that I had so much physical energy that I could not sit still in class then some teachers started taking my skateboard away stop you from skating No Way the course thing was that my parents managed to find me a different school ',\n",
       " \"well I own a small data processing company in which I employee about eight to ten workers and the point I want to make has to do with trust I know it's possible to force people to be one hundred percent efficient but I think when you do that you lose confidence and trust I let my employees use our equipment and make personal phone calls there are more than welcome to decide what is right and wrong \",\n",
       " 'what class are you trying to take I want to take a photography class well there are only two classes open can you tell me what days the classes are on one is on Tuesday from two PM to four PM and the other from ten to twelve on Thursday okay sign me up for the class on Tuesday ',\n",
       " \"can you tell us about your group well we were all high school students from the U. S. but we were very different you mean from different cities with different religions and cultures yes and I was excited about that we learned that we weren't really so different what do you mean well we became such good friends more than friends we were like a family \",\n",
       " \"what line of work are you in well right out of college I worked in advertising for a while recently though I turn my photography hobby into a small business I'll actually be taking photos during the big event as a wedding gift that sounds wonderful and very thoughtful of you \",\n",
       " \"did you bake the cookies here at the party tonight yes I got the idea from a magazine they're delicious you've got nothing to worry about you're a natural you really think so if you hadn't told me that I would have guessed they were baked by the restaurant you know with your event planning experience you could very well open your own shop \",\n",
       " \"many aspects are different here at university the most important one is that you have to take more individual responsibility for your actions it's up to your own self discipline how much effort you put into study living in college dormitories there are no parents to tell you to study harder or stop wasting time lectures have hundreds of students and they're not going to follow you up or question you if you missed their lectures \",\n",
       " \"in college there are lots of distractions and you need to control yourself you will make interesting friends but you need only keep the friends who respect your student commitments also there are a lot of wonderful clubs but you shouldn't allocate too much time to club activities unless they're directly related to your study \",\n",
       " \"do you mind taking my photo with the statue over there I think it will make a great shot sure no worries you're always taking photos what to do with all the photos you take well don't laugh my dream is to become an online celebrity of sorts you're not serious are you I am completely \",\n",
       " \"I spent all last weekend researching what topics are popular what words to use in captions and similar accounts to follow it really was a lot to take in and I was up well past midnight I'd say it's paying off though I increase the number of people following my counts by fifteen percent already that is impressive \",\n",
       " \"well I'm very interested in why the universe exists a toll that may sound old but the fact is at the moment of the Big Bang both matter and antimatter were created for a short time and I mean just a fraction of a second the whole universe was a super hot soup of radiation filled with these particles so what's baffled scientists for so long he's why is there a universitas \",\n",
       " 'but a recent study seems to point to the fact that when matter and anti matter were first created there were slightly more particles of matter which a lot of the universe we all live in to form exactly because there was slightly more matter the conditions quickly depleted all the anti matter and left just enough matter to create stars planets and eventually us ',\n",
       " \"and it's refreshing to see a strong curious clever woman adding her voice to the scientific discourse and I feel that has been traditionally dominated by men I think she is to be commended for making an effort to include anecdotes about little known female scientists you know they were often victims of a generation firmly convinced that the woman's place was in the home \",\n",
       " 'I like how she cultivates scientific engagement by providing a host of do it yourself experiments that bring the same foundational principles of classical physics that govern everything from the solar system to your kitchen table from using complex laws of physics to test whether a spinning egg is cooked to measuring atmospheric pressure by looking a piece of cardboard her hands on examples make her book a truly interactive read ',\n",
       " \"hi professor I was hoping I could have a moment of your time if you're not too busy I'm having some problems getting started on my dissertation and I was hoping you could give me some advice on how to begin sure I have quite a few students vote so can you remind me what show topic is the general topic I chose this aspects but that's as far as I thought I don't really know where to go from there yeah that's much too large a topic you really need to narrow it down in order to make it more accessible \",\n",
       " 'I suggest you go to the library and get a copy of his biography stop from there the tremendous to stick to the parameters of the assignment this paper is a large part to feel cumulative grade so make sure to follow the instructions you take a look at his biography you can get a good idea of how his life experiences manifest themselves in his theories of beauty specifically the way he looked towards nature as the origin of what we find beautiful ',\n",
       " \"welcome hi thanks for having me on your show thank you for joining us so please tell us why did you decide to open a cafe well we sold the opportunity to offer something a little special and different from other establishments cafes certainly are a very competitive market sector they're all mold and plenty in our city and we felt they are old rather similar to each other wouldn't you agree \",\n",
       " \"rabbit sound very peaceful and certainly do not bite Furthermore our rabbits are regularly cleaned and have all received the required shots so there is no health risk what so ever as for our customers they %HESITATION animal lovers so they would never try to hit the rapids sometimes a young child may get over excited and be a little too rough but it's never a serious matter \",\n",
       " \"Hey there how are you %HESITATION hi I'm great thanks and you look great too thank you it's good to see you shopping at the organic section I see you've got lots of healthy stuff I wish I could buy more organic produce from here but I find the kids don't like it I don't know about yours but mine are all about junk food no trust me I know exactly how you feel my children all the same \",\n",
       " \"what is it with kids these days and all that junk food they eat I think it's all that advertising on TV that's where they get it yes it must be my children see something on TV and they immediately want it it's like they don't realize it's just an advertisement right and practically everything that sat for ties for children is unhealthy processed foods no surprise then it becomes a bottle for us parents to feed our children ordinary fruits and vegetables \",\n",
       " \"what's all that are you going to make a salad no I'm going to make a good spot show what's that despite show is a cold soup from Spain it's mostly vegetables I guess you could call it a liquid solid cold soup sounds weird it's delicious trust me \",\n",
       " 'you see in the south of Spain it gets very hot in the summer up to forty degrees Celsius so a cold despacho is very refreshing the main ingredients of tomatoes cucumber bell peppers olive oil and stale bread stale bread surely you mean Bradford dipping into the soup no bread is crushed and blended in like everything else it adds texture and thickness to the soup ',\n",
       " \"hello I was to buy a bottle of wine hi yes what kind of wine would you like I don't know sorry I don't know much about wine that's no problem the toll what's the occasion and how much would you like to spend it's for my boss it's his birthday I know he likes wine but I don't know what type I also do not want anything too expensive maybe mid range \",\n",
       " 'I guess something in the vicinity of thirty or forty would be good which type would you recommend I would say the safest option is always a red wine they are generally more popular than whites and can usually be paired with food more easily our specialty here %HESITATION Italian wines and these tend to be fruity with medium acidity ',\n",
       " \"another Cup of tea pull no thanks well what's new Laurie nothing dramatic but this is something you should know about what's that well our rivals offering extended credit terms to some of the retailers in the area %HESITATION %HESITATION which rivals this we only have two Barrett's company \",\n",
       " \"I've been studying the possibility and I think we should give it a go it's not as easy as that there is it would have to reorganize the whole company don't be silly I don't intend starting next week what the planet properly and of course they'll be a few problems few problems I can see hundreds for one thing transport \",\n",
       " \"you're all going to give a short speech of thanks for the speaker this evening on to bill yes you don't sound very enthusiastic it's not that bad is it now I don't mind really but I can never forget the first speech of thanks I did what you what happened well I was in my early twenties \",\n",
       " \"when I arrived the secretary asked me if I could give the speech of thanks rather stupidly I said yes we've all done it anyway from that point on I was scared as I say I decided to make notes during the lecture in referred to interesting parts and thank her on behalf of the society \",\n",
       " 'this week the Italian government passed legislation that aims to dramatically reduce the amount of food wasted in the country new laws have been put into place that will make it easier for farms in supermarkets to donate unsold food to those who are in need yes in addition to this businesses will now be rewarded for successful efforts to cut food waste ',\n",
       " 'in the United States up to forty percent of all food goes on the chin despite the fact that one in seven American households lacks regular access to good food one major cause of this problem is the confusion over food expiration labels which are currently not regulated by the government all this could change soon ',\n",
       " 'how can I be of assistance to you today hello I was in your store this past weekend on porch a few items yesterday my friend told me that the annual unofficially sales had begun it turned out she bought the same sweaters I did but for a much lower price yes our anniversary sale started on Monday we do offer price adjustments within seven days of purchase to ensure our customer satisfaction ',\n",
       " \"the trash really caught my eye but I did have some concerns about the length how long will the alterations take our tailoring department guarantees alterations to be completed within five working days if you'd like I can set aside for you if you're able to come in this afternoon you can give your name to the sales manager and they'll be able to assist you \",\n",
       " \"have you ever found one of your books at a second hand bookstore yes that kind of thing is difficult if they've got my book that I think well this is an insult somebody didn't want to keep my book but if it's not that I feel it's an insult to I think why aren't people exchanging my book why isn't it in this store \",\n",
       " \"what does it feel like when you finally finish a book it's funny you ask that because I never have this moment when I feel I finished I watch football is at the end of the match you know the whistle goes and they've won or lost until then they've been giving everything they have and at that moment they know it's over it's funny for unlawful there's never a finishing whistle \",\n",
       " \"and what's really bad about this is these athletes are supposedly promised at least one thing as a reward for all that blood and sweat and that is a college degree which can be a transformative tool in our society when you talk about up with mobility and that's really the troubling part about this \",\n",
       " \"well this is been talked about so much really in recent years why hasn't it changed well I think one of the reasons it hasn't changed is because there's really no economic pressure to change this all of the incentive is really on winning I'm not losing on the field all on the court \",\n",
       " \"the most important factor for the majority of the people interviewed was having friendly supportive colleagues in fact seventy three percent of people interviewed but their relationship with colleagues as the key factor contributing to happiness at work which is a very high percentage the second most important factor was having work that is enjoyable the two least important fact is what having one's achievements recognized and rather surprisingly earning a competitive salary \",\n",
       " 'first of all small is beautiful people definitely prefer %HESITATION working for smaller organizations all companies with less than one hundred staff we also find out that generally speaking women were happier in Vail working than men yes we are I tweet and workers on part time contracts who only work four or five hours a day all happier than those who work full time the researchers concluded that this is probably due to a better work life balance ',\n",
       " 'as there have been numerous alarming articles in the press about a climate catastrophe waiting to happen I started looking at the sea and the beach very differently a place where I spent so many perfect days as a child this fear of a looming danger became the subject of a large scale photo project ',\n",
       " \"you wrote in the book I don't want to photograph the disaster I want to photograph the disaster waiting to happen can you talk a bit about that it is clear now that it's a matter of time before the entire European coastline disappears on the water the same goes for numerous big cities around the world my idea was to photograph this beautiful and very unique coastline rich in history before it's too late \"]"
      ]
     },
     "execution_count": 29,
     "metadata": {},
     "output_type": "execute_result"
    }
   ],
   "source": [
    "t"
   ]
  },
  {
   "cell_type": "code",
   "execution_count": 35,
   "metadata": {},
   "outputs": [
    {
     "name": "stdout",
     "output_type": "stream",
     "text": [
      "\n",
      "H :  ['the', 'accepted', 'definition', 'of', 'creativity', 'is', 'production', 'of', 'something', 'original', 'and', 'useful', 'and', 'it', 'is', 'commonly', 'thought', 'that', 'creativity', 'occurs', 'on', 'the', 'right', 'side', 'of', 'the', 'brain', 'and', 'the', 'arts', 'play', 'an', 'important', 'role', 'in', 'enhancing', 'it', 'but', 'according', 'to', 'new', 'research', 'creativity', \"isn't\", 'about', 'freedom', 'from', 'concrete', 'facts'] \n",
      "R :  ['the', 'accepted', 'definition', 'of', 'creativity', 'is', 'production', 'of', 'something', 'original', 'and', 'useful,', 'and', 'it', 'is', 'commonly', 'thought', 'that', 'creativity', 'occurs', 'on', 'the', 'right', 'side', 'of', 'the', 'brain,', 'and', 'the', 'arts', 'play', 'an', 'important', 'role', 'in', 'enhancing', 'it.', 'but', 'according', 'to', 'a', 'new', 'research,', 'creativity', \"isn't\", 'about', 'freedom', 'from', 'concrete', 'facts.']\n",
      "\n",
      "H :  ['hello', 'peter', 'i', 'heard', 'he', 'worked', 'in', 'a', 'remote', 'village', 'last', 'month', 'yes', 'as', 'a', 'volunteer', 'teaching', 'in', 'a', 'primary', 'school', 'in', 'southeastern', 'china', 'a', 'good', 'choice', 'for', 'the', 'summer', 'vacation', 'for', 'me', \"it's\", 'not', 'in', 'your', 'choice', 'of', 'responsibility', 'your', 'right', 'what', 'can', 'a', 'volunteer', 'generally', 'do', 'many', 'things', 'like', 'creating', 'a', 'change', 'in', 'the', 'surroundings', 'providing', 'shelter', 'and', 'food', 'to', 'the', 'needy', 'ones'] \n",
      "R :  ['hello.', 'peter.', 'i', 'heard', 'you', 'worked', 'in', 'a', 'remote', 'village', 'last', 'month.', 'yes,', 'as', 'a', 'volunteer', 'teaching', 'in', 'a', 'primary', 'school', 'in', 'southeastern', 'china.', 'a', 'good', 'choice', 'for', 'the', 'summer', 'vacation.', 'for', 'me,', \"it's\", 'not', 'only', 'a', 'choice,', 'but', 'a', 'responsibility.', \"you're\", 'right.', 'what', 'can', 'a', 'volunteer', 'generally', 'do?', 'many', 'things,', 'like', 'creating', 'a', 'change', 'in', 'the', 'surroundings,', 'providing', 'shelter', 'and', 'food', 'to', 'the', 'needy', 'ones.']\n",
      "\n",
      "H :  ['have', 'you', 'had', 'any', 'difficulties', 'as', 'a', 'volunteer', 'definitely', 'lack', 'of', 'respect', 'and', 'knowledge', 'mint', 'a', 'look', 'of', 'funds', 'now', 'and', 'then', 'all', 'my', 'many', 'obstacles', 'so', 'the', 'most', 'important', 'spirit', 'is', 'perseverance', \"i'd\", 'like', 'to', 'join', 'you', 'some', 'day', 'anytime'] \n",
      "R :  ['have', 'you', 'had', 'any', 'difficulties', 'as', 'a', 'volunteer?', 'definitely!', 'lack', 'of', 'respect,', 'acknowledgement,', 'and', 'lack', 'of', 'funds', 'now', 'and', 'then.', 'oh,', 'my!', 'many', 'obstacles!', 'so', 'the', 'most', 'important', 'spirit', 'is', 'perseverance.', \"i'd\", 'like', 'to', 'join', 'you', 'someday.', 'any', 'time.']\n",
      "\n",
      "H :  ['i', 'have', 'a', 'good', 'feeling', 'about', 'this', 'house', 'if', 'you', 'like', 'the', 'outside', \"you'll\", 'go', 'into', 'really', 'love', 'the', 'inside', 'what', 'a', 'beautiful', 'home', 'and', 'i', 'like', 'the', 'way', 'the', 'window', 'screen', 'gives', 'you', 'privacy', 'from', 'the', 'street', 'follow', 'me', 'into', 'the', 'kitchen', 'you', 'will', 'love', 'it', 'while', 'they', 'put', 'a', 'wine', 'storage', 'area', 'and', 'the', 'kitchen', 'i', 'love', 'it', 'the', 'past', 'is', 'the', 'bedroom', 'and', 'attach', 'bathroom', 'i', 'love', 'the', 'relaxing', 'colors', 'of', 'the', 'wall', 'and', 'floor', 'covering'] \n",
      "R :  ['i', 'have', 'a', 'good', 'feeling', 'about', 'this', 'house.', 'if', 'you', 'like', 'the', 'outside,', 'you', 'are', 'going', 'to', 'really', 'love', 'the', 'inside.', 'what', 'a', 'beautiful', 'home!', 'and', 'i', 'like', 'the', 'way', 'the', 'window', 'screen', 'gives', 'you', 'privacy', 'from', 'the', 'street.', 'follow', 'me', 'into', 'the', 'kitchen.', 'you', 'will', 'love', 'it!', 'wow,', 'they', 'put', 'a', 'wine', 'storage', 'area', 'in', 'the', 'kitchen.', 'i', 'love', 'it!', 'the', 'best', 'part', 'is', 'the', 'bedroom', 'and', 'the', 'attached', 'bathroom.', 'i', 'love', 'the', 'relaxing', 'colors', 'of', 'the', 'wall', 'and', 'floor', 'covering.']\n",
      "\n",
      "H :  ['transport', 'one', 'then', 'has', 'a', 'lost', 'property', 'office', 'which', 'collects', 'the', 'items', 'left', 'behind', 'as', 'people', 'flow', 'through', 'the', \"city's\", 'transport', 'system', 'each', 'day', 'it', 'is', 'the', 'biggest', 'lost', 'property', 'office', 'in', 'europe', 'globally', 'only', 'by', \"tokyo's\", 'sixty', 'five', 'staff', 'sort', 'through', 'hundreds', 'of', 'thousands', 'of', 'lost', 'and', 'forgotten', 'items', 'each', 'at', 'the', 'office', 'which', 'is', 'run', 'by', 'paul', 'cohen'] \n",
      "R :  ['transport', 'for', 'london', 'has', 'a', 'lost', 'property', 'office,', 'which', 'collects', 'the', 'items', 'left', 'behind', 'as', 'people', 'flow', 'through', 'the', \"city's\", 'transport', 'system', 'each', 'day.', 'it', 'is', 'the', 'biggest', 'lost', 'property', 'office', 'in', 'europe,', 'beaten', 'globally', 'only', 'by', \"tokyo's.\", '65', 'staffs', 'sort', 'through', 'hundreds', 'of', 'thousands', 'of', 'lost', 'and', 'forgotten', 'items', 'each', 'at', 'the', 'office,', 'which', 'is', 'run', 'by', 'paul', 'coan.']\n",
      "\n",
      "H :  ['how', 'long', 'has', 'discovered', 'something', 'interesting', 'about', 'the', 'complexity', 'of', 'lost', 'shoes', 'he', 'said', 'if', 'you', 'have', 'once', 'you', \"you're\", 'more', 'likely', 'to', 'go', 'looking', 'for', 'the', 'other', 'if', 'you', 'loose', 'tissues', 'well', \"it's\", 'slightly', 'out', 'of', 'sight', 'out', 'of', 'mind', 'he', 'got', 'his', 'many', 'people', 'regard', 'lost', 'at', 'the', 'opportunity', 'to', 'treat', 'themselves', 'to', 'something', 'new'] \n",
      "R :  ['coan', 'has', 'discovered', 'something', 'interesting', 'about', 'the', 'complexity', 'of', 'lost', 'shoes.', 'he', 'said,', 'if', 'you', 'have', 'one', 'shoe,', 'you', 'are', 'more', 'likely', 'to', 'go', 'looking', 'for', 'the', 'other.', 'if', 'you', 'lose', 'two', 'shoes,', 'well,', \"it's\", 'likely,', 'out', 'of', 'sight,', 'out', 'of', 'mind.', 'he', 'guesses', 'many', 'people', 'regard', 'loss', 'as', 'an', 'opportunity', 'to', 'treat', 'themselves', 'to', 'something', 'new.']\n",
      "\n",
      "H :  ['the', 'human', 'memory', 'works', 'like', 'a', 'filing', 'system', 'for', 'filing', 'system', 'to', 'be', 'effective', 'information', 'has', 'to', 'be', 'put', 'in', 'a', 'logical', 'place', 'inside', 'a', 'folder', 'that', 'includes', 'related', 'information', 'when', 'the', 'members', 'of', 'a', 'debate', 'team', 'practice', 'by', 'using', 'facts', 'in', 'support', 'of', 'an', 'argument', 'they', 'are', 'exactly', 'gathering', 'related', 'pieces', 'of', 'information', 'into', 'a', 'single', 'mental', 'folder'] \n",
      "R :  ['the', 'human', 'memory', 'works', 'like', 'a', 'filing', 'system.', 'for', 'a', 'fling', 'system', 'to', 'be', 'effective,', 'information', 'has', 'to', 'be', 'put', 'in', 'a', 'logical', 'place', 'inside', 'a', 'folder', 'that', 'includes', 'related', 'information.', 'when', 'the', 'members', 'of', 'a', 'debate', 'team', 'practise', 'by', 'using', 'facts', 'in', 'support', 'of', 'an', 'argument,', 'they', 'are', 'exactly', 'gathering', 'related', 'pieces', 'of', 'information', 'into', 'a', 'single', 'mental', 'folder.']\n",
      "\n",
      "H :  ['the', 'new', 'set', 'back', 'in', 'some', 'cities', 'they', 'are', 'thinking', 'of', 'turning', 'off', 'the', 'public', 'water', 'supply', 'during', 'part', 'of', 'each', 'day', '%hesitation', 'there', 'is', 'a', 'shortage', 'of', 'water', 'here', 'too', 'is', 'there', 'anything', 'we', 'can', 'do', 'to', 'help', 'water', 'is', 'so', 'important', 'sure', 'there', 'are', 'many', 'things', 'we', 'can', 'do', 'to', 'cut', 'down', 'on', 'the', 'amount', 'of', 'water', 'we', 'use', 'one', 'is', 'to', 'change', 'some', 'of', 'the', 'things', 'in', 'the', 'bathroom'] \n",
      "R :  ['last', 'night', 'the', 'news', 'said', 'that', 'in', 'some', 'cities', 'they', 'are', 'thinking', 'of', 'turning', 'off', 'the', 'public', 'water', 'supply', 'during', 'part', 'of', 'each', 'day.', 'mmm...', 'there', 'is', 'a', 'shortage', 'of', 'water', 'here,', 'too.', 'is', 'there', 'anything', 'we', 'could', 'do', 'to', 'help?', 'water', 'is', 'so', 'important.', 'sure.', 'there', 'are', 'many', 'things', 'we', 'can', 'do', 'to', 'cut', 'down', 'the', 'amount', 'of', 'water', 'we', 'use.', 'one', 'is', 'change', 'some', 'of', 'the', 'things', 'in', 'the', 'bathroom.']\n",
      "\n",
      "H :  ['can', 'i', 'stay', 'here', 'for', 'just', 'another', 'minute', 'i', 'really', 'need', 'to', 'look', 'up', 'something', 'on', 'shakespeare', 'sorry', 'everyone', 'is', 'supposed', 'to', 'put', 'books', 'back', 'to', 'the', 'shelf', 'when', 'the', 'closing', 'bell', 'sounded'] \n",
      "R :  ['can', 'i', 'stay', 'here', 'for', 'just', 'another', 'minute?', 'i', 'really', 'need', 'to', 'look', 'up', 'something', 'on', 'shakespeare.', 'sorry.', 'everyone', 'is', 'supposed', 'to', 'put', 'books', 'back', 'to', 'the', 'shelves', 'when', 'the', 'closing', 'bell', 'is', 'sounded.']\n",
      "\n",
      "H :  ['another', 'simple', 'way', 'of', 'building', 'some', 'savings', 'is', 'by', 'depositing', 'as', 'little', 'as', 'two', 'percent', 'of', 'your', 'monthly', 'income', 'into', 'a', 'savings', 'account', 'the', 'key', 'is', 'that', 'before', 'bills', 'and', 'living', 'expenses', 'start', 'to', 'eat', 'away', 'your', 'salary', 'you', 'should', 'put', 'aside', 'the', 'savings', 'portion', 'of', 'your', 'pay', 'once', 'you', 'have', 'reached', 'a', 'thousand', 'dollars', \"you'll\", 'find', 'you', 'probably', 'have', 'the', 'motivation', 'to', 'continue', 'to', 'save', 'even', 'more'] \n",
      "R :  ['another', 'simple', 'way', 'of', 'building', 'some', 'savings', 'is', 'by', 'depositing', 'as', 'little', 'as', 'two', 'percent', 'of', 'your', 'monthly', 'income', 'into', 'a', 'savings', 'account.', 'the', 'key', 'is', 'that', 'before', 'bills', 'and', 'living', 'expenses', 'start', 'to', 'eat', 'away', 'your', 'salary,', 'you', 'should', 'put', 'aside', 'the', 'savings', 'portion', 'of', 'your', 'pay.', 'once', 'you', 'have', 'reached', 'a', 'thousand', 'dollars,', 'you’ll', 'find', 'you', 'probably', 'have', 'the', 'motivation', 'to', 'continue', 'to', 'save', 'even', 'more.']\n",
      "\n",
      "H :  ['surely', \"i'm\", 'working', 'on', 'our', 'class', 'diary', 'for', 'next', 'week', 'would', 'you', 'please', 'give', 'me', 'the', 'information', 'sure', 'first', \"it's\", 'the', 'deadline', 'for', 'after', 'class', 'activity', 'application', 'the', 'deadline', 'is', 'next', 'monday', 'june', 'fourteenth', 'monday', 'june', 'fourteenth', 'yes', 'then', 'on', 'wednesday', \"that's\", 'the', 'sixteenth', 'all', 'classmates', 'have', 'to', 'hand', 'in', 'three', 'student', 'photos', 'three', 'student', 'photos', 'okay', 'next', 'is', 'the', 'basketball', 'club', 'meeting', \"it's\", 'on', 'the', 'seventeenth'] \n",
      "R :  ['shirley,', 'i', 'am', 'working', 'on', 'a', 'class', 'diary', 'for', 'next', 'week.', 'would', 'you', 'please', 'give', 'me', 'the', 'information?', 'sure.', 'first', \"it's\", 'the', 'deadline', 'for', 'after', 'class', 'activity', 'application.', 'the', 'deadline', 'is', 'next', 'monday,', 'june', '14th.', 'monday,', 'june', '14th.', 'yes.', 'then', 'on', 'wednesday,', \"that's\", 'the', '16th,', 'all', 'classmates', 'have', 'to', 'hand', 'in', 'three', 'student', 'photos.', 'three', 'student', 'photos.', 'ok.', 'next', 'is', 'the', 'basketball', 'club', 'meeting.', \"it's\", 'on', 'the', '17th.']\n",
      "\n",
      "H :  ['your', 'new', 'book', 'my', 'world', 'will', 'be', 'published', 'next', 'week', 'would', 'you', 'please', 'tell', 'us', 'the', 'theme', 'of', 'your', 'book', 'well', 'i', 'want', 'people', 'who', 'have', 'challenges', 'in', 'their', 'lives', 'to', 'believe', 'that', 'despite', 'their', 'difficulties', 'they', 'can', 'still', 'accomplish', 'a', 'lot', 'one', 'of', 'my', 'suggestions', 'is', 'to', 'always', 'ask', 'for', 'help', 'right', \"what's\", 'the', 'best', 'part', 'about', 'being', 'a', 'judge', 'in', 'court', 'having', 'a', 'voice', 'in', 'the', 'decision', 'making', 'process', \"there's\", 'something', 'extremely', 'satisfying', 'about', 'that'] \n",
      "R :  ['your', 'new', 'book,', 'my', 'world,', 'will', 'be', 'published', 'next', 'week.', 'would', 'you', 'please', 'tell', 'us', 'the', 'theme', 'of', 'your', 'book?', 'well,', 'i', 'want', 'people', 'who', 'have', 'challenges', 'in', 'their', 'lives', 'to', 'believe', 'that', 'despite', 'their', 'difficulties', 'they', 'can', 'still', 'accomplish', 'a', 'lot.', 'one', 'of', 'my', 'suggestions', 'is', 'to', 'always', 'ask', 'for', 'help.', 'right.', 'what’s', 'the', 'best', 'part', 'of', 'being', 'a', 'judge', 'in', 'court?', 'having', 'a', 'voice', 'in', 'the', 'decision-making', 'process.', 'there', 'is', 'something', 'extremely', 'satisfying', 'about', 'that.']\n",
      "\n",
      "H :  [\"what's\", 'your', 'idea', 'of', 'happiness', 'i', 'think', 'it', 'would', 'be', 'the', 'satisfaction', 'of', 'enjoying', 'things', 'with', 'others', 'meaning', 'when', \"you're\", 'giving', 'to', 'others', 'whether', \"it's\", 'time', 'attention', 'a', 'gift', 'anything', 'just', 'those', 'moments', 'of', 'sharing'] \n",
      "R :  [\"what's\", 'your', 'idea', 'of', 'happiness?', 'i', 'think', 'it', 'would', 'be', 'satisfaction', 'of', 'enjoying', 'things', 'with', 'others,', 'meaning', 'when', 'you', 'give', 'it', 'to', 'others,', 'whether', 'it’s', 'time,', 'attention,', 'a', 'gift,', 'anything,', 'just', 'those', 'moments', 'of', 'sharing.']\n",
      "\n",
      "H :  ['all', 'over', 'the', 'world', 'people', 'go', 'to', 'cafes', 'to', 'relax', 'alone', 'or', 'with', 'friends', 'and', 'in', 'many', 'cafes', 'in', 'korea', 'you', 'can', 'do', 'more', 'than', 'that', 'you', 'can', 'relax', 'and', 'play', 'with', 'dogs', 'at', 'new', 'dog', 'cafes', 'this', 'new', 'cafe', 'is', 'one', 'of', 'them', 'the', 'dog', 'stamp', 'honoring', 'teachers', 'around', 'the', 'room'] \n",
      "R :  ['in', 'cities', 'all', 'over', 'the', 'world,', 'people', 'go', 'to', 'cafes', 'to', 'relax', 'alone', 'or', 'with', 'friends.', 'but', 'in', 'many', 'cafes', 'in', 'korea,', 'you', 'can', 'do', 'more', 'than', 'that.', 'you', 'can', 'relax,', 'and', 'play', 'with', 'dogs', 'at', 'new', 'dog', 'cafes.', 'the', 'snoopy', 'cafe', 'is', 'one', 'of', 'them.', 'the', 'dogs', 'there', 'are', 'in', 'cages', 'around', 'the', 'room.']\n",
      "\n",
      "H :  ['then', 'we', 'arranged', 'for', 'an', 'engineer', 'to', 'visit', 'your', 'house', 'yesterday', 'the', 'electricity', 'no', 'he', \"didn't\", 'five', 'minutes', 'after', 'he', 'arrived', 'he', 'had', 'an', 'emergency', 'call', 'and', 'left', \"i'm\", 'very', 'sorry', 'i', 'can', 'arrange', 'for', 'another', 'engineer', 'to', 'visit', 'you', 'on', 'wednesday', 'okay', 'but', 'i', 'have', 'a', 'meeting', 'that', 'morning', 'do', 'you', 'have', 'an', 'exact', 'time', 'for', 'his', 'visit', 'is', 'two', \"o'clock\", 'okay', 'for', 'you', 'yes', \"that's\", 'fine', 'thank', 'you', 'no', 'problem'] \n",
      "R :  ['our', 'notes', 'say', 'that', 'we', 'arranged', 'for', 'an', 'engineer', 'to', 'visit', 'your', 'house', 'yesterday.', 'did', 'he', 'check', 'the', 'electricity?', 'no,', 'he', \"didn't.\", 'five', 'minutes', 'after', 'he', 'arrived,', 'he', 'had', 'an', 'emergency', 'call', 'and', 'left.', \"i'm\", 'very', 'sorry.', 'i', 'can', 'arrange', 'for', 'another', 'engineer', 'to', 'visit', 'you', 'on', 'wednesday.', 'ok,', 'but', 'i', 'have', 'a', 'meeting', 'that', 'morning.', 'do', 'you', 'have', 'an', 'exact', 'time', 'for', 'his', 'visit?', 'is', 'two', \"o'clock\", 'ok', 'for', 'you?', 'yes,', \"that's\", 'fine.', 'thank', 'you.', 'no', 'problem.']\n",
      "\n",
      "H :  ['how', 'do', 'you', 'feel', 'about', 'the', 'klein', 'my', 'it', 'was', 'a', 'lot', 'more', 'difficult', 'than', 'we', 'had', 'expected', 'but', 'we', 'persevered', 'and', 'made', 'it', 'why', 'did', 'you', 'choose', 'to', 'conquer', 'such', 'a', 'high', 'we', 'regard', 'this', 'as', 'a', 'chance', 'to', 'prove', 'the', 'human', 'spirit', 'really', 'a', 'tough', 'suny', 'what', 'did', 'you', 'do', 'in', 'times', 'of', 'difficulty', 'we', 'turned', 'to', 'each', 'other', 'for', 'inspiration', 'as', 'we', 'continued', 'on', 'the', 'way', 'to', 'the', 'peak'] \n",
      "R :  ['how', 'do', 'you', 'feel', 'about', 'the', 'climb,', 'mike?', 'it', 'was', 'a', 'lot', 'more', 'difficult', 'than', 'we', 'had', 'expected,', 'but', 'we', 'persevered', 'and', 'made', 'it.', 'why', 'did', 'you', 'choose', 'to', 'conquer', 'such', 'a', 'height?', 'we', 'regard', 'this', 'as', 'a', 'chance', 'to', 'prove', 'the', 'human', 'spirit.', 'really', 'a', 'tough', 'journey.', 'what', 'did', 'you', 'do', 'in', 'time', 'of', 'a', 'difficulty?', 'we', 'turned', 'to', 'each', 'other', 'for', 'inspiration', 'as', 'we', 'continued', 'on', 'the', 'way', 'to', 'the', 'peak.']\n",
      "\n",
      "H :  ['can', 'you', 'to', 'take', 'a', 'look', 'through', 'the', 'text', 'message', 'watch', 'for', 'a', 'delayed', 'response', 'when', 'college', 'students', 'were', 'asked', 'to', 'tell', 'a', 'lie', 'during', 'an', 'interview', 'with', 'the', 'computer', 'they', 'took', 'ten', 'percent', 'longer', 'on', 'average', 'to', 'send', 'the', 'message', 'and', 'they', 'did', 'more', 'editing', 'than', 'usual'] \n",
      "R :  ['how', 'can', 'you', 'detect', 'a', 'liar', 'through', 'a', 'texted', 'message?', 'watch', 'for', 'a', 'delayed', 'response.', 'when', 'college', 'students', 'were', 'asked', 'to', 'tell', 'a', 'lie', 'during', 'an', 'interview', 'with', 'a', 'computer,', 'they', 'took', '10', 'percent', 'longer', 'on', 'average', 'to', 'send', 'a', 'message', 'and', 'they', 'did', 'more', 'editing', 'than', 'usual.']\n",
      "\n",
      "H :  ['what', 'do', 'you', 'like', 'most', 'about', 'the', 'airport', 'environment', 'well', 'i', 'really', 'appreciate', 'the', 'daylight', 'daylight', 'yes', 'the', 'windows', 'here', 'make', 'it', 'seem', 'as', 'if', 'you', 'are', 'outside', 'another', 'thing', 'i', 'like', 'is', 'the', 'moving', 'walkways', 'you', \"don't\", 'have', 'to', 'walk', 'for', 'miles', 'to', 'the', 'boarding', 'gate', 'i', 'see', 'anything', 'you', \"don't\", 'like', 'the', 'shops', 'are', 'often', 'overcrowded', \"there's\", 'not', 'enough', 'space', 'to', 'move', 'around', 'comfortably', 'and', 'also', 'i', 'suppose', 'the', 'trolleys', 'at', 'two', 'small'] \n",
      "R :  ['what', 'do', 'you', 'like', 'most', 'about', 'the', 'airport', 'environment?', 'well,', 'i', 'really', 'appreciate', 'the', 'daylight.', 'daylight?', 'yes,', 'the', 'windows', 'here', 'make', 'it', 'seems', 'if', 'you', 'are', 'outside.', 'another', 'thing', 'i', 'like', 'is', 'the', 'moving', 'walkways.', 'you', \"don't\", 'have', 'to', 'walk', 'for', 'miles', 'to', 'the', 'boarding', 'gate.', 'i', 'see.', 'anything', 'you', \"don't\", 'like?', 'the', 'shops', 'are', 'often', 'overcrowded.', 'there', 'is', 'no', 'enough', 'space', 'to', 'move', 'around', 'comfortably,', 'and', 'also', 'i', 'suppose', 'the', 'trollies', 'are', 'too', 'small.']\n",
      "\n",
      "H :  ['and', \"there's\", 'any', 'case', 'interview', 'here', 'interviewer', 'presents', 'a', 'problem', 'in', 'a', 'series', 'of', 'questions', 'to', 'find', 'out', 'how', 'the', 'candidate', 'would', 'approach', 'the', 'problem', 'it', 'goes', 'something', 'like', 'this', 'the', 'company', 'wants', 'to', 'hire', 'more', 'graduates', 'without', 'spending', 'more', 'than', 'its', 'current', 'budget', 'what', 'would', 'you', 'advise', 'them', 'to', 'do', 'this', 'can', 'be', 'particularly', 'challenging', 'i', 'need', 'to', 'analyze', 'the', 'problem', 'and', 'solve', 'it'] \n",
      "R :  ['then', 'there', 'is', 'the', 'case', 'interview.', 'here', 'the', 'interviewer', 'presents', 'a', 'problem', 'and', 'a', 'series', 'of', 'questions', 'to', 'find', 'out', 'how', 'the', 'candidate', 'would', 'approach', 'the', 'problem.', 'it', 'might', 'go', 'something', 'like', 'this,', '\"a', 'company', 'wants', 'to', 'hire', 'more', 'graduates', 'without', 'spending', 'more', 'than', 'its', 'current', 'budget.', 'what', 'would', 'you', 'advise', 'them', 'to', 'do?\"', 'this', 'can', 'be', 'particularly', 'challenging,', 'for', 'you', 'need', 'to', 'analyze', 'the', 'problem', 'and', 'solve', 'it.']\n",
      "\n",
      "H :  ['the', 'third', 'type', 'is', 'known', 'as', 'the', 'behavioral', 'interview', 'the', 'questions', 'are', 'usually', 'designed', 'to', 'find', 'out', 'about', 'how', 'the', 'candidates', 'handled', 'tricky', 'situations', 'in', 'the', 'past', 'a', 'typical', 'question', 'might', 'be', 'can', 'you', 'give', 'me', 'an', 'example', 'of', 'a', 'situation', 'where', 'you', 'had', 'to', 'follow', 'orders', 'that', 'you', \"didn't\", 'agree', 'with', 'this', 'opens', 'up', 'a', 'lot', 'of', 'information', 'and', 'the', 'interviewer', 'gets', 'to', 'see', 'more', 'of', 'the', 'candidates'] \n",
      "R :  ['the', 'third', 'type', 'is', 'known', 'as', 'the', 'behavioral', 'interview.', 'the', 'questions', 'are', 'usually', 'designed', 'to', 'find', 'out', 'about', 'how', 'the', 'candidates', 'handle', 'tricky', 'situations', 'in', 'the', 'past.', 'a', 'typical', 'question', 'might', 'be', '\"can', 'you', 'give', 'me', 'an', 'example', 'of', 'a', 'situation', 'where', 'you', 'had', 'to', 'follow', 'orders', 'that', 'you', \"didn't\", 'agree', 'with?\"', 'this', 'opens', 'up', 'a', 'lot', 'of', 'information', 'and', 'the', 'interviewer', 'gets', 'to', 'see', 'more', 'of', 'the', 'candidate.']\n",
      "\n",
      "H :  ['how', 'about', 'your', 'school', 'right', 'that', 'was', 'fine', 'i', 'was', 'able', 'to', 'get', 'my', 'school', 'work', 'done', 'with', 'good', 'grades', 'my', 'only', 'problem', 'was', 'that', 'i', 'had', 'so', 'much', 'physical', 'energy', 'that', 'i', 'could', 'not', 'sit', 'still', 'in', 'class', 'then', 'some', 'teachers', 'started', 'taking', 'my', 'skateboard', 'away', 'stop', 'you', 'from', 'skating', 'no', 'way', 'the', 'course', 'thing', 'was', 'that', 'my', 'parents', 'managed', 'to', 'find', 'me', 'a', 'different', 'school'] \n",
      "R :  ['how', 'about', 'your', 'school', 'work?', 'that', 'was', 'fine.', 'i', 'was', 'able', 'to', 'get', 'my', 'school', 'work', 'done', 'with', 'good', 'grades.', 'my', 'only', 'problem', 'was', 'that', 'i', 'had', 'so', 'much', 'physical', 'energy', 'that', 'i', 'could', 'not', 'sit', 'still', 'in', 'class.', 'then', 'some', 'teachers', 'started', 'taking', 'my', 'skateboard', 'away.', 'that', \"couldn't\", 'stop', 'you', 'from', 'staking?', 'no', 'way.', 'the', 'cool', 'thing', 'was', 'that', 'my', 'parents', 'managed', 'to', 'find', 'me', 'a', 'different', 'school.']\n",
      "\n",
      "H :  ['well', 'i', 'own', 'a', 'small', 'data', 'processing', 'company', 'in', 'which', 'i', 'employee', 'about', 'eight', 'to', 'ten', 'workers', 'and', 'the', 'point', 'i', 'want', 'to', 'make', 'has', 'to', 'do', 'with', 'trust', 'i', 'know', \"it's\", 'possible', 'to', 'force', 'people', 'to', 'be', 'one', 'hundred', 'percent', 'efficient', 'but', 'i', 'think', 'when', 'you', 'do', 'that', 'you', 'lose', 'confidence', 'and', 'trust', 'i', 'let', 'my', 'employees', 'use', 'our', 'equipment', 'and', 'make', 'personal', 'phone', 'calls', 'there', 'are', 'more', 'than', 'welcome', 'to', 'decide', 'what', 'is', 'right', 'and', 'wrong'] \n",
      "R :  ['well,', 'i', 'own', 'a', 'small', 'data', 'processing', 'company,', 'in', 'which', 'i', 'employ', 'about', 'eight', 'to', 'ten', 'workers.', 'and', 'the', 'point', 'i', 'want', 'to', 'make', 'has', 'to', 'do', 'with', 'trust.', 'i', 'know', \"it's\", 'possible', 'to', 'force', 'people', 'to', 'be', '100%', 'efficient.', 'but', 'i', 'think', 'when', 'you', 'do', 'that,', 'you', 'lose', 'confidence', 'and', 'trust.', 'i', 'let', 'my', 'employees', 'use', 'our', 'equipment', 'and', 'make', 'personal', 'phone', 'calls.', 'they', 'are', 'more', 'than', 'welcome', 'to', 'decide', 'what', 'is', 'right', 'and', 'wrong.']\n",
      "\n",
      "H :  ['what', 'class', 'are', 'you', 'trying', 'to', 'take', 'i', 'want', 'to', 'take', 'a', 'photography', 'class', 'well', 'there', 'are', 'only', 'two', 'classes', 'open', 'can', 'you', 'tell', 'me', 'what', 'days', 'the', 'classes', 'are', 'on', 'one', 'is', 'on', 'tuesday', 'from', 'two', 'pm', 'to', 'four', 'pm', 'and', 'the', 'other', 'from', 'ten', 'to', 'twelve', 'on', 'thursday', 'okay', 'sign', 'me', 'up', 'for', 'the', 'class', 'on', 'tuesday'] \n",
      "R :  ['what', 'class', 'are', 'you', 'trying', 'to', 'take?', 'i', 'want', 'to', 'take', 'a', 'photography', 'class.', 'well,', \"there're\", 'only', 'two', 'classes', 'open.', 'can', 'you', 'tell', 'me', 'what', 'days', 'the', 'classes', 'are', 'on?', 'one', 'is', 'on', 'tuesday,', 'from', '2', 'pm', 'to', '4', 'pm.', 'and', 'the', 'other?', 'from', '10', 'to', '12', 'on', 'thursday.', 'ok,', 'sign', 'me', 'up', 'for', 'the', 'class', 'on', 'tuesday.']\n",
      "\n",
      "H :  ['can', 'you', 'tell', 'us', 'about', 'your', 'group', 'well', 'we', 'were', 'all', 'high', 'school', 'students', 'from', 'the', 'u.', 's.', 'but', 'we', 'were', 'very', 'different', 'you', 'mean', 'from', 'different', 'cities', 'with', 'different', 'religions', 'and', 'cultures', 'yes', 'and', 'i', 'was', 'excited', 'about', 'that', 'we', 'learned', 'that', 'we', \"weren't\", 'really', 'so', 'different', 'what', 'do', 'you', 'mean', 'well', 'we', 'became', 'such', 'good', 'friends', 'more', 'than', 'friends', 'we', 'were', 'like', 'a', 'family'] \n",
      "R :  ['can', 'you', 'tell', 'us', 'about', 'your', 'group?', 'well,', 'we', 'were', 'all', 'high', 'school', 'students', 'from', 'the', 'us.', 'but', 'we', 'were', 'very', 'different.', 'you', 'mean', 'from', 'different', 'cities,', 'with', 'different', 'religions', 'and', 'cultures?', 'yes,', 'and', 'i', 'was', 'existed', 'about', 'that.', 'we', 'learnt', 'that', 'we', \"weren't\", 'really', 'so', 'different.', 'what', 'do', 'you', 'mean?', 'well,', 'we', 'became', 'such', 'good', 'friends.', 'more', 'than', 'friends,', 'we', 'were', 'like', 'a', 'family.']\n",
      "\n",
      "H :  ['what', 'line', 'of', 'work', 'are', 'you', 'in', 'well', 'right', 'out', 'of', 'college', 'i', 'worked', 'in', 'advertising', 'for', 'a', 'while', 'recently', 'though', 'i', 'turn', 'my', 'photography', 'hobby', 'into', 'a', 'small', 'business', \"i'll\", 'actually', 'be', 'taking', 'photos', 'during', 'the', 'big', 'event', 'as', 'a', 'wedding', 'gift', 'that', 'sounds', 'wonderful', 'and', 'very', 'thoughtful', 'of', 'you'] \n",
      "R :  ['what', 'line', 'of', 'work', 'are', 'you', 'in?', 'well,', 'right', 'out', 'of', 'college', 'i', 'worked', 'in', 'advertising', 'for', 'a', 'while.', 'recently', 'though,', 'i', 'turn', 'my', 'photography', 'hobby', 'into', 'a', 'small', 'business.', \"i'll\", 'actually', 'be', 'taking', 'photos', 'during', 'the', 'big', 'event', 'as', 'a', 'wedding', 'gift.', 'that', 'sounds', 'wonderful', 'and', 'very', 'thoughtful', 'of', 'you.']\n",
      "\n",
      "H :  ['did', 'you', 'bake', 'the', 'cookies', 'here', 'at', 'the', 'party', 'tonight', 'yes', 'i', 'got', 'the', 'idea', 'from', 'a', 'magazine', \"they're\", 'delicious', \"you've\", 'got', 'nothing', 'to', 'worry', 'about', \"you're\", 'a', 'natural', 'you', 'really', 'think', 'so', 'if', 'you', \"hadn't\", 'told', 'me', 'that', 'i', 'would', 'have', 'guessed', 'they', 'were', 'baked', 'by', 'the', 'restaurant', 'you', 'know', 'with', 'your', 'event', 'planning', 'experience', 'you', 'could', 'very', 'well', 'open', 'your', 'own', 'shop'] \n",
      "R :  ['did', 'you', 'bake', 'the', 'cookies', 'here', 'at', 'the', 'party', 'tonight?', 'yes,', 'i', 'got', 'the', 'idea', 'from', 'a', 'magazine.', \"they're\", 'delicious!', \"you've\", 'got', 'nothing', 'to', 'worry', 'about.', 'you', 'are', 'a', 'natural.', 'you', 'really', 'think', 'so?', 'if', 'you', 'hadn’t', 'told', 'me', 'that.', 'i', 'would', 'have', 'guessed', 'they', 'were', 'baked', 'by', 'the', 'restaurant.', 'you', 'know,', 'with', 'your', 'event', 'planning', 'experience', 'you', 'could', 'very', 'well', 'open', 'your', 'own', 'shop.']\n",
      "\n",
      "H :  ['many', 'aspects', 'are', 'different', 'here', 'at', 'university', 'the', 'most', 'important', 'one', 'is', 'that', 'you', 'have', 'to', 'take', 'more', 'individual', 'responsibility', 'for', 'your', 'actions', \"it's\", 'up', 'to', 'your', 'own', 'self', 'discipline', 'how', 'much', 'effort', 'you', 'put', 'into', 'study', 'living', 'in', 'college', 'dormitories', 'there', 'are', 'no', 'parents', 'to', 'tell', 'you', 'to', 'study', 'harder', 'or', 'stop', 'wasting', 'time', 'lectures', 'have', 'hundreds', 'of', 'students', 'and', \"they're\", 'not', 'going', 'to', 'follow', 'you', 'up', 'or', 'question', 'you', 'if', 'you', 'missed', 'their', 'lectures'] \n",
      "R :  ['many', 'aspects', 'are', 'different', 'here', 'at', 'the', 'university.', 'the', 'most', 'important', 'one', 'is', 'that', 'you', 'have', 'to', 'take', 'more', 'individual', 'responsibility', 'for', 'your', 'actions.', \"it's\", 'up', 'to', 'your', 'own', 'self-discipline', '-', 'how', 'much', 'efforts', 'you', 'put', 'into', 'study.', 'living', 'in', 'college', 'dormitories,', 'there', 'are', 'no', 'parents', 'to', 'tell', 'you', 'that', 'study', 'harder', 'or', 'stop', 'wasting', 'time.', 'lectures', 'have', 'hundreds', 'of', 'students', 'and', 'they', 'are', 'not', 'going', 'to', 'follow', 'you', 'up', 'or', 'question', 'you', 'if', 'you', 'miss', 'the', 'lectures.']\n",
      "\n",
      "H :  ['in', 'college', 'there', 'are', 'lots', 'of', 'distractions', 'and', 'you', 'need', 'to', 'control', 'yourself', 'you', 'will', 'make', 'interesting', 'friends', 'but', 'you', 'need', 'only', 'keep', 'the', 'friends', 'who', 'respect', 'your', 'student', 'commitments', 'also', 'there', 'are', 'a', 'lot', 'of', 'wonderful', 'clubs', 'but', 'you', \"shouldn't\", 'allocate', 'too', 'much', 'time', 'to', 'club', 'activities', 'unless', \"they're\", 'directly', 'related', 'to', 'your', 'study'] \n",
      "R :  ['in', 'college', 'there', 'are', 'lots', 'of', 'distractions,', 'and', 'you', 'need', 'to', 'control', 'yourself.', 'you', 'will', 'make', 'interesting', 'friends,', 'but', 'you', 'need', 'only', 'keep', 'the', 'friends', 'who', 'respect', 'your', \"students'\", 'commitments.', 'also,', 'there', 'are', 'a', 'lot', 'of', 'wonderful', 'clubs,', 'but', 'you', \"shouldn't\", 'allocate', 'too', 'much', 'time', 'to', 'club', 'activities,', 'unless', 'they', 'are', 'directly', 'related', 'to', 'your', 'study.']\n",
      "\n",
      "H :  ['do', 'you', 'mind', 'taking', 'my', 'photo', 'with', 'the', 'statue', 'over', 'there', 'i', 'think', 'it', 'will', 'make', 'a', 'great', 'shot', 'sure', 'no', 'worries', \"you're\", 'always', 'taking', 'photos', 'what', 'to', 'do', 'with', 'all', 'the', 'photos', 'you', 'take', 'well', \"don't\", 'laugh', 'my', 'dream', 'is', 'to', 'become', 'an', 'online', 'celebrity', 'of', 'sorts', \"you're\", 'not', 'serious', 'are', 'you', 'i', 'am', 'completely'] \n",
      "R :  ['do', 'you', 'mind', 'taking', 'my', 'photo', 'with', 'the', 'statue', 'over', 'there?', 'i', 'think', 'it', 'will', 'make', 'a', 'great', 'shot.', 'sure,', 'no', 'worries.', \"you're\", 'always', 'taking', 'photos.', 'what', 'do', 'you', 'do', 'with', 'all', 'the', 'photos', 'you', 'take?', 'well,', \"don't\", 'laugh.', 'my', 'dream', 'is', 'to', 'become', 'an', 'online', 'celebrity', 'of', 'sorts.', 'you', 'are', 'not', 'serious,', 'are', 'you?', 'i', 'am,', 'completely.']\n",
      "\n",
      "H :  ['i', 'spent', 'all', 'last', 'weekend', 'researching', 'what', 'topics', 'are', 'popular', 'what', 'words', 'to', 'use', 'in', 'captions', 'and', 'similar', 'accounts', 'to', 'follow', 'it', 'really', 'was', 'a', 'lot', 'to', 'take', 'in', 'and', 'i', 'was', 'up', 'well', 'past', 'midnight', \"i'd\", 'say', \"it's\", 'paying', 'off', 'though', 'i', 'increase', 'the', 'number', 'of', 'people', 'following', 'my', 'counts', 'by', 'fifteen', 'percent', 'already', 'that', 'is', 'impressive'] \n",
      "R :  ['i', 'spent', 'all', 'last', 'weekend', 'researching', 'what', 'topics', 'are', 'popular,', 'what', 'words', 'to', 'use', 'in', 'captions', 'and', 'similar', 'accounts', 'to', 'follow.', 'it', 'really', 'was', 'a', 'lot', 'to', 'take', 'in.', 'and', 'i', 'was', 'up', 'well', 'past', 'midnight.', \"i'd\", 'say', \"it's\", 'paying', 'off', 'though.', 'i', 'increased', 'the', 'number', 'of', 'people', 'following', 'my', 'accounts', 'by', '15%', 'already.', 'that', 'is', 'impressive.']\n",
      "\n",
      "H :  ['well', \"i'm\", 'very', 'interested', 'in', 'why', 'the', 'universe', 'exists', 'a', 'toll', 'that', 'may', 'sound', 'old', 'but', 'the', 'fact', 'is', 'at', 'the', 'moment', 'of', 'the', 'big', 'bang', 'both', 'matter', 'and', 'antimatter', 'were', 'created', 'for', 'a', 'short', 'time', 'and', 'i', 'mean', 'just', 'a', 'fraction', 'of', 'a', 'second', 'the', 'whole', 'universe', 'was', 'a', 'super', 'hot', 'soup', 'of', 'radiation', 'filled', 'with', 'these', 'particles', 'so', \"what's\", 'baffled', 'scientists', 'for', 'so', 'long', \"he's\", 'why', 'is', 'there', 'a', 'universitas'] \n",
      "R :  ['well,', \"i'm\", 'very', 'interested', 'in', 'why', 'the', 'universe', 'exists', 'at', 'all.', 'that', 'may', 'sound', 'odd,', 'but', 'the', 'fact', 'is', 'at', 'the', 'moment', 'of', 'the', 'big', 'bang,', 'both', 'matter', 'and', 'anti-matter', 'were', 'created', 'for', 'a', 'short', 'time,', 'and', 'i', 'mean', 'just', 'a', 'fraction', 'of', 'a', 'second.', 'the', 'whole', 'universe', 'was', 'a', 'super-hot', 'soup', 'of', 'radiation', 'filled', 'with', 'these', 'particles.', 'so', \"what's\", 'baffled', 'scientists', 'for', 'so', 'long', 'is', '\"why', 'is', 'there', 'a', 'universe', 'at', 'all?\"']\n",
      "\n",
      "H :  ['but', 'a', 'recent', 'study', 'seems', 'to', 'point', 'to', 'the', 'fact', 'that', 'when', 'matter', 'and', 'anti', 'matter', 'were', 'first', 'created', 'there', 'were', 'slightly', 'more', 'particles', 'of', 'matter', 'which', 'a', 'lot', 'of', 'the', 'universe', 'we', 'all', 'live', 'in', 'to', 'form', 'exactly', 'because', 'there', 'was', 'slightly', 'more', 'matter', 'the', 'conditions', 'quickly', 'depleted', 'all', 'the', 'anti', 'matter', 'and', 'left', 'just', 'enough', 'matter', 'to', 'create', 'stars', 'planets', 'and', 'eventually', 'us'] \n",
      "R :  ['but', 'a', 'recent', 'study', 'seems', 'to', 'point', 'to', 'the', 'fact', 'that', 'when', 'matter', 'and', 'anti-matter', 'were', 'first', 'created,', 'there', 'were', 'slightly', 'more', 'particles', 'of', 'matter,', 'which', 'allowed', 'the', 'universe', 'we', 'all', 'live', 'in', 'to', 'form?', 'exactly.', 'because', 'there', 'was', 'slightly', 'more', 'matter,', 'the', 'collisions', 'quickly', 'depleted', 'all', 'the', 'anti-matter', 'and', 'left', 'just', 'enough', 'matter', 'to', 'create', 'stars,', 'planets', 'and', 'eventually', 'us.']\n",
      "\n",
      "H :  ['and', \"it's\", 'refreshing', 'to', 'see', 'a', 'strong', 'curious', 'clever', 'woman', 'adding', 'her', 'voice', 'to', 'the', 'scientific', 'discourse', 'and', 'i', 'feel', 'that', 'has', 'been', 'traditionally', 'dominated', 'by', 'men', 'i', 'think', 'she', 'is', 'to', 'be', 'commended', 'for', 'making', 'an', 'effort', 'to', 'include', 'anecdotes', 'about', 'little', 'known', 'female', 'scientists', 'you', 'know', 'they', 'were', 'often', 'victims', 'of', 'a', 'generation', 'firmly', 'convinced', 'that', 'the', \"woman's\", 'place', 'was', 'in', 'the', 'home'] \n",
      "R :  ['and', \"it's\", 'refreshing', 'to', 'see', 'a', 'strong,', 'curious,', 'clever', 'woman', 'adding', 'her', 'voice', 'to', 'the', 'scientific', 'discourse', 'in', 'a', 'field', 'that', 'has', 'been', 'traditionally', 'dominated', 'by', 'men.', 'i', 'think', 'she', 'is', 'to', 'be', 'commended', 'for', 'making', 'an', 'effort', 'to', 'include', 'anecdotes', 'about', 'little-known', 'female', 'scientists.', 'you', 'know,', 'they', 'were', 'often', 'victims', 'of', '\"a', 'generation', 'firmly', 'convinced', 'that', 'the', \"woman's\", 'place', 'was', 'in', 'the', 'home.\"']\n",
      "\n",
      "H :  ['i', 'like', 'how', 'she', 'cultivates', 'scientific', 'engagement', 'by', 'providing', 'a', 'host', 'of', 'do', 'it', 'yourself', 'experiments', 'that', 'bring', 'the', 'same', 'foundational', 'principles', 'of', 'classical', 'physics', 'that', 'govern', 'everything', 'from', 'the', 'solar', 'system', 'to', 'your', 'kitchen', 'table', 'from', 'using', 'complex', 'laws', 'of', 'physics', 'to', 'test', 'whether', 'a', 'spinning', 'egg', 'is', 'cooked', 'to', 'measuring', 'atmospheric', 'pressure', 'by', 'looking', 'a', 'piece', 'of', 'cardboard', 'her', 'hands', 'on', 'examples', 'make', 'her', 'book', 'a', 'truly', 'interactive', 'read'] \n",
      "R :  ['i', 'like', 'how', 'she', 'cultivates', 'scientific', 'engagement', 'by', 'providing', 'a', 'host', 'of', 'do-it-yourself', 'experiments', 'that', 'bring', 'the', 'same', 'foundational', 'principles', 'of', 'classical', 'physics', 'that', 'govern', 'everything', 'from', 'the', 'solar', 'system', 'to', 'your', 'kitchen', 'table.', 'from', 'using', 'complex', 'laws', 'of', 'physics', 'to', 'test', 'whether', 'a', 'spinning', 'egg', 'is', 'cooked', 'to', 'measuring', 'atmospheric', 'pressure', 'by', 'lifting', 'a', 'piece', 'of', 'cardboard,', 'her', 'hands-on', 'examples', 'make', 'her', 'book', 'a', 'truly', 'interactive', 'read.']\n",
      "\n",
      "H :  ['hi', 'professor', 'i', 'was', 'hoping', 'i', 'could', 'have', 'a', 'moment', 'of', 'your', 'time', 'if', \"you're\", 'not', 'too', 'busy', \"i'm\", 'having', 'some', 'problems', 'getting', 'started', 'on', 'my', 'dissertation', 'and', 'i', 'was', 'hoping', 'you', 'could', 'give', 'me', 'some', 'advice', 'on', 'how', 'to', 'begin', 'sure', 'i', 'have', 'quite', 'a', 'few', 'students', 'vote', 'so', 'can', 'you', 'remind', 'me', 'what', 'show', 'topic', 'is', 'the', 'general', 'topic', 'i', 'chose', 'this', 'aspects', 'but', \"that's\", 'as', 'far', 'as', 'i', 'thought', 'i', \"don't\", 'really', 'know', 'where', 'to', 'go', 'from', 'there', 'yeah', \"that's\", 'much', 'too', 'large', 'a', 'topic', 'you', 'really', 'need', 'to', 'narrow', 'it', 'down', 'in', 'order', 'to', 'make', 'it', 'more', 'accessible'] \n",
      "R :  ['hi,', 'professor.', 'i', 'was', 'hoping', 'i', 'could', 'have', 'a', 'moment', 'of', 'your', 'time', 'if', \"you're\", 'not', 'too', 'busy.', \"i'm\", 'having', 'some', 'problems', 'getting', 'started', 'on', 'my', 'dissertation,', 'and', 'i', 'was', 'hoping', 'you', 'could', 'give', 'me', 'some', 'advice', 'on', 'how', 'to', 'begin.', 'sure.', 'i', 'have', 'quite', 'a', 'few', 'students,', 'though.', 'so', 'can', 'you', 'remind', 'me', 'what', 'your', 'topic', 'is?', 'the', 'general', 'topic', 'i', 'chose', 'is', 'aesthetics,', 'but', \"that's\", 'as', 'far', 'as', \"i've\", 'got.', 'i', \"don't\", 'really', 'know', 'where', 'to', 'go', 'from', 'there.', 'yeah.', \"that's\", 'much', 'too', 'large', 'a', 'topic.', 'you', 'really', 'need', 'to', 'narrow', 'it', 'down', 'in', 'order', 'to', 'make', 'it', 'more', 'accessible.']\n",
      "\n",
      "H :  ['i', 'suggest', 'you', 'go', 'to', 'the', 'library', 'and', 'get', 'a', 'copy', 'of', 'his', 'biography', 'stop', 'from', 'there', 'the', 'tremendous', 'to', 'stick', 'to', 'the', 'parameters', 'of', 'the', 'assignment', 'this', 'paper', 'is', 'a', 'large', 'part', 'to', 'feel', 'cumulative', 'grade', 'so', 'make', 'sure', 'to', 'follow', 'the', 'instructions', 'you', 'take', 'a', 'look', 'at', 'his', 'biography', 'you', 'can', 'get', 'a', 'good', 'idea', 'of', 'how', 'his', 'life', 'experiences', 'manifest', 'themselves', 'in', 'his', 'theories', 'of', 'beauty', 'specifically', 'the', 'way', 'he', 'looked', 'towards', 'nature', 'as', 'the', 'origin', 'of', 'what', 'we', 'find', 'beautiful'] \n",
      "R :  ['i', 'suggest', 'you', 'go', 'to', 'the', 'library', 'and', 'get', 'a', 'copy', 'of', 'his', 'biography.', 'start', 'from', 'there,', 'but', 'remember', 'to', 'stick', 'to', 'the', 'parameters', 'of', 'the', 'assignment.', 'this', 'paper', 'is', 'a', 'large', 'part', 'of', 'your', 'cumulative', 'grade,', 'so', 'make', 'sure', 'to', 'follow', 'the', 'instructions.', 'if', 'you', 'take', 'a', 'look', 'at', 'his', 'biography,', 'you', 'can', 'get', 'a', 'good', 'idea', 'of', 'how', 'his', 'life', 'experiences', 'manifest', 'themselves', 'in', 'his', 'theories', 'of', 'beauty,', 'specifically', 'the', 'way', 'he', 'looked', 'towards', 'nature', 'as', 'the', 'origin', 'of', 'what', 'we', 'find', 'beautiful.']\n",
      "\n",
      "H :  ['welcome', 'hi', 'thanks', 'for', 'having', 'me', 'on', 'your', 'show', 'thank', 'you', 'for', 'joining', 'us', 'so', 'please', 'tell', 'us', 'why', 'did', 'you', 'decide', 'to', 'open', 'a', 'cafe', 'well', 'we', 'sold', 'the', 'opportunity', 'to', 'offer', 'something', 'a', 'little', 'special', 'and', 'different', 'from', 'other', 'establishments', 'cafes', 'certainly', 'are', 'a', 'very', 'competitive', 'market', 'sector', \"they're\", 'all', 'mold', 'and', 'plenty', 'in', 'our', 'city', 'and', 'we', 'felt', 'they', 'are', 'old', 'rather', 'similar', 'to', 'each', 'other', \"wouldn't\", 'you', 'agree'] \n",
      "R :  ['welcome!', 'hi,', 'thanks', 'for', 'having', 'me', 'on', 'your', 'show.', 'thank', 'you', 'for', 'joining', 'us.', 'so', 'please', 'tell', 'us,', 'why', 'did', 'you', 'decide', 'to', 'open', 'a', 'café?', 'well,', 'we', 'saw', 'the', 'opportunity', 'to', 'offer', 'something', 'a', 'little', 'special', 'and', 'different', 'from', 'other', 'establishments.', 'cafés', 'certainly', 'are', 'a', 'very', 'competitive', 'market', 'sector.', 'there', 'are', 'more', 'than', 'plenty', 'in', 'our', 'city,', 'and', 'we', 'felt', 'they', 'are', 'all', 'rather', 'similar', 'to', 'each', 'other.', \"wouldn't\", 'you', 'agree?']\n",
      "\n",
      "H :  ['rabbit', 'sound', 'very', 'peaceful', 'and', 'certainly', 'do', 'not', 'bite', 'furthermore', 'our', 'rabbits', 'are', 'regularly', 'cleaned', 'and', 'have', 'all', 'received', 'the', 'required', 'shots', 'so', 'there', 'is', 'no', 'health', 'risk', 'what', 'so', 'ever', 'as', 'for', 'our', 'customers', 'they', '%hesitation', 'animal', 'lovers', 'so', 'they', 'would', 'never', 'try', 'to', 'hit', 'the', 'rapids', 'sometimes', 'a', 'young', 'child', 'may', 'get', 'over', 'excited', 'and', 'be', 'a', 'little', 'too', 'rough', 'but', \"it's\", 'never', 'a', 'serious', 'matter'] \n",
      "R :  ['rabbits', 'are', 'very', 'peaceful', 'and', 'certainly', 'do', 'not', 'bite.', 'furthermore,', 'our', 'rabbits', 'are', 'regularly', 'cleaned', 'and', 'have', 'all', 'received', 'the', 'required', 'shots.', 'so', 'there', 'is', 'no', 'health', 'risk', 'whatsoever.', 'as', 'for', 'our', 'customers,', 'they', 'are', 'all', 'animal', 'lovers,', 'so', 'they', 'would', 'never', 'try', 'to', 'hurt', 'the', 'rabbits.', 'sometimes', 'a', 'young', 'child', 'may', 'get', 'over-excited,', 'and', 'they', 'are', 'a', 'little', 'too', 'rough,', 'but', \"it's\", 'never', 'a', 'serious', 'matter.']\n",
      "\n",
      "H :  ['hey', 'there', 'how', 'are', 'you', '%hesitation', 'hi', \"i'm\", 'great', 'thanks', 'and', 'you', 'look', 'great', 'too', 'thank', 'you', \"it's\", 'good', 'to', 'see', 'you', 'shopping', 'at', 'the', 'organic', 'section', 'i', 'see', \"you've\", 'got', 'lots', 'of', 'healthy', 'stuff', 'i', 'wish', 'i', 'could', 'buy', 'more', 'organic', 'produce', 'from', 'here', 'but', 'i', 'find', 'the', 'kids', \"don't\", 'like', 'it', 'i', \"don't\", 'know', 'about', 'yours', 'but', 'mine', 'are', 'all', 'about', 'junk', 'food', 'no', 'trust', 'me', 'i', 'know', 'exactly', 'how', 'you', 'feel', 'my', 'children', 'all', 'the', 'same'] \n",
      "R :  ['hey,', 'there.', 'how', 'are', 'you?', 'oh,', 'hi.', \"i'm\", 'great!', 'thanks.', 'and', 'you', 'look', 'great,', 'too.', 'thank', 'you.', \"it's\", 'good', 'to', 'see', 'you', 'shopping', 'at', 'the', 'organic', 'section.', 'i', 'see', \"you've\", 'got', 'lots', 'of', 'healthy', 'stuff.', 'i', 'wish', 'i', 'could', 'buy', 'more', 'organic', 'produce', 'from', 'here,', 'but', 'i', 'find', 'the', 'kids', \"don't\", 'like', 'it.', 'i', \"don't\", 'know', 'about', 'yours,', 'but', 'mine', 'are', 'all', 'about', 'junk', 'food.', 'oh,', 'trust', 'me!', 'i', 'know', 'exactly', 'how', 'you', 'feel.', 'my', 'children', 'are', 'the', 'same.']\n",
      "\n",
      "H :  ['what', 'is', 'it', 'with', 'kids', 'these', 'days', 'and', 'all', 'that', 'junk', 'food', 'they', 'eat', 'i', 'think', \"it's\", 'all', 'that', 'advertising', 'on', 'tv', \"that's\", 'where', 'they', 'get', 'it', 'yes', 'it', 'must', 'be', 'my', 'children', 'see', 'something', 'on', 'tv', 'and', 'they', 'immediately', 'want', 'it', \"it's\", 'like', 'they', \"don't\", 'realize', \"it's\", 'just', 'an', 'advertisement', 'right', 'and', 'practically', 'everything', 'that', 'sat', 'for', 'ties', 'for', 'children', 'is', 'unhealthy', 'processed', 'foods', 'no', 'surprise', 'then', 'it', 'becomes', 'a', 'bottle', 'for', 'us', 'parents', 'to', 'feed', 'our', 'children', 'ordinary', 'fruits', 'and', 'vegetables'] \n",
      "R :  ['what', 'is', 'it', 'with', 'kids', 'these', 'days', 'and', 'all', 'that', 'junk', 'food', 'they', 'eat?', 'i', 'think', \"it's\", 'all', 'that', 'advertising', 'on', 'tv.', \"that's\", 'where', 'they', 'get', 'it.', 'yes,', 'it', 'must', 'be.', 'my', 'children', 'see', 'something', 'on', 'tv', 'and', 'they', 'immediately', 'want', 'it.', \"it's\", 'like', 'they', \"don't\", 'realize', \"it's\", 'just', 'an', 'advertisement.', 'right.', 'and', 'practically', 'everything', \"that's\", 'advertised', 'for', 'children', 'is', 'unhealthy', 'processed', 'foods.', 'no', 'surprise', 'then', 'it', 'becomes', 'a', 'battle', 'for', 'us', 'parents', 'to', 'feed', 'our', 'children', 'ordinary', 'fruit', 'and', 'vegetables.']\n",
      "\n",
      "H :  [\"what's\", 'all', 'that', 'are', 'you', 'going', 'to', 'make', 'a', 'salad', 'no', \"i'm\", 'going', 'to', 'make', 'a', 'good', 'spot', 'show', \"what's\", 'that', 'despite', 'show', 'is', 'a', 'cold', 'soup', 'from', 'spain', \"it's\", 'mostly', 'vegetables', 'i', 'guess', 'you', 'could', 'call', 'it', 'a', 'liquid', 'solid', 'cold', 'soup', 'sounds', 'weird', \"it's\", 'delicious', 'trust', 'me'] \n",
      "R :  [\"what's\", 'all', 'that?', 'are', 'you', 'going', 'to', 'make', 'a', 'salad?', 'no,', \"i'm\", 'going', 'to', 'make', 'a', 'gazpacho.', \"what's\", 'that?', 'gazpacho', 'is', 'a', 'cold', 'soup', 'from', 'spain.', \"it's\", 'mostly', 'vegetables.', 'i', 'guess', 'you', 'could', 'call', 'it', 'a', 'liquid', 'salad.', 'cold', 'soup?', 'sounds', 'weird.', \"it's\", 'delicious.', 'trust', 'me.']\n",
      "\n",
      "H :  ['you', 'see', 'in', 'the', 'south', 'of', 'spain', 'it', 'gets', 'very', 'hot', 'in', 'the', 'summer', 'up', 'to', 'forty', 'degrees', 'celsius', 'so', 'a', 'cold', 'despacho', 'is', 'very', 'refreshing', 'the', 'main', 'ingredients', 'of', 'tomatoes', 'cucumber', 'bell', 'peppers', 'olive', 'oil', 'and', 'stale', 'bread', 'stale', 'bread', 'surely', 'you', 'mean', 'bradford', 'dipping', 'into', 'the', 'soup', 'no', 'bread', 'is', 'crushed', 'and', 'blended', 'in', 'like', 'everything', 'else', 'it', 'adds', 'texture', 'and', 'thickness', 'to', 'the', 'soup'] \n",
      "R :  ['you', 'see,', 'in', 'the', 'south', 'of', 'spain,', 'it', 'gets', 'very', 'hot', 'in', 'the', 'summer,', 'up', 'to', '40', 'degree', 'celsius.', 'so', 'a', 'cold', 'gazpacho', 'is', 'very', 'refreshing.', 'the', 'main', 'ingredients', 'are', 'tomato,', 'cucumber,', 'bell', 'peppers,', 'olive', 'oil', 'and', 'stale', 'bread.', 'stale', 'bread?', 'surely', 'you', 'mean', 'bread', 'for', 'dipping', 'into', 'the', 'soup?', 'no.', 'bread', 'is', 'crushed', 'and', 'blended', 'in', 'like', 'everything', 'else.', 'it', 'adds', 'texture', 'and', 'thickness', 'to', 'the', 'soup.']\n",
      "\n",
      "H :  ['hello', 'i', 'was', 'to', 'buy', 'a', 'bottle', 'of', 'wine', 'hi', 'yes', 'what', 'kind', 'of', 'wine', 'would', 'you', 'like', 'i', \"don't\", 'know', 'sorry', 'i', \"don't\", 'know', 'much', 'about', 'wine', \"that's\", 'no', 'problem', 'the', 'toll', \"what's\", 'the', 'occasion', 'and', 'how', 'much', 'would', 'you', 'like', 'to', 'spend', \"it's\", 'for', 'my', 'boss', \"it's\", 'his', 'birthday', 'i', 'know', 'he', 'likes', 'wine', 'but', 'i', \"don't\", 'know', 'what', 'type', 'i', 'also', 'do', 'not', 'want', 'anything', 'too', 'expensive', 'maybe', 'mid', 'range'] \n",
      "R :  ['hello,', 'i', 'wish', 'to', 'buy', 'a', 'bottle', 'of', 'wine.', 'hi,', 'yes.', 'what', 'kind', 'of', 'wine', 'would', 'you', 'like?', 'i', \"don't\", 'know.', 'sorry,', 'i', \"don't\", 'know', 'much', 'about', 'wine.', \"that's\", 'no', 'problem', 'at', 'all.', \"what's\", 'the', 'occasion', 'and', 'how', 'much', 'would', 'you', 'like', 'to', 'spend?', \"it's\", 'for', 'my', 'boss.', \"it's\", 'his', 'birthday.', 'i', 'know', 'he', 'likes', 'wine,', 'but', 'i', \"don't\", 'know', 'what', 'type.', 'i', 'also', 'do', 'not', 'want', 'anything', 'too', 'expensive,', 'maybe', 'mid-range.']\n",
      "\n",
      "H :  ['i', 'guess', 'something', 'in', 'the', 'vicinity', 'of', 'thirty', 'or', 'forty', 'would', 'be', 'good', 'which', 'type', 'would', 'you', 'recommend', 'i', 'would', 'say', 'the', 'safest', 'option', 'is', 'always', 'a', 'red', 'wine', 'they', 'are', 'generally', 'more', 'popular', 'than', 'whites', 'and', 'can', 'usually', 'be', 'paired', 'with', 'food', 'more', 'easily', 'our', 'specialty', 'here', '%hesitation', 'italian', 'wines', 'and', 'these', 'tend', 'to', 'be', 'fruity', 'with', 'medium', 'acidity'] \n",
      "R :  ['i', 'guess', 'something', 'in', 'the', 'vicinity', 'of', '30', 'or', '40', 'would', 'be', 'good.', 'which', 'type', 'would', 'you', 'recommend?', 'i', 'would', 'say', 'the', 'safest', 'option', 'is', 'always', 'a', 'red', 'wine.', 'they', 'are', 'generally', 'more', 'popular', 'than', 'whites,', 'and', 'can', 'usually', 'be', 'paired', 'with', 'food', 'more', 'easily.', 'our', 'specialty', 'here', 'are', 'italian', 'wines,', 'and', 'these', 'tend', 'to', 'be', 'fruity', 'with', 'medium', 'acidity.']\n",
      "\n",
      "H :  ['another', 'cup', 'of', 'tea', 'pull', 'no', 'thanks', 'well', \"what's\", 'new', 'laurie', 'nothing', 'dramatic', 'but', 'this', 'is', 'something', 'you', 'should', 'know', 'about', \"what's\", 'that', 'well', 'our', 'rivals', 'offering', 'extended', 'credit', 'terms', 'to', 'some', 'of', 'the', 'retailers', 'in', 'the', 'area', '%hesitation', '%hesitation', 'which', 'rivals', 'this', 'we', 'only', 'have', 'two', \"barrett's\", 'company'] \n",
      "R :  ['another', 'cup', 'of', 'tea,', 'paul?', 'no,', 'thanks.', 'well,', \"what's\", 'new,', 'lorry?', 'nothing', 'dramatic.', 'but', \"there's\", 'something', 'you', 'should', 'know', 'about.', \"what's\", 'that?', 'well,', 'our', 'rivals', 'are', 'offering', 'extended', 'credit', 'terms', 'to', 'some', 'of', 'the', 'retailers', 'in', 'the', 'area.', 'oh?', 'which', 'rival', 'is', 'this?', 'we', 'only', 'have', 'two.', \"barrett's\", 'company.']\n",
      "\n",
      "H :  [\"i've\", 'been', 'studying', 'the', 'possibility', 'and', 'i', 'think', 'we', 'should', 'give', 'it', 'a', 'go', \"it's\", 'not', 'as', 'easy', 'as', 'that', 'there', 'is', 'it', 'would', 'have', 'to', 'reorganize', 'the', 'whole', 'company', \"don't\", 'be', 'silly', 'i', \"don't\", 'intend', 'starting', 'next', 'week', 'what', 'the', 'planet', 'properly', 'and', 'of', 'course', \"they'll\", 'be', 'a', 'few', 'problems', 'few', 'problems', 'i', 'can', 'see', 'hundreds', 'for', 'one', 'thing', 'transport'] \n",
      "R :  [\"i've\", 'been', 'studying', 'the', 'possibility', 'and', 'i', 'think', 'we', 'should', 'give', 'it', 'a', 'go.', \"it's\", 'not', 'as', 'easy', 'as', 'that', 'though,', 'is', 'it?', \"we'd\", 'have', 'to', 'reorganize', 'the', 'whole', 'company.', \"don't\", 'be', 'silly.', 'i', \"don't\", 'intend', 'starting', 'next', 'week.', \"we'll\", 'have', 'to', 'plan', 'it', 'properly', 'and', 'of', 'course,', \"there'll\", 'be', 'a', 'few', 'problems.', 'a', 'few', 'problems?', 'i', 'can', 'see', 'hundreds!', 'for', 'one', 'thing,', 'transport.']\n",
      "\n",
      "H :  [\"you're\", 'all', 'going', 'to', 'give', 'a', 'short', 'speech', 'of', 'thanks', 'for', 'the', 'speaker', 'this', 'evening', 'on', 'to', 'bill', 'yes', 'you', \"don't\", 'sound', 'very', 'enthusiastic', \"it's\", 'not', 'that', 'bad', 'is', 'it', 'now', 'i', \"don't\", 'mind', 'really', 'but', 'i', 'can', 'never', 'forget', 'the', 'first', 'speech', 'of', 'thanks', 'i', 'did', 'what', 'you', 'what', 'happened', 'well', 'i', 'was', 'in', 'my', 'early', 'twenties'] \n",
      "R :  [\"you're\", 'going', 'to', 'give', 'a', 'short', 'speech', 'of', 'thanks', 'for', 'the', 'speaker', 'this', 'evening,', \"aren't\", 'you,', 'bill?', 'yes.', 'you', \"don't\", 'sound', 'very', 'enthusiastic.', \"it's\", 'not', 'that', 'bad,', 'is', 'it?', 'no,', 'i', \"don't\", 'mind', 'really.', 'but', 'i', 'can', 'never', 'forget', 'the', 'first', 'speech', 'of', 'thanks', 'i', 'did.', 'why?', 'what', 'happened?', 'well,', 'i', 'was', 'in', 'my', 'early', 'twenties.']\n",
      "\n",
      "H :  ['when', 'i', 'arrived', 'the', 'secretary', 'asked', 'me', 'if', 'i', 'could', 'give', 'the', 'speech', 'of', 'thanks', 'rather', 'stupidly', 'i', 'said', 'yes', \"we've\", 'all', 'done', 'it', 'anyway', 'from', 'that', 'point', 'on', 'i', 'was', 'scared', 'as', 'i', 'say', 'i', 'decided', 'to', 'make', 'notes', 'during', 'the', 'lecture', 'in', 'referred', 'to', 'interesting', 'parts', 'and', 'thank', 'her', 'on', 'behalf', 'of', 'the', 'society'] \n",
      "R :  ['when', 'i', 'arrived,', 'the', 'secretary', 'asked', 'me', 'if', 'i', 'could', 'give', 'the', 'speech', 'of', 'thanks.', 'rather', 'stupidly,', 'i', 'said', 'yes.', \"we've\", 'all', 'done', 'it.', 'anyway,', 'from', 'that', 'point', 'on,', 'i', 'was', 'scared.', 'what', 'should', 'i', 'say?', 'i', 'decided', 'to', 'make', 'notes', 'during', 'the', 'lecture', 'and', 'refer', 'to', 'interesting', 'parts', 'and', 'thank', 'her', 'on', 'behalf', 'of', 'the', 'society.']\n",
      "\n",
      "H :  ['this', 'week', 'the', 'italian', 'government', 'passed', 'legislation', 'that', 'aims', 'to', 'dramatically', 'reduce', 'the', 'amount', 'of', 'food', 'wasted', 'in', 'the', 'country', 'new', 'laws', 'have', 'been', 'put', 'into', 'place', 'that', 'will', 'make', 'it', 'easier', 'for', 'farms', 'in', 'supermarkets', 'to', 'donate', 'unsold', 'food', 'to', 'those', 'who', 'are', 'in', 'need', 'yes', 'in', 'addition', 'to', 'this', 'businesses', 'will', 'now', 'be', 'rewarded', 'for', 'successful', 'efforts', 'to', 'cut', 'food', 'waste'] \n",
      "R :  ['this', 'week', 'the', 'italian', 'government', 'passed', 'legislation', 'that', 'aimed', 'to', 'dramatically', 'reduce', 'the', 'amount', 'of', 'food', 'wasted', 'in', 'the', 'country.', 'new', 'laws', 'have', 'been', 'put', 'into', 'place', 'that', 'would', 'make', 'it', 'easier', 'for', 'farms', 'and', 'supermarkets', 'to', 'donate', 'unsold', 'foods', 'to', 'those', \"who're\", 'in', 'need.', 'yes.', 'in', 'addition', 'to', 'this,', 'businesses', 'will', 'now', 'be', 'rewarded', 'for', 'successful', 'efforts', 'to', 'cut', 'food', 'waste.']\n",
      "\n",
      "H :  ['in', 'the', 'united', 'states', 'up', 'to', 'forty', 'percent', 'of', 'all', 'food', 'goes', 'on', 'the', 'chin', 'despite', 'the', 'fact', 'that', 'one', 'in', 'seven', 'american', 'households', 'lacks', 'regular', 'access', 'to', 'good', 'food', 'one', 'major', 'cause', 'of', 'this', 'problem', 'is', 'the', 'confusion', 'over', 'food', 'expiration', 'labels', 'which', 'are', 'currently', 'not', 'regulated', 'by', 'the', 'government', 'all', 'this', 'could', 'change', 'soon'] \n",
      "R :  ['in', 'the', 'united', 'states,', 'up', 'to', 'forty', 'percent', 'of', 'all', 'food', 'goes', 'uneaten', 'despite', 'the', 'fact', 'that', 'one', 'in', 'seven', 'american', 'households', 'lacks', 'regular', 'access', 'to', 'good', 'food.', 'one', 'major', 'cause', 'of', 'this', 'problem', 'is', 'the', 'confusion', 'over', 'food', 'expiration', 'labels,', 'which', 'are', 'currently', 'not', 'regulated', 'by', 'the', 'government.', 'all', 'this', 'could', 'change', 'soon.']\n",
      "\n",
      "H :  ['how', 'can', 'i', 'be', 'of', 'assistance', 'to', 'you', 'today', 'hello', 'i', 'was', 'in', 'your', 'store', 'this', 'past', 'weekend', 'on', 'porch', 'a', 'few', 'items', 'yesterday', 'my', 'friend', 'told', 'me', 'that', 'the', 'annual', 'unofficially', 'sales', 'had', 'begun', 'it', 'turned', 'out', 'she', 'bought', 'the', 'same', 'sweaters', 'i', 'did', 'but', 'for', 'a', 'much', 'lower', 'price', 'yes', 'our', 'anniversary', 'sale', 'started', 'on', 'monday', 'we', 'do', 'offer', 'price', 'adjustments', 'within', 'seven', 'days', 'of', 'purchase', 'to', 'ensure', 'our', 'customer', 'satisfaction'] \n",
      "R :  ['how', 'can', 'i', 'be', 'of', 'assistance', 'to', 'you', 'today?', 'hello.', 'i', 'was', 'in', 'your', 'store', 'this', 'past', 'weekend', 'and', 'bought', 'a', 'few', 'items.', 'yesterday,', 'my', 'friend', 'told', 'me', 'that', 'the', 'annual', 'anniversary', \"sales'd\", 'begun.', 'it', 'turned', 'out', 'she', 'bought', 'the', 'same', 'sweater', 'as', 'i', 'did', 'but', 'for', 'a', 'much', 'lower', 'price.', 'yes.', 'our', 'anniversary', 'sales', 'started', 'on', 'monday.', 'we', 'do', 'offer', 'price', 'adjustments', 'within', 'seven', 'days', 'of', 'purchase', 'to', 'ensure', 'our', \"customers'\", 'satisfaction.']\n",
      "\n",
      "H :  ['the', 'trash', 'really', 'caught', 'my', 'eye', 'but', 'i', 'did', 'have', 'some', 'concerns', 'about', 'the', 'length', 'how', 'long', 'will', 'the', 'alterations', 'take', 'our', 'tailoring', 'department', 'guarantees', 'alterations', 'to', 'be', 'completed', 'within', 'five', 'working', 'days', 'if', \"you'd\", 'like', 'i', 'can', 'set', 'aside', 'for', 'you', 'if', \"you're\", 'able', 'to', 'come', 'in', 'this', 'afternoon', 'you', 'can', 'give', 'your', 'name', 'to', 'the', 'sales', 'manager', 'and', \"they'll\", 'be', 'able', 'to', 'assist', 'you'] \n",
      "R :  ['the', 'dress', 'really', 'caught', 'my', 'eye', 'but', 'i', 'did', 'have', 'some', 'concerns', 'about', 'the', 'length.', 'how', 'long', 'will', 'the', 'alterations', 'take?', 'our', 'tailoring', 'department', 'guarantees', 'alterations', 'to', 'be', 'completed', 'within', 'five', 'working', 'days.', 'if', 'you', 'like,', 'i', 'can', 'set', 'one', 'aside', 'for', 'you.', 'if', \"you're\", 'able', 'to', 'come', 'this', 'afternoon,', 'you', 'can', 'give', 'your', 'name', 'to', 'the', 'sales', 'manager', 'and', 'they', 'will', 'be', 'able', 'to', 'assist', 'you.']\n",
      "\n",
      "H :  ['have', 'you', 'ever', 'found', 'one', 'of', 'your', 'books', 'at', 'a', 'second', 'hand', 'bookstore', 'yes', 'that', 'kind', 'of', 'thing', 'is', 'difficult', 'if', \"they've\", 'got', 'my', 'book', 'that', 'i', 'think', 'well', 'this', 'is', 'an', 'insult', 'somebody', \"didn't\", 'want', 'to', 'keep', 'my', 'book', 'but', 'if', \"it's\", 'not', 'that', 'i', 'feel', \"it's\", 'an', 'insult', 'to', 'i', 'think', 'why', \"aren't\", 'people', 'exchanging', 'my', 'book', 'why', \"isn't\", 'it', 'in', 'this', 'store'] \n",
      "R :  ['have', 'you', 'ever', 'found', 'one', 'of', 'your', 'books', 'at', 'a', 'second-hand', 'bookstore?', 'yes.', 'that', 'kind', 'of', 'thing', 'is', 'difficult.', 'if', \"they've\", 'got', 'my', 'book', 'there,', 'i', 'think', '\"well,', 'this', 'is', 'an', 'insult!', 'somebody', \"didn't\", 'want', 'to', 'keep', 'my', 'book.\"', 'but', 'if', \"it's\", 'not', 'there,', 'i', 'feel', \"it's\", 'an', 'insult', 'too.', 'i', 'think,', '\"why', \"aren't\", 'people', 'exchanging', 'my', 'book?', 'why', \"isn't\", 'it', 'in', 'this', 'store?\"']\n",
      "\n",
      "H :  ['what', 'does', 'it', 'feel', 'like', 'when', 'you', 'finally', 'finish', 'a', 'book', \"it's\", 'funny', 'you', 'ask', 'that', 'because', 'i', 'never', 'have', 'this', 'moment', 'when', 'i', 'feel', 'i', 'finished', 'i', 'watch', 'football', 'is', 'at', 'the', 'end', 'of', 'the', 'match', 'you', 'know', 'the', 'whistle', 'goes', 'and', \"they've\", 'won', 'or', 'lost', 'until', 'then', \"they've\", 'been', 'giving', 'everything', 'they', 'have', 'and', 'at', 'that', 'moment', 'they', 'know', \"it's\", 'over', \"it's\", 'funny', 'for', 'unlawful', \"there's\", 'never', 'a', 'finishing', 'whistle'] \n",
      "R :  ['what', 'does', 'it', 'feel', 'like', 'when', 'you', 'finally', 'finish', 'a', 'book?', \"it's\", 'funny', 'you', 'ask', 'that,', 'because', 'i', 'never', 'have', 'this', 'moment', 'when', 'i', 'feel', '\"ah,', \"i've\", 'finished!\"', 'i', 'watch', 'footballers', 'at', 'the', 'end', 'of', 'the', 'match,', 'you', 'know;', 'the', 'whistle', 'goes', 'and', \"they've\", 'won', 'or', 'lost.', 'until', 'then,', \"they've\", 'been', 'giving', 'everything', 'they', 'have,', 'and', 'at', 'that', 'moment', 'they', 'know', \"it's\", 'over.', \"it's\", 'funny', 'for', 'an', 'author.', \"there's\", 'never', 'a', 'finishing', 'whistle.']\n",
      "\n",
      "H :  ['and', \"what's\", 'really', 'bad', 'about', 'this', 'is', 'these', 'athletes', 'are', 'supposedly', 'promised', 'at', 'least', 'one', 'thing', 'as', 'a', 'reward', 'for', 'all', 'that', 'blood', 'and', 'sweat', 'and', 'that', 'is', 'a', 'college', 'degree', 'which', 'can', 'be', 'a', 'transformative', 'tool', 'in', 'our', 'society', 'when', 'you', 'talk', 'about', 'up', 'with', 'mobility', 'and', \"that's\", 'really', 'the', 'troubling', 'part', 'about', 'this'] \n",
      "R :  ['and', \"what's\", 'really', 'bad', 'about', 'this', 'is', 'these', 'athletes', 'are', 'supposedly', 'promised', 'at', 'least', 'one', 'thing', 'as', 'reward', 'for', 'all', 'their', 'blood', 'and', 'sweat.', 'and', 'that', 'is', 'a', 'college', 'degree,', 'which', 'can', 'be', 'a', 'transformative', 'tool', 'in', 'our', 'society', 'when', 'you', 'talk', 'about', 'upward', 'mobility.', 'and', \"that's\", 'really', 'the', 'troubling', 'part', 'about', 'this.']\n",
      "\n",
      "H :  ['well', 'this', 'is', 'been', 'talked', 'about', 'so', 'much', 'really', 'in', 'recent', 'years', 'why', \"hasn't\", 'it', 'changed', 'well', 'i', 'think', 'one', 'of', 'the', 'reasons', 'it', \"hasn't\", 'changed', 'is', 'because', \"there's\", 'really', 'no', 'economic', 'pressure', 'to', 'change', 'this', 'all', 'of', 'the', 'incentive', 'is', 'really', 'on', 'winning', \"i'm\", 'not', 'losing', 'on', 'the', 'field', 'all', 'on', 'the', 'court'] \n",
      "R :  ['well,', 'this', 'has', 'been', 'talked', 'about', 'so', 'much,', 'really,', 'in', 'recent', 'years.', 'why', \"hasn't\", 'changed?', 'well,', 'i', 'think', 'one', 'of', 'the', 'reasons', 'it', \"hasn't\", 'changed', 'is', 'because', 'there', 'is', 'really', 'no', 'economic', 'pressure', 'to', 'change', 'this.', 'all', 'of', 'the', 'incentive', 'is', 'really', 'on', 'winning', 'and', 'not', 'losing', 'on', 'the', 'field', 'or', 'on', 'the', 'court.']\n",
      "\n",
      "H :  ['the', 'most', 'important', 'factor', 'for', 'the', 'majority', 'of', 'the', 'people', 'interviewed', 'was', 'having', 'friendly', 'supportive', 'colleagues', 'in', 'fact', 'seventy', 'three', 'percent', 'of', 'people', 'interviewed', 'but', 'their', 'relationship', 'with', 'colleagues', 'as', 'the', 'key', 'factor', 'contributing', 'to', 'happiness', 'at', 'work', 'which', 'is', 'a', 'very', 'high', 'percentage', 'the', 'second', 'most', 'important', 'factor', 'was', 'having', 'work', 'that', 'is', 'enjoyable', 'the', 'two', 'least', 'important', 'fact', 'is', 'what', 'having', \"one's\", 'achievements', 'recognized', 'and', 'rather', 'surprisingly', 'earning', 'a', 'competitive', 'salary'] \n",
      "R :  ['the', 'most', 'important', 'factor', 'for', 'the', 'majority', 'of', 'the', 'people', 'interviewed', 'was', 'having', 'friendly,', 'supportive', 'colleagues.', 'in', 'fact,', '73%', 'of', 'people', 'interviewed', 'put', 'their', 'relationship', 'with', 'colleagues', 'as', 'the', 'key', 'factor', 'contributing', 'to', 'happiness', 'at', 'work,', 'which', 'is', 'a', 'very', 'high', 'percentage.', 'the', 'second', 'most', 'important', 'factor', 'was', 'having', 'work', 'that', 'is', 'enjoyable.', 'the', 'two', 'least', 'important', 'factors', 'were', 'having', \"one's\", 'achievements', 'recognized,', 'and', 'rather', 'surprisingly,', 'earning', 'a', 'competitive', 'salary.']\n",
      "\n",
      "H :  ['first', 'of', 'all', 'small', 'is', 'beautiful', 'people', 'definitely', 'prefer', '%hesitation', 'working', 'for', 'smaller', 'organizations', 'all', 'companies', 'with', 'less', 'than', 'one', 'hundred', 'staff', 'we', 'also', 'find', 'out', 'that', 'generally', 'speaking', 'women', 'were', 'happier', 'in', 'vail', 'working', 'than', 'men', 'yes', 'we', 'are', 'i', 'tweet', 'and', 'workers', 'on', 'part', 'time', 'contracts', 'who', 'only', 'work', 'four', 'or', 'five', 'hours', 'a', 'day', 'all', 'happier', 'than', 'those', 'who', 'work', 'full', 'time', 'the', 'researchers', 'concluded', 'that', 'this', 'is', 'probably', 'due', 'to', 'a', 'better', 'work', 'life', 'balance'] \n",
      "R :  ['first', 'of', 'all,', 'small', 'is', 'beautiful:', 'people', 'definitely', 'prefer', 'working', 'for', 'smaller', 'organizations', 'or', 'companies', 'with', 'less', 'than', '100', 'staff.', 'we', 'also', 'find', 'out', 'that,', 'generally', 'speaking,', 'women', 'were', 'happier', 'in', 'their', 'work', 'than', 'men.', 'yes,', 'we', 'are,', \"aren't\", 'we?', 'and', 'workers', 'on', 'part-time', 'contracts,', 'who', 'only', 'work', '4', 'or', '5', 'hours', 'a', 'day,', 'are', 'happier', 'than', 'those', 'who', 'work', 'full-time.', 'the', 'researchers', 'concluded', 'that', 'this', 'is', 'probably', 'due', 'to', 'a', 'better', 'work-life', 'balance.']\n",
      "\n",
      "H :  ['as', 'there', 'have', 'been', 'numerous', 'alarming', 'articles', 'in', 'the', 'press', 'about', 'a', 'climate', 'catastrophe', 'waiting', 'to', 'happen', 'i', 'started', 'looking', 'at', 'the', 'sea', 'and', 'the', 'beach', 'very', 'differently', 'a', 'place', 'where', 'i', 'spent', 'so', 'many', 'perfect', 'days', 'as', 'a', 'child', 'this', 'fear', 'of', 'a', 'looming', 'danger', 'became', 'the', 'subject', 'of', 'a', 'large', 'scale', 'photo', 'project'] \n",
      "R :  ['as', 'there', 'had', 'been', 'numerous', 'alarming', 'articles', 'in', 'the', 'press', 'about', 'a', 'climate', 'catastrophe', 'waiting', 'to', 'happen,', 'i', 'started', 'looking', 'at', 'the', 'sea', 'and', 'the', 'beach', 'very', 'differently,', 'a', 'place', 'where', 'i', 'spent', 'so', 'many', 'perfect', 'days', 'as', 'a', 'child.', 'this', 'fear', 'of', 'a', 'looming', 'danger', 'became', 'the', 'subject', 'of', 'a', 'large-scale', 'photo', 'project.']\n",
      "\n",
      "H :  ['you', 'wrote', 'in', 'the', 'book', 'i', \"don't\", 'want', 'to', 'photograph', 'the', 'disaster', 'i', 'want', 'to', 'photograph', 'the', 'disaster', 'waiting', 'to', 'happen', 'can', 'you', 'talk', 'a', 'bit', 'about', 'that', 'it', 'is', 'clear', 'now', 'that', \"it's\", 'a', 'matter', 'of', 'time', 'before', 'the', 'entire', 'european', 'coastline', 'disappears', 'on', 'the', 'water', 'the', 'same', 'goes', 'for', 'numerous', 'big', 'cities', 'around', 'the', 'world', 'my', 'idea', 'was', 'to', 'photograph', 'this', 'beautiful', 'and', 'very', 'unique', 'coastline', 'rich', 'in', 'history', 'before', \"it's\", 'too', 'late'] \n",
      "R :  ['you', 'wrote', 'in', 'the', 'book:', '\"i', \"don't\", 'want', 'to', 'photograph', 'the', 'disaster,', 'i', 'want', 'to', 'photograph', 'the', 'disaster', 'waiting', 'to', 'happen.\"', 'can', 'you', 'talk', 'a', 'bit', 'about', 'that?', 'it', 'is', 'clear', 'now', 'that', 'it', 'is', 'a', 'matter', 'of', 'time', 'before', 'the', 'entire', 'european', 'coastline', 'disappears', 'under', 'water.', 'the', 'same', 'goes', 'for', 'numerous', 'big', 'cities', 'around', 'the', 'world.', 'my', 'idea', 'was', 'to', 'photograph', 'this', 'beautiful', 'and', 'very', 'unique', 'coastline,', 'rich', 'in', 'history,', 'before', \"it's\", 'too', 'late.']\n"
     ]
    }
   ],
   "source": [
    "import nltk\n",
    "\n",
    "score = []\n",
    "for i in range(60):\n",
    "    path = './audio-dataset-original/script/{:02d}.txt'.format(i)\n",
    "    with open(path, 'rb') as f:\n",
    "        content = f.read()\n",
    "    hypothesis = t[i].lower().split()\n",
    "    reference = content.decode(\"utf-8\").lower().split()\n",
    "    print('\\nH : ',hypothesis,'\\nR : ', reference)\n",
    "    score.append(nltk.translate.bleu_score.sentence_bleu([reference], hypothesis))"
   ]
  },
  {
   "cell_type": "code",
   "execution_count": 36,
   "metadata": {},
   "outputs": [
    {
     "data": {
      "text/plain": [
       "[0.7274290767093706,\n",
       " 0.492915432118856,\n",
       " 0.4107151597508399,\n",
       " 0.5164450895620817,\n",
       " 0.6601471514970486,\n",
       " 0.39517400412210424,\n",
       " 0.7124460052538042,\n",
       " 0.5979226523837871,\n",
       " 0.6636401568711127,\n",
       " 0.8153267377810411,\n",
       " 0.4328449318834761,\n",
       " 0.6081458248498196,\n",
       " 0.3582530252528475,\n",
       " 0.43389944516008566,\n",
       " 0.4732168864220515,\n",
       " 0.6766344217663032,\n",
       " 0.5407064737567411,\n",
       " 0.5100811755433624,\n",
       " 0.561683882527365,\n",
       " 0.7938808725068086,\n",
       " 0.674764047426616,\n",
       " 0.6467858482478354,\n",
       " 0.4488927385736374,\n",
       " 0.4422196211918999,\n",
       " 0.7124143956802569,\n",
       " 0.5686460282916778,\n",
       " 0.6146173091200448,\n",
       " 0.6010500715663932,\n",
       " 0.4989069267616085,\n",
       " 0.6072008877337386,\n",
       " 0.5804119599885152,\n",
       " 0.5601748457840768,\n",
       " 0.6623534652001009,\n",
       " 0.7687733733486887,\n",
       " 0.6713521223400671,\n",
       " 0.6994058434139427,\n",
       " 0.509912574869912,\n",
       " 0.5032851685318795,\n",
       " 0.5001228886048199,\n",
       " 0.61686319467225,\n",
       " 0.40689861405344235,\n",
       " 0.4071202389660163,\n",
       " 0.4807027483774105,\n",
       " 0.6080698466079524,\n",
       " 0.3338655846362722,\n",
       " 0.4464755043402638,\n",
       " 0.5087693068733115,\n",
       " 0.5232120708113935,\n",
       " 0.6257071787002288,\n",
       " 0.704974623612474,\n",
       " 0.5942560827418836,\n",
       " 0.611660770146301,\n",
       " 0.51364049854983,\n",
       " 0.5614313513396189,\n",
       " 0.7051131884308224,\n",
       " 0.5330650883960754,\n",
       " 0.5728687946960941,\n",
       " 0.3587512670106027,\n",
       " 0.7405299576202526,\n",
       " 0.6323032349376864]"
      ]
     },
     "execution_count": 36,
     "metadata": {},
     "output_type": "execute_result"
    }
   ],
   "source": [
    "score"
   ]
  },
  {
   "cell_type": "code",
   "execution_count": 3,
   "metadata": {},
   "outputs": [
    {
     "name": "stdout",
     "output_type": "stream",
     "text": [
      "without the data set the article is useless \n"
     ]
    }
   ],
   "source": [
    "with open('./sample-000000.wav', 'rb') as audio_file:\n",
    "    response = speech_to_text.recognize(audio=audio_file, content_type='audio/wav', model='en-US_BroadbandModel').get_result()\n",
    "    transcript = ''.join([sentence['alternatives'][0]['transcript'] for sentence in response['results']])\n",
    "    print(transcript)"
   ]
  },
  {
   "cell_type": "code",
   "execution_count": 10,
   "metadata": {},
   "outputs": [
    {
     "name": "stdout",
     "output_type": "stream",
     "text": [
      "without the data set the article is useless \n"
     ]
    }
   ],
   "source": [
    "with open('./adv-1.wav', 'rb') as audio_file:\n",
    "    adv_200_response = speech_to_text.recognize(audio=audio_file, content_type='audio/wav', model='en-US_BroadbandModel').get_result()\n",
    "    adv_200_transcript = ''.join([sentence['alternatives'][0]['transcript'] for sentence in adv_200_response['results']])\n",
    "    print(adv_200_transcript)"
   ]
  },
  {
   "cell_type": "code",
   "execution_count": 7,
   "metadata": {},
   "outputs": [
    {
     "name": "stdout",
     "output_type": "stream",
     "text": [
      "without the data set the article is useless \n"
     ]
    }
   ],
   "source": [
    "with open('./adv-2.wav', 'rb') as audio_file:\n",
    "    adv_1000_response = speech_to_text.recognize(audio=audio_file, content_type='audio/wav', model='en-US_BroadbandModel').get_result()\n",
    "    adv_1000_transcript = ''.join([sentence['alternatives'][0]['transcript'] for sentence in adv_1000_response['results']])\n",
    "    print(adv_1000_transcript)"
   ]
  },
  {
   "cell_type": "code",
   "execution_count": 11,
   "metadata": {},
   "outputs": [
    {
     "name": "stdout",
     "output_type": "stream",
     "text": [
      "Writing ./short-audio/1-IBM.txt...\n",
      "Writing ./short-audio/2-IBM.txt...\n",
      "Writing ./short-audio/3-IBM.txt...\n",
      "Writing ./short-audio/4-IBM.txt...\n",
      "Writing ./short-audio/5-IBM.txt...\n",
      "Writing ./short-audio/6-IBM.txt...\n",
      "Writing ./short-audio/7-IBM.txt...\n",
      "Writing ./short-audio/8-IBM.txt...\n",
      "Writing ./short-audio/9-IBM.txt...\n"
     ]
    }
   ],
   "source": [
    "import os\n",
    "\n",
    "for i in range(1, 10):\n",
    "    path = './short-audio/{0}.wav'.format(i)\n",
    "    with open(path, 'rb') as audio_file:\n",
    "        response = speech_to_text.recognize(audio=audio_file, content_type='audio/wav', model='en-US_BroadbandModel').get_result()\n",
    "        transcript = ''.join([sentence['alternatives'][0]['transcript'] for sentence in response['results']])\n",
    "        transcript_path = './short-audio/{0}-IBM.txt'.format(i)\n",
    "        with open(transcript_path, 'wt') as transcript_file:\n",
    "            print('Writing {0}...'.format(transcript_path))\n",
    "            transcript_file.write(transcript)"
   ]
  },
  {
   "cell_type": "code",
   "execution_count": 12,
   "metadata": {},
   "outputs": [
    {
     "name": "stdout",
     "output_type": "stream",
     "text": [
      "Writing ./attack_audio/1-IBM.txt...\n",
      "Writing ./attack_audio/2-IBM.txt...\n",
      "Writing ./attack_audio/3-IBM.txt...\n",
      "Writing ./attack_audio/4-IBM.txt...\n",
      "Writing ./attack_audio/5-IBM.txt...\n",
      "Writing ./attack_audio/6-IBM.txt...\n",
      "Writing ./attack_audio/7-IBM.txt...\n",
      "Writing ./attack_audio/8-IBM.txt...\n",
      "Writing ./attack_audio/9-IBM.txt...\n"
     ]
    }
   ],
   "source": [
    "import os\n",
    "\n",
    "for i in range(1, 10):\n",
    "    path = './attack_audio/{0}.wav'.format(i)\n",
    "    with open(path, 'rb') as audio_file:\n",
    "        response = speech_to_text.recognize(audio=audio_file, content_type='audio/wav', model='en-US_BroadbandModel').get_result()\n",
    "        transcript = ''.join([sentence['alternatives'][0]['transcript'] for sentence in response['results']])\n",
    "        transcript_path = './attack_audio/{0}-IBM.txt'.format(i)\n",
    "        with open(transcript_path, 'wt') as transcript_file:\n",
    "            print('Writing {0}...'.format(transcript_path))\n",
    "            transcript_file.write(transcript)"
   ]
  },
  {
   "cell_type": "code",
   "execution_count": 13,
   "metadata": {},
   "outputs": [],
   "source": [
    "t = []\n",
    "for i in range(1, 10):\n",
    "    path = './short-audio/{0}.txt'.format(i)\n",
    "    with open(path, 'rt') as f:\n",
    "        t.append(f.read().replace('\\n', ' '))"
   ]
  },
  {
   "cell_type": "code",
   "execution_count": 15,
   "metadata": {},
   "outputs": [
    {
     "data": {
      "text/plain": [
       "['THE MORE SHE IS ENGAGED IN HER PROPER DUTIES THE LESS LEISURE WILL SHE HAVE FOR IT EVEN AS AN ACCOMPLISHMENT AND A RECREATION',\n",
       " 'AND HENCE WE FIND THE SAME SORT OF CLUMSINESS IN THE TIMAEUS OF PLATO WHICH CHARACTERIZES THE PHILOSOPHICAL POEM OF LUCRETIUS',\n",
       " 'ALTHOUGH THE BRETHREN WITH ME ARE NOT APOSTLES LIKE MYSELF YET THEY ARE ALL OF ONE MIND WITH ME THINK WRITE AND TEACH AS I DO',\n",
       " 'THERE MAY BE A SPECIFIC FEELING WHICH COULD BE CALLED THE FEELING OF PASTNESS ESPECIALLY WHERE IMMEDIATE MEMORY IS CONCERNED',\n",
       " 'HE OBTAINED THE DESIRED SPEED AND LOAD WITH A FRICTION BRAKE ALSO REGULATOR OF SPEED BUT WAITED FOR AN INDICATOR TO VERIFY IT',\n",
       " 'BY QUICK MARCHES THROUGH THESE INACCESSIBLE MOUNTAINS THAT GENERAL FREED HIMSELF FROM THE SUPERIOR FORCES OF THE COVENANTERS',\n",
       " 'HAVE YOUR WILL CHILD IF THE BOY ALSO WILLS IT MONTFICHET ANSWERED FEELING TOO ILL TO OPPOSE ANYTHING VERY STRONGLY JUST THEN',\n",
       " 'A LITTLE CRACKED THAT IN THE POPULAR PHRASE WAS MY IMPRESSION OF THE STRANGER WHO NOW MADE HIS APPEARANCE IN THE SUPPER ROOM',\n",
       " 'THE LOG AND THE COMPASS THEREFORE WERE ABLE TO BE CALLED UPON TO DO THE WORK OF THE SEXTANT WHICH HAD BECOME UTTERLY USELESS']"
      ]
     },
     "execution_count": 15,
     "metadata": {},
     "output_type": "execute_result"
    }
   ],
   "source": [
    "t"
   ]
  },
  {
   "cell_type": "code",
   "execution_count": 16,
   "metadata": {},
   "outputs": [],
   "source": [
    "import nltk\n",
    "\n",
    "original_score = []\n",
    "attacked_score = []\n",
    "for i in range(1, 10):\n",
    "    original_path = './short-audio/{0}-IBM.txt'.format(i)\n",
    "    with open(original_path, 'rt') as f:\n",
    "        original_content = f.read()\n",
    "    attacked_path = './attack_audio/{0}-IBM.txt'.format(i)\n",
    "    with open(attacked_path, 'rt') as f:\n",
    "        attacked_content = f.read()\n",
    "    hypothesis = t[i - 1].lower().split()\n",
    "    original_reference = original_content.lower().split()\n",
    "    attacked_reference = attacked_content.lower().split()\n",
    "    original_score.append(nltk.translate.bleu_score.sentence_bleu([original_reference], hypothesis))\n",
    "    attacked_score.append(nltk.translate.bleu_score.sentence_bleu([attacked_reference], hypothesis))"
   ]
  },
  {
   "cell_type": "code",
   "execution_count": 17,
   "metadata": {},
   "outputs": [
    {
     "data": {
      "text/plain": [
       "[0.7641254083103469,\n",
       " 0.8253498772794055,\n",
       " 0.4263550771707511,\n",
       " 0.44165207979058124,\n",
       " 0.5933067045090704,\n",
       " 1.0,\n",
       " 0.7395409589871963,\n",
       " 0.8318180062062374,\n",
       " 0.8971148504974097]"
      ]
     },
     "execution_count": 17,
     "metadata": {},
     "output_type": "execute_result"
    }
   ],
   "source": [
    "original_score"
   ]
  },
  {
   "cell_type": "code",
   "execution_count": 18,
   "metadata": {},
   "outputs": [
    {
     "data": {
      "text/plain": [
       "[0.7641254083103469,\n",
       " 0.5097960527136183,\n",
       " 0.3788588014103525,\n",
       " 0.5744888426961038,\n",
       " 0.6333686667931249,\n",
       " 0.9391044157537525,\n",
       " 0.7395409589871963,\n",
       " 0.6248651455191909,\n",
       " 0.8971148504974097]"
      ]
     },
     "execution_count": 18,
     "metadata": {},
     "output_type": "execute_result"
    }
   ],
   "source": [
    "attacked_score"
   ]
  },
  {
   "cell_type": "code",
   "execution_count": 20,
   "metadata": {},
   "outputs": [
    {
     "name": "stdout",
     "output_type": "stream",
     "text": [
      "and hence we find the same sort of clumsiness in the two mayors of Plato which characterizes the philosophical poem of Lucretius \n",
      "Writing ./attacked_2-script-IBM.txt...\n",
      "although the brother in with me or not apostles like myself yet they're all of one mind with me think right teachers I do \n",
      "Writing ./attacked_3-script-IBM.txt...\n"
     ]
    }
   ],
   "source": [
    "import os\n",
    "\n",
    "for i in range(2, 4):\n",
    "    path = './attacked_{0}.wav'.format(i)\n",
    "    with open(path, 'rb') as audio_file:\n",
    "        response = speech_to_text.recognize(audio=audio_file, content_type='audio/wav', model='en-US_BroadbandModel').get_result()\n",
    "        transcript = ''.join([sentence['alternatives'][0]['transcript'] for sentence in response['results']])\n",
    "        print(transcript)\n",
    "        transcript_path = './attacked_{0}-script-IBM.txt'.format(i)\n",
    "        with open(transcript_path, 'wt') as transcript_file:\n",
    "            print('Writing {0}...'.format(transcript_path))\n",
    "            transcript_file.write(transcript)"
   ]
  },
  {
   "cell_type": "code",
   "execution_count": 21,
   "metadata": {},
   "outputs": [],
   "source": [
    "import nltk\n",
    "\n",
    "original_score = []\n",
    "attacked_score = []\n",
    "for i in range(2, 4):\n",
    "    original_path = './short-audio/{0}-IBM.txt'.format(i)\n",
    "    with open(original_path, 'rt') as f:\n",
    "        original_content = f.read()\n",
    "    attacked_path = './attacked_{0}-script-IBM.txt'.format(i)\n",
    "    with open(attacked_path, 'rt') as f:\n",
    "        attacked_content = f.read()\n",
    "    hypothesis = t[i - 1].lower().split()\n",
    "    original_reference = original_content.lower().split()\n",
    "    attacked_reference = attacked_content.lower().split()\n",
    "    original_score.append(nltk.translate.bleu_score.sentence_bleu([original_reference], hypothesis))\n",
    "    attacked_score.append(nltk.translate.bleu_score.sentence_bleu([attacked_reference], hypothesis))"
   ]
  },
  {
   "cell_type": "code",
   "execution_count": 22,
   "metadata": {},
   "outputs": [
    {
     "name": "stdout",
     "output_type": "stream",
     "text": [
      "[0.8253498772794055, 0.4263550771707511]\n",
      "[0.8253498772794055, 0.4206308920964752]\n"
     ]
    }
   ],
   "source": [
    "print(original_score)\n",
    "print(attacked_score)"
   ]
  },
  {
   "cell_type": "code",
   "execution_count": 4,
   "metadata": {},
   "outputs": [
    {
     "name": "stdout",
     "output_type": "stream",
     "text": [
      "he obtained the desired speed and loaded with the friction break also regulator speed but waited for an indicator to verify it \n"
     ]
    }
   ],
   "source": [
    "path = '../LibriSpeech/test-clean/2300/131720/2300-131720-0015.wav'\n",
    "with open(path, 'rb') as audio_file:\n",
    "    response = speech_to_text.recognize(audio=audio_file, content_type='audio/wav', model='en-US_BroadbandModel').get_result()\n",
    "    transcript = ''.join([sentence['alternatives'][0]['transcript'] for sentence in response['results']])\n",
    "    print(transcript)"
   ]
  },
  {
   "cell_type": "code",
   "execution_count": 7,
   "metadata": {},
   "outputs": [
    {
     "name": "stdout",
     "output_type": "stream",
     "text": [
      "he obtained the desired speed and loaded with a fortune break also regulator speed but waiting for an indicator to verify \n"
     ]
    }
   ],
   "source": [
    "path = '../air/original.wav'\n",
    "with open(path, 'rb') as audio_file:\n",
    "    response = speech_to_text.recognize(audio=audio_file, content_type='audio/wav', model='en-US_BroadbandModel').get_result()\n",
    "    transcript = ''.join([sentence['alternatives'][0]['transcript'] for sentence in response['results']])\n",
    "    print(transcript)"
   ]
  },
  {
   "cell_type": "code",
   "execution_count": 2,
   "metadata": {},
   "outputs": [
    {
     "name": "stdout",
     "output_type": "stream",
     "text": [
      "he is the desired stream the researchers also regular what what for him to \n"
     ]
    }
   ],
   "source": [
    "path = '../LibriSpeech/test-clean/2300/131720/2300-131720-0015_robust_perturb_stage2.wav'\n",
    "with open(path, 'rb') as audio_file:\n",
    "    response = speech_to_text.recognize(audio=audio_file, content_type='audio/wav', model='en-US_BroadbandModel').get_result()\n",
    "    transcript = ''.join([sentence['alternatives'][0]['transcript'] for sentence in response['results']])\n",
    "    print(transcript)"
   ]
  },
  {
   "cell_type": "code",
   "execution_count": 6,
   "metadata": {},
   "outputs": [
    {
     "name": "stdout",
     "output_type": "stream",
     "text": [
      "the desire HD researchers also regulators when we were in the \n"
     ]
    }
   ],
   "source": [
    "path = '../air/robust_perturb.wav'\n",
    "with open(path, 'rb') as audio_file:\n",
    "    response = speech_to_text.recognize(audio=audio_file, content_type='audio/wav', model='en-US_BroadbandModel').get_result()\n",
    "    transcript = ''.join([sentence['alternatives'][0]['transcript'] for sentence in response['results']])\n",
    "    print(transcript)"
   ]
  },
  {
   "cell_type": "code",
   "execution_count": 3,
   "metadata": {},
   "outputs": [
    {
     "name": "stdout",
     "output_type": "stream",
     "text": [
      "we \n"
     ]
    }
   ],
   "source": [
    "path = '../LibriSpeech/test-clean/2300/131720/2300-131720-0015_robust_speechrir_stage2.wav'\n",
    "with open(path, 'rb') as audio_file:\n",
    "    response = speech_to_text.recognize(audio=audio_file, content_type='audio/wav', model='en-US_BroadbandModel').get_result()\n",
    "    transcript = ''.join([sentence['alternatives'][0]['transcript'] for sentence in response['results']])\n",
    "    print(transcript)"
   ]
  },
  {
   "cell_type": "code",
   "execution_count": 5,
   "metadata": {},
   "outputs": [
    {
     "name": "stdout",
     "output_type": "stream",
     "text": [
      "why is she in all right \n"
     ]
    }
   ],
   "source": [
    "path = '../air/robust_speechrir.wav'\n",
    "with open(path, 'rb') as audio_file:\n",
    "    response = speech_to_text.recognize(audio=audio_file, content_type='audio/wav', model='en-US_BroadbandModel').get_result()\n",
    "    transcript = ''.join([sentence['alternatives'][0]['transcript'] for sentence in response['results']])\n",
    "    print(transcript)"
   ]
  },
  {
   "cell_type": "code",
   "execution_count": 8,
   "metadata": {},
   "outputs": [
    {
     "name": "stdout",
     "output_type": "stream",
     "text": [
      "2: \n",
      "s: \n",
      "s1: \n",
      "s3: \n"
     ]
    }
   ],
   "source": [
    "files = ['2', 's', 's1', 's3']\n",
    "\n",
    "for file in files:\n",
    "    path = '../paper2018/attacked/{0}.wav'.format(file)\n",
    "    with open(path, 'rb') as audio_file:\n",
    "        response = speech_to_text.recognize(audio=audio_file, content_type='audio/wav', model='en-US_BroadbandModel').get_result()\n",
    "        transcript = ''.join([sentence['alternatives'][0]['transcript'] for sentence in response['results']])\n",
    "        print('{0}: {1}'.format(file, transcript))"
   ]
  },
  {
   "cell_type": "code",
   "execution_count": 2,
   "metadata": {},
   "outputs": [
    {
     "name": "stdout",
     "output_type": "stream",
     "text": [
      "temp0: for calling right Cleveland \n",
      "yey0: for calling right Cleveland \n",
      "yey0-copy: \n",
      "yey0-copy2: \n"
     ]
    }
   ],
   "source": [
    "files = ['temp0', 'yey0', 'yey0-copy', 'yey0-copy2']\n",
    "\n",
    "for file in files:\n",
    "    path = 'test-audio/{0}.wav'.format(file)\n",
    "    with open(path, 'rb') as audio_file:\n",
    "        response = speech_to_text.recognize(audio=audio_file, content_type='audio/wav', model='en-US_BroadbandModel').get_result()\n",
    "        transcript = ''.join([sentence['alternatives'][0]['transcript'] for sentence in response['results']])\n",
    "        print('{0}: {1}'.format(file, transcript))"
   ]
  },
  {
   "cell_type": "code",
   "execution_count": 2,
   "metadata": {},
   "outputs": [
    {
     "name": "stdout",
     "output_type": "stream",
     "text": [
      "temp0-air: right \n",
      "yey0-air: \n"
     ]
    }
   ],
   "source": [
    "files = ['temp0-air', 'yey0-air']\n",
    "\n",
    "for file in files:\n",
    "    path = 'test-audio/{0}.wav'.format(file)\n",
    "    with open(path, 'rb') as audio_file:\n",
    "        response = speech_to_text.recognize(audio=audio_file, content_type='audio/wav', model='en-US_BroadbandModel').get_result()\n",
    "        transcript = ''.join([sentence['alternatives'][0]['transcript'] for sentence in response['results']])\n",
    "        print('{0}: {1}'.format(file, transcript))"
   ]
  },
  {
   "cell_type": "code",
   "execution_count": 3,
   "metadata": {},
   "outputs": [
    {
     "name": "stdout",
     "output_type": "stream",
     "text": [
      "s: thank you for right \n"
     ]
    }
   ],
   "source": [
    "files = ['s']\n",
    "\n",
    "for file in files:\n",
    "    path = 'test-audio/{0}.wav'.format(file)\n",
    "    with open(path, 'rb') as audio_file:\n",
    "        response = speech_to_text.recognize(audio=audio_file, content_type='audio/wav', model='en-US_BroadbandModel').get_result()\n",
    "        transcript = ''.join([sentence['alternatives'][0]['transcript'] for sentence in response['results']])\n",
    "        print('{0}: {1}'.format(file, transcript))"
   ]
  },
  {
   "cell_type": "code",
   "execution_count": 4,
   "metadata": {},
   "outputs": [
    {
     "name": "stdout",
     "output_type": "stream",
     "text": [
      "s2: it's quite the thing for the two mail Plato right \n"
     ]
    }
   ],
   "source": [
    "files = ['s2']\n",
    "\n",
    "for file in files:\n",
    "    path = 'test-audio/{0}.wav'.format(file)\n",
    "    with open(path, 'rb') as audio_file:\n",
    "        response = speech_to_text.recognize(audio=audio_file, content_type='audio/wav', model='en-US_BroadbandModel').get_result()\n",
    "        transcript = ''.join([sentence['alternatives'][0]['transcript'] for sentence in response['results']])\n",
    "        print('{0}: {1}'.format(file, transcript))"
   ]
  },
  {
   "cell_type": "code",
   "execution_count": 6,
   "metadata": {},
   "outputs": [
    {
     "name": "stdout",
     "output_type": "stream",
     "text": [
      "yey0-new: find the thing for me is way to characterize the philosophical core one \n",
      "yey0-new2: they claim to fame for the two near Waco right hello doctor for one \n"
     ]
    }
   ],
   "source": [
    "files = ['yey0-new', 'yey0-new2']\n",
    "\n",
    "for file in files:\n",
    "    path = 'test-audio/{0}.wav'.format(file)\n",
    "    with open(path, 'rb') as audio_file:\n",
    "        response = speech_to_text.recognize(audio=audio_file, content_type='audio/wav', model='en-US_BroadbandModel').get_result()\n",
    "        transcript = ''.join([sentence['alternatives'][0]['transcript'] for sentence in response['results']])\n",
    "        print('{0}: {1}'.format(file, transcript))"
   ]
  },
  {
   "cell_type": "code",
   "execution_count": 8,
   "metadata": {},
   "outputs": [
    {
     "name": "stdout",
     "output_type": "stream",
     "text": [
      "s-new: we find the same sort of the two males Plato to rise in the philosophical Cologne creation \n",
      "s-new2: we find the same sort of close to me is the way to characterize the philosophical Colin Mochrie should \n"
     ]
    }
   ],
   "source": [
    "files = ['s-new', 's-new2']\n",
    "\n",
    "for file in files:\n",
    "    path = 'test-audio/{0}.wav'.format(file)\n",
    "    with open(path, 'rb') as audio_file:\n",
    "        response = speech_to_text.recognize(audio=audio_file, content_type='audio/wav', model='en-US_BroadbandModel').get_result()\n",
    "        transcript = ''.join([sentence['alternatives'][0]['transcript'] for sentence in response['results']])\n",
    "        print('{0}: {1}'.format(file, transcript))"
   ]
  },
  {
   "cell_type": "code",
   "execution_count": 4,
   "metadata": {},
   "outputs": [
    {
     "name": "stdout",
     "output_type": "stream",
     "text": [
      "s2-new: we find the same sort of clothes in the to me is the way to characterize the philosophical Colin Mochrie should \n",
      "yey0-new3: we find the same sort of clothes in the to me is the Plato which characterizes the philosophical Colin Mochrie should \n"
     ]
    },
    {
     "name": "stderr",
     "output_type": "stream",
     "text": [
      "ERROR:root:Error in service call\n",
      "Traceback (most recent call last):\n",
      "  File \"/Users/xinyi/opt/anaconda3/envs/cloudml/lib/python3.6/site-packages/urllib3/response.py\", line 685, in _update_chunk_length\n",
      "    self.chunk_left = int(line, 16)\n",
      "ValueError: invalid literal for int() with base 16: b''\n",
      "\n",
      "During handling of the above exception, another exception occurred:\n",
      "\n",
      "Traceback (most recent call last):\n",
      "  File \"/Users/xinyi/opt/anaconda3/envs/cloudml/lib/python3.6/site-packages/urllib3/response.py\", line 425, in _error_catcher\n",
      "    yield\n",
      "  File \"/Users/xinyi/opt/anaconda3/envs/cloudml/lib/python3.6/site-packages/urllib3/response.py\", line 752, in read_chunked\n",
      "    self._update_chunk_length()\n",
      "  File \"/Users/xinyi/opt/anaconda3/envs/cloudml/lib/python3.6/site-packages/urllib3/response.py\", line 689, in _update_chunk_length\n",
      "    raise httplib.IncompleteRead(line)\n",
      "http.client.IncompleteRead: IncompleteRead(0 bytes read)\n",
      "\n",
      "During handling of the above exception, another exception occurred:\n",
      "\n",
      "Traceback (most recent call last):\n",
      "  File \"/Users/xinyi/opt/anaconda3/envs/cloudml/lib/python3.6/site-packages/requests/models.py\", line 750, in generate\n",
      "    for chunk in self.raw.stream(chunk_size, decode_content=True):\n",
      "  File \"/Users/xinyi/opt/anaconda3/envs/cloudml/lib/python3.6/site-packages/urllib3/response.py\", line 560, in stream\n",
      "    for line in self.read_chunked(amt, decode_content=decode_content):\n",
      "  File \"/Users/xinyi/opt/anaconda3/envs/cloudml/lib/python3.6/site-packages/urllib3/response.py\", line 781, in read_chunked\n",
      "    self._original_response.close()\n",
      "  File \"/Users/xinyi/opt/anaconda3/envs/cloudml/lib/python3.6/contextlib.py\", line 99, in __exit__\n",
      "    self.gen.throw(type, value, traceback)\n",
      "  File \"/Users/xinyi/opt/anaconda3/envs/cloudml/lib/python3.6/site-packages/urllib3/response.py\", line 443, in _error_catcher\n",
      "    raise ProtocolError(\"Connection broken: %r\" % e, e)\n",
      "urllib3.exceptions.ProtocolError: ('Connection broken: IncompleteRead(0 bytes read)', IncompleteRead(0 bytes read))\n",
      "\n",
      "During handling of the above exception, another exception occurred:\n",
      "\n",
      "Traceback (most recent call last):\n",
      "  File \"/Users/xinyi/opt/anaconda3/envs/cloudml/lib/python3.6/site-packages/ibm_cloud_sdk_core/base_service.py\", line 136, in send\n",
      "    response = requests.request(**request, cookies=self.jar, **kwargs)\n",
      "  File \"/Users/xinyi/opt/anaconda3/envs/cloudml/lib/python3.6/site-packages/requests/api.py\", line 60, in request\n",
      "    return session.request(method=method, url=url, **kwargs)\n",
      "  File \"/Users/xinyi/opt/anaconda3/envs/cloudml/lib/python3.6/site-packages/requests/sessions.py\", line 533, in request\n",
      "    resp = self.send(prep, **send_kwargs)\n",
      "  File \"/Users/xinyi/opt/anaconda3/envs/cloudml/lib/python3.6/site-packages/requests/sessions.py\", line 686, in send\n",
      "    r.content\n",
      "  File \"/Users/xinyi/opt/anaconda3/envs/cloudml/lib/python3.6/site-packages/requests/models.py\", line 828, in content\n",
      "    self._content = b''.join(self.iter_content(CONTENT_CHUNK_SIZE)) or b''\n",
      "  File \"/Users/xinyi/opt/anaconda3/envs/cloudml/lib/python3.6/site-packages/requests/models.py\", line 753, in generate\n",
      "    raise ChunkedEncodingError(e)\n",
      "requests.exceptions.ChunkedEncodingError: ('Connection broken: IncompleteRead(0 bytes read)', IncompleteRead(0 bytes read))\n"
     ]
    },
    {
     "ename": "ChunkedEncodingError",
     "evalue": "('Connection broken: IncompleteRead(0 bytes read)', IncompleteRead(0 bytes read))",
     "output_type": "error",
     "traceback": [
      "\u001b[0;31m---------------------------------------------------------------------------\u001b[0m",
      "\u001b[0;31mValueError\u001b[0m                                Traceback (most recent call last)",
      "\u001b[0;32m~/opt/anaconda3/envs/cloudml/lib/python3.6/site-packages/urllib3/response.py\u001b[0m in \u001b[0;36m_update_chunk_length\u001b[0;34m(self)\u001b[0m\n\u001b[1;32m    684\u001b[0m         \u001b[0;32mtry\u001b[0m\u001b[0;34m:\u001b[0m\u001b[0;34m\u001b[0m\u001b[0;34m\u001b[0m\u001b[0m\n\u001b[0;32m--> 685\u001b[0;31m             \u001b[0mself\u001b[0m\u001b[0;34m.\u001b[0m\u001b[0mchunk_left\u001b[0m \u001b[0;34m=\u001b[0m \u001b[0mint\u001b[0m\u001b[0;34m(\u001b[0m\u001b[0mline\u001b[0m\u001b[0;34m,\u001b[0m \u001b[0;36m16\u001b[0m\u001b[0;34m)\u001b[0m\u001b[0;34m\u001b[0m\u001b[0;34m\u001b[0m\u001b[0m\n\u001b[0m\u001b[1;32m    686\u001b[0m         \u001b[0;32mexcept\u001b[0m \u001b[0mValueError\u001b[0m\u001b[0;34m:\u001b[0m\u001b[0;34m\u001b[0m\u001b[0;34m\u001b[0m\u001b[0m\n",
      "\u001b[0;31mValueError\u001b[0m: invalid literal for int() with base 16: b''",
      "\nDuring handling of the above exception, another exception occurred:\n",
      "\u001b[0;31mIncompleteRead\u001b[0m                            Traceback (most recent call last)",
      "\u001b[0;32m~/opt/anaconda3/envs/cloudml/lib/python3.6/site-packages/urllib3/response.py\u001b[0m in \u001b[0;36m_error_catcher\u001b[0;34m(self)\u001b[0m\n\u001b[1;32m    424\u001b[0m             \u001b[0;32mtry\u001b[0m\u001b[0;34m:\u001b[0m\u001b[0;34m\u001b[0m\u001b[0;34m\u001b[0m\u001b[0m\n\u001b[0;32m--> 425\u001b[0;31m                 \u001b[0;32myield\u001b[0m\u001b[0;34m\u001b[0m\u001b[0;34m\u001b[0m\u001b[0m\n\u001b[0m\u001b[1;32m    426\u001b[0m \u001b[0;34m\u001b[0m\u001b[0m\n",
      "\u001b[0;32m~/opt/anaconda3/envs/cloudml/lib/python3.6/site-packages/urllib3/response.py\u001b[0m in \u001b[0;36mread_chunked\u001b[0;34m(self, amt, decode_content)\u001b[0m\n\u001b[1;32m    751\u001b[0m             \u001b[0;32mwhile\u001b[0m \u001b[0;32mTrue\u001b[0m\u001b[0;34m:\u001b[0m\u001b[0;34m\u001b[0m\u001b[0;34m\u001b[0m\u001b[0m\n\u001b[0;32m--> 752\u001b[0;31m                 \u001b[0mself\u001b[0m\u001b[0;34m.\u001b[0m\u001b[0m_update_chunk_length\u001b[0m\u001b[0;34m(\u001b[0m\u001b[0;34m)\u001b[0m\u001b[0;34m\u001b[0m\u001b[0;34m\u001b[0m\u001b[0m\n\u001b[0m\u001b[1;32m    753\u001b[0m                 \u001b[0;32mif\u001b[0m \u001b[0mself\u001b[0m\u001b[0;34m.\u001b[0m\u001b[0mchunk_left\u001b[0m \u001b[0;34m==\u001b[0m \u001b[0;36m0\u001b[0m\u001b[0;34m:\u001b[0m\u001b[0;34m\u001b[0m\u001b[0;34m\u001b[0m\u001b[0m\n",
      "\u001b[0;32m~/opt/anaconda3/envs/cloudml/lib/python3.6/site-packages/urllib3/response.py\u001b[0m in \u001b[0;36m_update_chunk_length\u001b[0;34m(self)\u001b[0m\n\u001b[1;32m    688\u001b[0m             \u001b[0mself\u001b[0m\u001b[0;34m.\u001b[0m\u001b[0mclose\u001b[0m\u001b[0;34m(\u001b[0m\u001b[0;34m)\u001b[0m\u001b[0;34m\u001b[0m\u001b[0;34m\u001b[0m\u001b[0m\n\u001b[0;32m--> 689\u001b[0;31m             \u001b[0;32mraise\u001b[0m \u001b[0mhttplib\u001b[0m\u001b[0;34m.\u001b[0m\u001b[0mIncompleteRead\u001b[0m\u001b[0;34m(\u001b[0m\u001b[0mline\u001b[0m\u001b[0;34m)\u001b[0m\u001b[0;34m\u001b[0m\u001b[0;34m\u001b[0m\u001b[0m\n\u001b[0m\u001b[1;32m    690\u001b[0m \u001b[0;34m\u001b[0m\u001b[0m\n",
      "\u001b[0;31mIncompleteRead\u001b[0m: IncompleteRead(0 bytes read)",
      "\nDuring handling of the above exception, another exception occurred:\n",
      "\u001b[0;31mProtocolError\u001b[0m                             Traceback (most recent call last)",
      "\u001b[0;32m~/opt/anaconda3/envs/cloudml/lib/python3.6/site-packages/requests/models.py\u001b[0m in \u001b[0;36mgenerate\u001b[0;34m()\u001b[0m\n\u001b[1;32m    749\u001b[0m                 \u001b[0;32mtry\u001b[0m\u001b[0;34m:\u001b[0m\u001b[0;34m\u001b[0m\u001b[0;34m\u001b[0m\u001b[0m\n\u001b[0;32m--> 750\u001b[0;31m                     \u001b[0;32mfor\u001b[0m \u001b[0mchunk\u001b[0m \u001b[0;32min\u001b[0m \u001b[0mself\u001b[0m\u001b[0;34m.\u001b[0m\u001b[0mraw\u001b[0m\u001b[0;34m.\u001b[0m\u001b[0mstream\u001b[0m\u001b[0;34m(\u001b[0m\u001b[0mchunk_size\u001b[0m\u001b[0;34m,\u001b[0m \u001b[0mdecode_content\u001b[0m\u001b[0;34m=\u001b[0m\u001b[0;32mTrue\u001b[0m\u001b[0;34m)\u001b[0m\u001b[0;34m:\u001b[0m\u001b[0;34m\u001b[0m\u001b[0;34m\u001b[0m\u001b[0m\n\u001b[0m\u001b[1;32m    751\u001b[0m                         \u001b[0;32myield\u001b[0m \u001b[0mchunk\u001b[0m\u001b[0;34m\u001b[0m\u001b[0;34m\u001b[0m\u001b[0m\n",
      "\u001b[0;32m~/opt/anaconda3/envs/cloudml/lib/python3.6/site-packages/urllib3/response.py\u001b[0m in \u001b[0;36mstream\u001b[0;34m(self, amt, decode_content)\u001b[0m\n\u001b[1;32m    559\u001b[0m         \u001b[0;32mif\u001b[0m \u001b[0mself\u001b[0m\u001b[0;34m.\u001b[0m\u001b[0mchunked\u001b[0m \u001b[0;32mand\u001b[0m \u001b[0mself\u001b[0m\u001b[0;34m.\u001b[0m\u001b[0msupports_chunked_reads\u001b[0m\u001b[0;34m(\u001b[0m\u001b[0;34m)\u001b[0m\u001b[0;34m:\u001b[0m\u001b[0;34m\u001b[0m\u001b[0;34m\u001b[0m\u001b[0m\n\u001b[0;32m--> 560\u001b[0;31m             \u001b[0;32mfor\u001b[0m \u001b[0mline\u001b[0m \u001b[0;32min\u001b[0m \u001b[0mself\u001b[0m\u001b[0;34m.\u001b[0m\u001b[0mread_chunked\u001b[0m\u001b[0;34m(\u001b[0m\u001b[0mamt\u001b[0m\u001b[0;34m,\u001b[0m \u001b[0mdecode_content\u001b[0m\u001b[0;34m=\u001b[0m\u001b[0mdecode_content\u001b[0m\u001b[0;34m)\u001b[0m\u001b[0;34m:\u001b[0m\u001b[0;34m\u001b[0m\u001b[0;34m\u001b[0m\u001b[0m\n\u001b[0m\u001b[1;32m    561\u001b[0m                 \u001b[0;32myield\u001b[0m \u001b[0mline\u001b[0m\u001b[0;34m\u001b[0m\u001b[0;34m\u001b[0m\u001b[0m\n",
      "\u001b[0;32m~/opt/anaconda3/envs/cloudml/lib/python3.6/site-packages/urllib3/response.py\u001b[0m in \u001b[0;36mread_chunked\u001b[0;34m(self, amt, decode_content)\u001b[0m\n\u001b[1;32m    780\u001b[0m             \u001b[0;32mif\u001b[0m \u001b[0mself\u001b[0m\u001b[0;34m.\u001b[0m\u001b[0m_original_response\u001b[0m\u001b[0;34m:\u001b[0m\u001b[0;34m\u001b[0m\u001b[0;34m\u001b[0m\u001b[0m\n\u001b[0;32m--> 781\u001b[0;31m                 \u001b[0mself\u001b[0m\u001b[0;34m.\u001b[0m\u001b[0m_original_response\u001b[0m\u001b[0;34m.\u001b[0m\u001b[0mclose\u001b[0m\u001b[0;34m(\u001b[0m\u001b[0;34m)\u001b[0m\u001b[0;34m\u001b[0m\u001b[0;34m\u001b[0m\u001b[0m\n\u001b[0m\u001b[1;32m    782\u001b[0m \u001b[0;34m\u001b[0m\u001b[0m\n",
      "\u001b[0;32m~/opt/anaconda3/envs/cloudml/lib/python3.6/contextlib.py\u001b[0m in \u001b[0;36m__exit__\u001b[0;34m(self, type, value, traceback)\u001b[0m\n\u001b[1;32m     98\u001b[0m             \u001b[0;32mtry\u001b[0m\u001b[0;34m:\u001b[0m\u001b[0;34m\u001b[0m\u001b[0;34m\u001b[0m\u001b[0m\n\u001b[0;32m---> 99\u001b[0;31m                 \u001b[0mself\u001b[0m\u001b[0;34m.\u001b[0m\u001b[0mgen\u001b[0m\u001b[0;34m.\u001b[0m\u001b[0mthrow\u001b[0m\u001b[0;34m(\u001b[0m\u001b[0mtype\u001b[0m\u001b[0;34m,\u001b[0m \u001b[0mvalue\u001b[0m\u001b[0;34m,\u001b[0m \u001b[0mtraceback\u001b[0m\u001b[0;34m)\u001b[0m\u001b[0;34m\u001b[0m\u001b[0;34m\u001b[0m\u001b[0m\n\u001b[0m\u001b[1;32m    100\u001b[0m             \u001b[0;32mexcept\u001b[0m \u001b[0mStopIteration\u001b[0m \u001b[0;32mas\u001b[0m \u001b[0mexc\u001b[0m\u001b[0;34m:\u001b[0m\u001b[0;34m\u001b[0m\u001b[0;34m\u001b[0m\u001b[0m\n",
      "\u001b[0;32m~/opt/anaconda3/envs/cloudml/lib/python3.6/site-packages/urllib3/response.py\u001b[0m in \u001b[0;36m_error_catcher\u001b[0;34m(self)\u001b[0m\n\u001b[1;32m    442\u001b[0m                 \u001b[0;31m# This includes IncompleteRead.\u001b[0m\u001b[0;34m\u001b[0m\u001b[0;34m\u001b[0m\u001b[0;34m\u001b[0m\u001b[0m\n\u001b[0;32m--> 443\u001b[0;31m                 \u001b[0;32mraise\u001b[0m \u001b[0mProtocolError\u001b[0m\u001b[0;34m(\u001b[0m\u001b[0;34m\"Connection broken: %r\"\u001b[0m \u001b[0;34m%\u001b[0m \u001b[0me\u001b[0m\u001b[0;34m,\u001b[0m \u001b[0me\u001b[0m\u001b[0;34m)\u001b[0m\u001b[0;34m\u001b[0m\u001b[0;34m\u001b[0m\u001b[0m\n\u001b[0m\u001b[1;32m    444\u001b[0m \u001b[0;34m\u001b[0m\u001b[0m\n",
      "\u001b[0;31mProtocolError\u001b[0m: ('Connection broken: IncompleteRead(0 bytes read)', IncompleteRead(0 bytes read))",
      "\nDuring handling of the above exception, another exception occurred:\n",
      "\u001b[0;31mChunkedEncodingError\u001b[0m                      Traceback (most recent call last)",
      "\u001b[0;32m<ipython-input-4-f7b54551226d>\u001b[0m in \u001b[0;36m<module>\u001b[0;34m\u001b[0m\n\u001b[1;32m      4\u001b[0m     \u001b[0mpath\u001b[0m \u001b[0;34m=\u001b[0m \u001b[0;34m'test-audio/{0}.wav'\u001b[0m\u001b[0;34m.\u001b[0m\u001b[0mformat\u001b[0m\u001b[0;34m(\u001b[0m\u001b[0mfile\u001b[0m\u001b[0;34m)\u001b[0m\u001b[0;34m\u001b[0m\u001b[0;34m\u001b[0m\u001b[0m\n\u001b[1;32m      5\u001b[0m     \u001b[0;32mwith\u001b[0m \u001b[0mopen\u001b[0m\u001b[0;34m(\u001b[0m\u001b[0mpath\u001b[0m\u001b[0;34m,\u001b[0m \u001b[0;34m'rb'\u001b[0m\u001b[0;34m)\u001b[0m \u001b[0;32mas\u001b[0m \u001b[0maudio_file\u001b[0m\u001b[0;34m:\u001b[0m\u001b[0;34m\u001b[0m\u001b[0;34m\u001b[0m\u001b[0m\n\u001b[0;32m----> 6\u001b[0;31m         \u001b[0mresponse\u001b[0m \u001b[0;34m=\u001b[0m \u001b[0mspeech_to_text\u001b[0m\u001b[0;34m.\u001b[0m\u001b[0mrecognize\u001b[0m\u001b[0;34m(\u001b[0m\u001b[0maudio\u001b[0m\u001b[0;34m=\u001b[0m\u001b[0maudio_file\u001b[0m\u001b[0;34m,\u001b[0m \u001b[0mcontent_type\u001b[0m\u001b[0;34m=\u001b[0m\u001b[0;34m'audio/wav'\u001b[0m\u001b[0;34m,\u001b[0m \u001b[0mmodel\u001b[0m\u001b[0;34m=\u001b[0m\u001b[0;34m'en-US_BroadbandModel'\u001b[0m\u001b[0;34m)\u001b[0m\u001b[0;34m.\u001b[0m\u001b[0mget_result\u001b[0m\u001b[0;34m(\u001b[0m\u001b[0;34m)\u001b[0m\u001b[0;34m\u001b[0m\u001b[0;34m\u001b[0m\u001b[0m\n\u001b[0m\u001b[1;32m      7\u001b[0m         \u001b[0mtranscript\u001b[0m \u001b[0;34m=\u001b[0m \u001b[0;34m''\u001b[0m\u001b[0;34m.\u001b[0m\u001b[0mjoin\u001b[0m\u001b[0;34m(\u001b[0m\u001b[0;34m[\u001b[0m\u001b[0msentence\u001b[0m\u001b[0;34m[\u001b[0m\u001b[0;34m'alternatives'\u001b[0m\u001b[0;34m]\u001b[0m\u001b[0;34m[\u001b[0m\u001b[0;36m0\u001b[0m\u001b[0;34m]\u001b[0m\u001b[0;34m[\u001b[0m\u001b[0;34m'transcript'\u001b[0m\u001b[0;34m]\u001b[0m \u001b[0;32mfor\u001b[0m \u001b[0msentence\u001b[0m \u001b[0;32min\u001b[0m \u001b[0mresponse\u001b[0m\u001b[0;34m[\u001b[0m\u001b[0;34m'results'\u001b[0m\u001b[0;34m]\u001b[0m\u001b[0;34m]\u001b[0m\u001b[0;34m)\u001b[0m\u001b[0;34m\u001b[0m\u001b[0;34m\u001b[0m\u001b[0m\n\u001b[1;32m      8\u001b[0m         \u001b[0mprint\u001b[0m\u001b[0;34m(\u001b[0m\u001b[0;34m'{0}: {1}'\u001b[0m\u001b[0;34m.\u001b[0m\u001b[0mformat\u001b[0m\u001b[0;34m(\u001b[0m\u001b[0mfile\u001b[0m\u001b[0;34m,\u001b[0m \u001b[0mtranscript\u001b[0m\u001b[0;34m)\u001b[0m\u001b[0;34m)\u001b[0m\u001b[0;34m\u001b[0m\u001b[0;34m\u001b[0m\u001b[0m\n",
      "\u001b[0;32m~/opt/anaconda3/envs/cloudml/lib/python3.6/site-packages/ibm_watson/speech_to_text_v1.py\u001b[0m in \u001b[0;36mrecognize\u001b[0;34m(self, audio, content_type, model, language_customization_id, acoustic_customization_id, base_model_version, customization_weight, inactivity_timeout, keywords, keywords_threshold, max_alternatives, word_alternatives_threshold, word_confidence, timestamps, profanity_filter, smart_formatting, speaker_labels, customization_id, grammar_name, redaction, audio_metrics, **kwargs)\u001b[0m\n\u001b[1;32m    435\u001b[0m                                        \u001b[0mdata\u001b[0m\u001b[0;34m=\u001b[0m\u001b[0mdata\u001b[0m\u001b[0;34m,\u001b[0m\u001b[0;34m\u001b[0m\u001b[0;34m\u001b[0m\u001b[0m\n\u001b[1;32m    436\u001b[0m                                        accept_json=True)\n\u001b[0;32m--> 437\u001b[0;31m         \u001b[0mresponse\u001b[0m \u001b[0;34m=\u001b[0m \u001b[0mself\u001b[0m\u001b[0;34m.\u001b[0m\u001b[0msend\u001b[0m\u001b[0;34m(\u001b[0m\u001b[0mrequest\u001b[0m\u001b[0;34m)\u001b[0m\u001b[0;34m\u001b[0m\u001b[0;34m\u001b[0m\u001b[0m\n\u001b[0m\u001b[1;32m    438\u001b[0m         \u001b[0;32mreturn\u001b[0m \u001b[0mresponse\u001b[0m\u001b[0;34m\u001b[0m\u001b[0;34m\u001b[0m\u001b[0m\n\u001b[1;32m    439\u001b[0m \u001b[0;34m\u001b[0m\u001b[0m\n",
      "\u001b[0;32m~/opt/anaconda3/envs/cloudml/lib/python3.6/site-packages/ibm_cloud_sdk_core/base_service.py\u001b[0m in \u001b[0;36msend\u001b[0;34m(self, request, **kwargs)\u001b[0m\n\u001b[1;32m    134\u001b[0m \u001b[0;34m\u001b[0m\u001b[0m\n\u001b[1;32m    135\u001b[0m         \u001b[0;32mtry\u001b[0m\u001b[0;34m:\u001b[0m\u001b[0;34m\u001b[0m\u001b[0;34m\u001b[0m\u001b[0m\n\u001b[0;32m--> 136\u001b[0;31m             \u001b[0mresponse\u001b[0m \u001b[0;34m=\u001b[0m \u001b[0mrequests\u001b[0m\u001b[0;34m.\u001b[0m\u001b[0mrequest\u001b[0m\u001b[0;34m(\u001b[0m\u001b[0;34m**\u001b[0m\u001b[0mrequest\u001b[0m\u001b[0;34m,\u001b[0m \u001b[0mcookies\u001b[0m\u001b[0;34m=\u001b[0m\u001b[0mself\u001b[0m\u001b[0;34m.\u001b[0m\u001b[0mjar\u001b[0m\u001b[0;34m,\u001b[0m \u001b[0;34m**\u001b[0m\u001b[0mkwargs\u001b[0m\u001b[0;34m)\u001b[0m\u001b[0;34m\u001b[0m\u001b[0;34m\u001b[0m\u001b[0m\n\u001b[0m\u001b[1;32m    137\u001b[0m \u001b[0;34m\u001b[0m\u001b[0m\n\u001b[1;32m    138\u001b[0m             \u001b[0;32mif\u001b[0m \u001b[0;36m200\u001b[0m \u001b[0;34m<=\u001b[0m \u001b[0mresponse\u001b[0m\u001b[0;34m.\u001b[0m\u001b[0mstatus_code\u001b[0m \u001b[0;34m<=\u001b[0m \u001b[0;36m299\u001b[0m\u001b[0;34m:\u001b[0m\u001b[0;34m\u001b[0m\u001b[0;34m\u001b[0m\u001b[0m\n",
      "\u001b[0;32m~/opt/anaconda3/envs/cloudml/lib/python3.6/site-packages/requests/api.py\u001b[0m in \u001b[0;36mrequest\u001b[0;34m(method, url, **kwargs)\u001b[0m\n\u001b[1;32m     58\u001b[0m     \u001b[0;31m# cases, and look like a memory leak in others.\u001b[0m\u001b[0;34m\u001b[0m\u001b[0;34m\u001b[0m\u001b[0;34m\u001b[0m\u001b[0m\n\u001b[1;32m     59\u001b[0m     \u001b[0;32mwith\u001b[0m \u001b[0msessions\u001b[0m\u001b[0;34m.\u001b[0m\u001b[0mSession\u001b[0m\u001b[0;34m(\u001b[0m\u001b[0;34m)\u001b[0m \u001b[0;32mas\u001b[0m \u001b[0msession\u001b[0m\u001b[0;34m:\u001b[0m\u001b[0;34m\u001b[0m\u001b[0;34m\u001b[0m\u001b[0m\n\u001b[0;32m---> 60\u001b[0;31m         \u001b[0;32mreturn\u001b[0m \u001b[0msession\u001b[0m\u001b[0;34m.\u001b[0m\u001b[0mrequest\u001b[0m\u001b[0;34m(\u001b[0m\u001b[0mmethod\u001b[0m\u001b[0;34m=\u001b[0m\u001b[0mmethod\u001b[0m\u001b[0;34m,\u001b[0m \u001b[0murl\u001b[0m\u001b[0;34m=\u001b[0m\u001b[0murl\u001b[0m\u001b[0;34m,\u001b[0m \u001b[0;34m**\u001b[0m\u001b[0mkwargs\u001b[0m\u001b[0;34m)\u001b[0m\u001b[0;34m\u001b[0m\u001b[0;34m\u001b[0m\u001b[0m\n\u001b[0m\u001b[1;32m     61\u001b[0m \u001b[0;34m\u001b[0m\u001b[0m\n\u001b[1;32m     62\u001b[0m \u001b[0;34m\u001b[0m\u001b[0m\n",
      "\u001b[0;32m~/opt/anaconda3/envs/cloudml/lib/python3.6/site-packages/requests/sessions.py\u001b[0m in \u001b[0;36mrequest\u001b[0;34m(self, method, url, params, data, headers, cookies, files, auth, timeout, allow_redirects, proxies, hooks, stream, verify, cert, json)\u001b[0m\n\u001b[1;32m    531\u001b[0m         }\n\u001b[1;32m    532\u001b[0m         \u001b[0msend_kwargs\u001b[0m\u001b[0;34m.\u001b[0m\u001b[0mupdate\u001b[0m\u001b[0;34m(\u001b[0m\u001b[0msettings\u001b[0m\u001b[0;34m)\u001b[0m\u001b[0;34m\u001b[0m\u001b[0;34m\u001b[0m\u001b[0m\n\u001b[0;32m--> 533\u001b[0;31m         \u001b[0mresp\u001b[0m \u001b[0;34m=\u001b[0m \u001b[0mself\u001b[0m\u001b[0;34m.\u001b[0m\u001b[0msend\u001b[0m\u001b[0;34m(\u001b[0m\u001b[0mprep\u001b[0m\u001b[0;34m,\u001b[0m \u001b[0;34m**\u001b[0m\u001b[0msend_kwargs\u001b[0m\u001b[0;34m)\u001b[0m\u001b[0;34m\u001b[0m\u001b[0;34m\u001b[0m\u001b[0m\n\u001b[0m\u001b[1;32m    534\u001b[0m \u001b[0;34m\u001b[0m\u001b[0m\n\u001b[1;32m    535\u001b[0m         \u001b[0;32mreturn\u001b[0m \u001b[0mresp\u001b[0m\u001b[0;34m\u001b[0m\u001b[0;34m\u001b[0m\u001b[0m\n",
      "\u001b[0;32m~/opt/anaconda3/envs/cloudml/lib/python3.6/site-packages/requests/sessions.py\u001b[0m in \u001b[0;36msend\u001b[0;34m(self, request, **kwargs)\u001b[0m\n\u001b[1;32m    684\u001b[0m \u001b[0;34m\u001b[0m\u001b[0m\n\u001b[1;32m    685\u001b[0m         \u001b[0;32mif\u001b[0m \u001b[0;32mnot\u001b[0m \u001b[0mstream\u001b[0m\u001b[0;34m:\u001b[0m\u001b[0;34m\u001b[0m\u001b[0;34m\u001b[0m\u001b[0m\n\u001b[0;32m--> 686\u001b[0;31m             \u001b[0mr\u001b[0m\u001b[0;34m.\u001b[0m\u001b[0mcontent\u001b[0m\u001b[0;34m\u001b[0m\u001b[0;34m\u001b[0m\u001b[0m\n\u001b[0m\u001b[1;32m    687\u001b[0m \u001b[0;34m\u001b[0m\u001b[0m\n\u001b[1;32m    688\u001b[0m         \u001b[0;32mreturn\u001b[0m \u001b[0mr\u001b[0m\u001b[0;34m\u001b[0m\u001b[0;34m\u001b[0m\u001b[0m\n",
      "\u001b[0;32m~/opt/anaconda3/envs/cloudml/lib/python3.6/site-packages/requests/models.py\u001b[0m in \u001b[0;36mcontent\u001b[0;34m(self)\u001b[0m\n\u001b[1;32m    826\u001b[0m                 \u001b[0mself\u001b[0m\u001b[0;34m.\u001b[0m\u001b[0m_content\u001b[0m \u001b[0;34m=\u001b[0m \u001b[0;32mNone\u001b[0m\u001b[0;34m\u001b[0m\u001b[0;34m\u001b[0m\u001b[0m\n\u001b[1;32m    827\u001b[0m             \u001b[0;32melse\u001b[0m\u001b[0;34m:\u001b[0m\u001b[0;34m\u001b[0m\u001b[0;34m\u001b[0m\u001b[0m\n\u001b[0;32m--> 828\u001b[0;31m                 \u001b[0mself\u001b[0m\u001b[0;34m.\u001b[0m\u001b[0m_content\u001b[0m \u001b[0;34m=\u001b[0m \u001b[0;34mb''\u001b[0m\u001b[0;34m.\u001b[0m\u001b[0mjoin\u001b[0m\u001b[0;34m(\u001b[0m\u001b[0mself\u001b[0m\u001b[0;34m.\u001b[0m\u001b[0miter_content\u001b[0m\u001b[0;34m(\u001b[0m\u001b[0mCONTENT_CHUNK_SIZE\u001b[0m\u001b[0;34m)\u001b[0m\u001b[0;34m)\u001b[0m \u001b[0;32mor\u001b[0m \u001b[0;34mb''\u001b[0m\u001b[0;34m\u001b[0m\u001b[0;34m\u001b[0m\u001b[0m\n\u001b[0m\u001b[1;32m    829\u001b[0m \u001b[0;34m\u001b[0m\u001b[0m\n\u001b[1;32m    830\u001b[0m         \u001b[0mself\u001b[0m\u001b[0;34m.\u001b[0m\u001b[0m_content_consumed\u001b[0m \u001b[0;34m=\u001b[0m \u001b[0;32mTrue\u001b[0m\u001b[0;34m\u001b[0m\u001b[0;34m\u001b[0m\u001b[0m\n",
      "\u001b[0;32m~/opt/anaconda3/envs/cloudml/lib/python3.6/site-packages/requests/models.py\u001b[0m in \u001b[0;36mgenerate\u001b[0;34m()\u001b[0m\n\u001b[1;32m    751\u001b[0m                         \u001b[0;32myield\u001b[0m \u001b[0mchunk\u001b[0m\u001b[0;34m\u001b[0m\u001b[0;34m\u001b[0m\u001b[0m\n\u001b[1;32m    752\u001b[0m                 \u001b[0;32mexcept\u001b[0m \u001b[0mProtocolError\u001b[0m \u001b[0;32mas\u001b[0m \u001b[0me\u001b[0m\u001b[0;34m:\u001b[0m\u001b[0;34m\u001b[0m\u001b[0;34m\u001b[0m\u001b[0m\n\u001b[0;32m--> 753\u001b[0;31m                     \u001b[0;32mraise\u001b[0m \u001b[0mChunkedEncodingError\u001b[0m\u001b[0;34m(\u001b[0m\u001b[0me\u001b[0m\u001b[0;34m)\u001b[0m\u001b[0;34m\u001b[0m\u001b[0;34m\u001b[0m\u001b[0m\n\u001b[0m\u001b[1;32m    754\u001b[0m                 \u001b[0;32mexcept\u001b[0m \u001b[0mDecodeError\u001b[0m \u001b[0;32mas\u001b[0m \u001b[0me\u001b[0m\u001b[0;34m:\u001b[0m\u001b[0;34m\u001b[0m\u001b[0;34m\u001b[0m\u001b[0m\n\u001b[1;32m    755\u001b[0m                     \u001b[0;32mraise\u001b[0m \u001b[0mContentDecodingError\u001b[0m\u001b[0;34m(\u001b[0m\u001b[0me\u001b[0m\u001b[0;34m)\u001b[0m\u001b[0;34m\u001b[0m\u001b[0;34m\u001b[0m\u001b[0m\n",
      "\u001b[0;31mChunkedEncodingError\u001b[0m: ('Connection broken: IncompleteRead(0 bytes read)', IncompleteRead(0 bytes read))"
     ]
    }
   ],
   "source": [
    "files = ['s2-new', 'yey0-new3', 'yey1']\n",
    "\n",
    "for file in files:\n",
    "    path = 'test-audio/{0}.wav'.format(file)\n",
    "    with open(path, 'rb') as audio_file:\n",
    "        response = speech_to_text.recognize(audio=audio_file, content_type='audio/wav', model='en-US_BroadbandModel').get_result()\n",
    "        transcript = ''.join([sentence['alternatives'][0]['transcript'] for sentence in response['results']])\n",
    "        print('{0}: {1}'.format(file, transcript))"
   ]
  },
  {
   "cell_type": "code",
   "execution_count": 5,
   "metadata": {},
   "outputs": [
    {
     "name": "stdout",
     "output_type": "stream",
     "text": [
      "yey_00: we find the same sort of this can be a way to left to right the philosophical Cologne creation \n"
     ]
    }
   ],
   "source": [
    "files = ['yey_00']\n",
    "\n",
    "for file in files:\n",
    "    path = 'test-audio/{0}.wav'.format(file)\n",
    "    with open(path, 'rb') as audio_file:\n",
    "        response = speech_to_text.recognize(audio=audio_file, content_type='audio/wav', model='en-US_BroadbandModel').get_result()\n",
    "        transcript = ''.join([sentence['alternatives'][0]['transcript'] for sentence in response['results']])\n",
    "        print('{0}: {1}'.format(file, transcript))"
   ]
  },
  {
   "cell_type": "code",
   "execution_count": 7,
   "metadata": {},
   "outputs": [
    {
     "name": "stdout",
     "output_type": "stream",
     "text": [
      "yey_00_1: we find the same sort of this can be a way to left to right the philosophical Cologne creation \n",
      "yey_10: uhhuh uhhuh %HESITATION \n",
      "yey_00_2: you find the same sort of wandering off into two near Waco right the philosophical form \n",
      "yey_00_3: with one fourth of the two males with Rachel correct right \n",
      "yey_10_1: with one to three fourths of the two males wait till right \n"
     ]
    }
   ],
   "source": [
    "files = ['yey_00_1', 'yey_10', 'yey_00_2', 'yey_00_3', 'yey_10_1']\n",
    "\n",
    "for file in files:\n",
    "    path = 'test-audio/{0}.wav'.format(file)\n",
    "    with open(path, 'rb') as audio_file:\n",
    "        response = speech_to_text.recognize(audio=audio_file, content_type='audio/wav', model='en-US_BroadbandModel').get_result()\n",
    "        transcript = ''.join([sentence['alternatives'][0]['transcript'] for sentence in response['results']])\n",
    "        print('{0}: {1}'.format(file, transcript))"
   ]
  },
  {
   "cell_type": "code",
   "execution_count": 8,
   "metadata": {},
   "outputs": [
    {
     "name": "stdout",
     "output_type": "stream",
     "text": [
      "yey_00_4: we find the same sort of closing off into two layers of Plato which characterizes the philosophical form of creation \n",
      "yey_10_4: we find the same sort of closing a deal to me Plato which characterizes the philosophical form of creation \n",
      "yey_00_5: we find the same sort of form the two men Plato characterizes the philosophical Cologne \n",
      "yey_10_5: we find the thing for the two men Plato characterizes the philosophical Cologne \n",
      "yey_00_6: and hence we find the same sort of closing on the twentieth of Plato which characterizes the philosophical problem with Christian \n",
      "yey_10_6: we find the same sort of in the twentieth of Plato who characterizes the philosophical problem with Christian \n"
     ]
    }
   ],
   "source": [
    "files = ['yey_00_4', 'yey_10_4', 'yey_00_5', 'yey_10_5', 'yey_00_6', 'yey_10_6']\n",
    "\n",
    "for file in files:\n",
    "    path = 'test-audio/{0}.wav'.format(file)\n",
    "    with open(path, 'rb') as audio_file:\n",
    "        response = speech_to_text.recognize(audio=audio_file, content_type='audio/wav', model='en-US_BroadbandModel').get_result()\n",
    "        transcript = ''.join([sentence['alternatives'][0]['transcript'] for sentence in response['results']])\n",
    "        print('{0}: {1}'.format(file, transcript))"
   ]
  },
  {
   "cell_type": "code",
   "execution_count": 3,
   "metadata": {},
   "outputs": [
    {
     "name": "stdout",
     "output_type": "stream",
     "text": [
      "one \n"
     ]
    }
   ],
   "source": [
    "path = '../../p2/robust_audio_ae/pbd-adv-2000.wav'\n",
    "with open(path, 'rb') as audio_file:\n",
    "    response = speech_to_text.recognize(audio=audio_file, content_type='audio/wav', model='en-US_BroadbandModel').get_result()\n",
    "    transcript = ''.join([sentence['alternatives'][0]['transcript'] for sentence in response['results']])\n",
    "    print(transcript)"
   ]
  },
  {
   "cell_type": "code",
   "execution_count": 5,
   "metadata": {},
   "outputs": [
    {
     "name": "stdout",
     "output_type": "stream",
     "text": [
      "we find a plan for you the going \n"
     ]
    }
   ],
   "source": [
    "path = '../audio-dataset/LibriSpeech/test-clean/2961/960/2961-960-0020_robust_perturb_stage2.wav'\n",
    "with open(path, 'rb') as audio_file:\n",
    "    response = speech_to_text.recognize(audio=audio_file, content_type='audio/wav', model='en-US_BroadbandModel').get_result()\n",
    "    transcript = ''.join([sentence['alternatives'][0]['transcript'] for sentence in response['results']])\n",
    "    print(transcript)"
   ]
  },
  {
   "cell_type": "code",
   "execution_count": 3,
   "metadata": {},
   "outputs": [
    {
     "name": "stdout",
     "output_type": "stream",
     "text": [
      "I in the south one two six \n"
     ]
    }
   ],
   "source": [
    "path = '../../p2/robust_audio_ae/results/hwf-adv-3000.wav'\n",
    "with open(path, 'rb') as audio_file:\n",
    "    response = speech_to_text.recognize(audio=audio_file, content_type='audio/wav', model='en-US_BroadbandModel').get_result()\n",
    "    transcript = ''.join([sentence['alternatives'][0]['transcript'] for sentence in response['results']])\n",
    "    print(transcript)"
   ]
  },
  {
   "cell_type": "code",
   "execution_count": 4,
   "metadata": {},
   "outputs": [
    {
     "name": "stdout",
     "output_type": "stream",
     "text": [
      "and hence we find the same sort of clumsiness in the to me as Plato which characterizes the philosophical form of recreation \n"
     ]
    }
   ],
   "source": [
    "path = '../../p2/audio_adversarial_examples/results/adv.wav'\n",
    "with open(path, 'rb') as audio_file:\n",
    "    response = speech_to_text.recognize(audio=audio_file, content_type='audio/wav', model='en-US_BroadbandModel').get_result()\n",
    "    transcript = ''.join([sentence['alternatives'][0]['transcript'] for sentence in response['results']])\n",
    "    print(transcript)"
   ]
  },
  {
   "cell_type": "code",
   "execution_count": 19,
   "metadata": {},
   "outputs": [
    {
     "name": "stdout",
     "output_type": "stream",
     "text": [
      "and hence we find the same sort of clumsiness the to me as a way to %HESITATION which characterizes the philosophical form of recreation \n"
     ]
    }
   ],
   "source": [
    "path = '../audio_adversarial_examples/results/recorded-adv.wav'\n",
    "with open(path, 'rb') as audio_file:\n",
    "    response = speech_to_text.recognize(audio=audio_file, content_type='audio/wav', model='en-US_BroadbandModel').get_result()\n",
    "    transcript = ''.join([sentence['alternatives'][0]['transcript'] for sentence in response['results']])\n",
    "    print(transcript)"
   ]
  },
  {
   "cell_type": "code",
   "execution_count": 5,
   "metadata": {},
   "outputs": [
    {
     "name": "stdout",
     "output_type": "stream",
     "text": [
      "and hence we find the same sort of clumsiness in the two mayors of Plato which characterizes the philosophical poem of Lucretius \n"
     ]
    }
   ],
   "source": [
    "path = '../../p2/adversarial_asr/LibriSpeech/test-clean/2961/960/2961-960-0020.wav'\n",
    "with open(path, 'rb') as audio_file:\n",
    "    response = speech_to_text.recognize(audio=audio_file, content_type='audio/wav', model='en-US_BroadbandModel').get_result()\n",
    "    transcript = ''.join([sentence['alternatives'][0]['transcript'] for sentence in response['results']])\n",
    "    print(transcript)"
   ]
  },
  {
   "cell_type": "code",
   "execution_count": 3,
   "metadata": {},
   "outputs": [
    {
     "name": "stdout",
     "output_type": "stream",
     "text": [
      "it's a crime scene the wait \n"
     ]
    }
   ],
   "source": [
    "path = '../../p2/adversarial_asr/results/2961-960-0020_robust_perturb_stage2.wav'\n",
    "with open(path, 'rb') as audio_file:\n",
    "    response = speech_to_text.recognize(audio=audio_file, content_type='audio/wav', model='en-US_BroadbandModel').get_result()\n",
    "    transcript = ''.join([sentence['alternatives'][0]['transcript'] for sentence in response['results']])\n",
    "    print(transcript)"
   ]
  },
  {
   "cell_type": "code",
   "execution_count": 17,
   "metadata": {},
   "outputs": [
    {
     "name": "stdout",
     "output_type": "stream",
     "text": [
      "it's a class thing \n"
     ]
    }
   ],
   "source": [
    "path = '../adversarial_asr/results/recorded-2961-960-0020_robust_perturb_stage2.wav'\n",
    "with open(path, 'rb') as audio_file:\n",
    "    response = speech_to_text.recognize(audio=audio_file, content_type='audio/wav', model='en-US_BroadbandModel').get_result()\n",
    "    transcript = ''.join([sentence['alternatives'][0]['transcript'] for sentence in response['results']])\n",
    "    print(transcript)"
   ]
  },
  {
   "cell_type": "code",
   "execution_count": 6,
   "metadata": {},
   "outputs": [
    {
     "name": "stdout",
     "output_type": "stream",
     "text": [
      "the accepted definition of creativity is production of something original and useful and it is commonly thought that creativity occurs on the right side of the brain and the arts play an important role in enhancing at but according to new research creativity isn't about freedom from concrete facts \n"
     ]
    }
   ],
   "source": [
    "path = '../audio-dataset/audio/00.wav'\n",
    "with open(path, 'rb') as audio_file:\n",
    "    response = speech_to_text.recognize(audio=audio_file, content_type='audio/wav', model='en-US_BroadbandModel').get_result()\n",
    "    transcript = ''.join([sentence['alternatives'][0]['transcript'] for sentence in response['results']])\n",
    "    print(transcript)"
   ]
  },
  {
   "cell_type": "code",
   "execution_count": 8,
   "metadata": {},
   "outputs": [
    {
     "name": "stdout",
     "output_type": "stream",
     "text": [
      "we find the same sort of clumsiness the to me is way too which characterizes the philosophical form of recreation \n"
     ]
    }
   ],
   "source": [
    "path = '../basic/results/quieter.wav'\n",
    "with open(path, 'rb') as audio_file:\n",
    "    response = speech_to_text.recognize(audio=audio_file, content_type='audio/wav', model='en-US_BroadbandModel').get_result()\n",
    "    transcript = ''.join([sentence['alternatives'][0]['transcript'] for sentence in response['results']])\n",
    "    print(transcript)"
   ]
  },
  {
   "cell_type": "code",
   "execution_count": 9,
   "metadata": {},
   "outputs": [
    {
     "name": "stdout",
     "output_type": "stream",
     "text": [
      "this this is a free service \n"
     ]
    }
   ],
   "source": [
    "path = '../basic/results/louder.wav'\n",
    "with open(path, 'rb') as audio_file:\n",
    "    response = speech_to_text.recognize(audio=audio_file, content_type='audio/wav', model='en-US_BroadbandModel').get_result()\n",
    "    transcript = ''.join([sentence['alternatives'][0]['transcript'] for sentence in response['results']])\n",
    "    print(transcript)"
   ]
  },
  {
   "cell_type": "code",
   "execution_count": 10,
   "metadata": {},
   "outputs": [
    {
     "name": "stdout",
     "output_type": "stream",
     "text": [
      "and hens we find the same sort of clumsiness in the to me is the way to which characterizes the philosophical pool one of Lucretius \n"
     ]
    }
   ],
   "source": [
    "path = '../basic/results/slower.wav'\n",
    "with open(path, 'rb') as audio_file:\n",
    "    response = speech_to_text.recognize(audio=audio_file, content_type='audio/wav', model='en-US_BroadbandModel').get_result()\n",
    "    transcript = ''.join([sentence['alternatives'][0]['transcript'] for sentence in response['results']])\n",
    "    print(transcript)"
   ]
  },
  {
   "cell_type": "code",
   "execution_count": 11,
   "metadata": {},
   "outputs": [
    {
     "name": "stdout",
     "output_type": "stream",
     "text": [
      "and hence we find the same sort of clumsiness the today as of late %HESITATION which characterizes the philosophical poem of Lucretius \n"
     ]
    }
   ],
   "source": [
    "path = '../basic/results/faster.wav'\n",
    "with open(path, 'rb') as audio_file:\n",
    "    response = speech_to_text.recognize(audio=audio_file, content_type='audio/wav', model='en-US_BroadbandModel').get_result()\n",
    "    transcript = ''.join([sentence['alternatives'][0]['transcript'] for sentence in response['results']])\n",
    "    print(transcript)"
   ]
  },
  {
   "cell_type": "code",
   "execution_count": 12,
   "metadata": {},
   "outputs": [
    {
     "name": "stdout",
     "output_type": "stream",
     "text": [
      "\n"
     ]
    }
   ],
   "source": [
    "path = '../basic/results/freq.wav'\n",
    "with open(path, 'rb') as audio_file:\n",
    "    response = speech_to_text.recognize(audio=audio_file, content_type='audio/wav', model='en-US_BroadbandModel').get_result()\n",
    "    transcript = ''.join([sentence['alternatives'][0]['transcript'] for sentence in response['results']])\n",
    "    print(transcript)"
   ]
  },
  {
   "cell_type": "code",
   "execution_count": 13,
   "metadata": {},
   "outputs": [
    {
     "name": "stdout",
     "output_type": "stream",
     "text": [
      "yes so it was yes right right those awful problem \n"
     ]
    }
   ],
   "source": [
    "path = '../basic/results/pitch.wav'\n",
    "with open(path, 'rb') as audio_file:\n",
    "    response = speech_to_text.recognize(audio=audio_file, content_type='audio/wav', model='en-US_BroadbandModel').get_result()\n",
    "    transcript = ''.join([sentence['alternatives'][0]['transcript'] for sentence in response['results']])\n",
    "    print(transcript)"
   ]
  },
  {
   "cell_type": "code",
   "execution_count": 14,
   "metadata": {},
   "outputs": [
    {
     "name": "stdout",
     "output_type": "stream",
     "text": [
      "and hence we find the same sort of clumsiness in the two mayors of Plato which characterizes the philosophical poem of Lucretius \n"
     ]
    }
   ],
   "source": [
    "path = '../basic/results/band_limited.wav'\n",
    "with open(path, 'rb') as audio_file:\n",
    "    response = speech_to_text.recognize(audio=audio_file, content_type='audio/wav', model='en-US_BroadbandModel').get_result()\n",
    "    transcript = ''.join([sentence['alternatives'][0]['transcript'] for sentence in response['results']])\n",
    "    print(transcript)"
   ]
  },
  {
   "cell_type": "code",
   "execution_count": 15,
   "metadata": {},
   "outputs": [
    {
     "name": "stdout",
     "output_type": "stream",
     "text": [
      "and hence we find the same sort of clumsiness in the two main areas of Plato which characterizes the philosophical poem of the creation \n"
     ]
    }
   ],
   "source": [
    "path = '../basic/results/music.wav'\n",
    "with open(path, 'rb') as audio_file:\n",
    "    response = speech_to_text.recognize(audio=audio_file, content_type='audio/wav', model='en-US_BroadbandModel').get_result()\n",
    "    transcript = ''.join([sentence['alternatives'][0]['transcript'] for sentence in response['results']])\n",
    "    print(transcript)"
   ]
  },
  {
   "cell_type": "code",
   "execution_count": 20,
   "metadata": {},
   "outputs": [
    {
     "name": "stdout",
     "output_type": "stream",
     "text": [
      "find things sort of close the clear way to characterize the philosophical issue \n"
     ]
    }
   ],
   "source": [
    "path = '../recorded-modified.wav'\n",
    "with open(path, 'rb') as audio_file:\n",
    "    response = speech_to_text.recognize(audio=audio_file, content_type='audio/wav', model='en-US_BroadbandModel').get_result()\n",
    "    transcript = ''.join([sentence['alternatives'][0]['transcript'] for sentence in response['results']])\n",
    "    print(transcript)"
   ]
  },
  {
   "cell_type": "code",
   "execution_count": null,
   "metadata": {},
   "outputs": [],
   "source": []
  }
 ],
 "metadata": {
  "kernelspec": {
   "display_name": "Python 3",
   "language": "python",
   "name": "python3"
  },
  "language_info": {
   "codemirror_mode": {
    "name": "ipython",
    "version": 3
   },
   "file_extension": ".py",
   "mimetype": "text/x-python",
   "name": "python",
   "nbconvert_exporter": "python",
   "pygments_lexer": "ipython3",
   "version": "3.6.9"
  }
 },
 "nbformat": 4,
 "nbformat_minor": 2
}
