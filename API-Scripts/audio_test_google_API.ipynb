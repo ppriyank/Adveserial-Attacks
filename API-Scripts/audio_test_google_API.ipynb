{
 "cells": [
  {
   "cell_type": "markdown",
   "metadata": {},
   "source": [
    "## Google Cloud APIs"
   ]
  },
  {
   "cell_type": "markdown",
   "metadata": {},
   "source": [
    "### Audio"
   ]
  },
  {
   "cell_type": "code",
   "execution_count": 2,
   "metadata": {},
   "outputs": [],
   "source": [
    "from google.cloud import speech_v1\n",
    "from google.cloud.speech_v1 import enums\n",
    "import io\n",
    "import os\n",
    "from scipy.io import wavfile\n",
    "import nltk"
   ]
  },
  {
   "cell_type": "code",
   "execution_count": 4,
   "metadata": {},
   "outputs": [],
   "source": [
    "os.environ[\"GOOGLE_APPLICATION_CREDENTIALS\"]=\"path/key.json\"\n",
    "\n",
    "directory = 'path/audio-dataset/audio'\n",
    "\n",
    "client = speech_v1.SpeechClient()\n",
    "# The language of the supplied audio\n",
    "language_code = \"en-US\"\n",
    "\n",
    "t=[]\n",
    "for filename in os.listdir(directory):\n",
    "    if filename.endswith(\".wav\"): \n",
    "        local_file_path = (os.path.join(directory, filename))\n",
    "        sample_rate_hertz, content= wavfile.read(local_file_path)\n",
    "        # Sample rate in Hertz of the audio data sent\n",
    "        with io.open(local_file_path, \"rb\") as f:\n",
    "            content = f.read()\n",
    "        audio = {\"content\": content}\n",
    "        config = {\n",
    "            \"language_code\": language_code,\n",
    "            \"sample_rate_hertz\": sample_rate_hertz\n",
    "        }\n",
    "        x=''\n",
    "        response = client.recognize(config, audio)\n",
    "        for result in response.results:\n",
    "            # First alternative is the most probable result\n",
    "            for tr in result.alternatives:\n",
    "                x= x+tr.transcript\n",
    "        t.append(x)\n",
    "        "
   ]
  },
  {
   "cell_type": "code",
   "execution_count": 6,
   "metadata": {},
   "outputs": [],
   "source": [
    "i=0\n",
    "for ti in t:\n",
    "    path = ''\n",
    "    if i<10:\n",
    "        path = 'path/google_transcript/'+'0'+str(i)+'.txt'\n",
    "    else:\n",
    "        path = 'path/google_transcript/'+str(i)+'.txt'\n",
    "    i+=1\n",
    "    file = open(path,\"w\") \n",
    "    file.write(ti)\n",
    "    file.close() "
   ]
  },
  {
   "cell_type": "code",
   "execution_count": 12,
   "metadata": {},
   "outputs": [],
   "source": [
    "directory = 'path/script'\n",
    "i=0\n",
    "blues=[]\n",
    "google_trans = []\n",
    "ground_truth = []\n",
    "for filename in os.listdir(directory):\n",
    "    if filename.endswith(\".txt\"): \n",
    "        local_file_path = (os.path.join(directory, filename))\n",
    "        with io.open(local_file_path, \"rb\") as f:\n",
    "            content = f.read()\n",
    "            ground_truth.append(content.lower())\n",
    "            \n",
    "directory = 'path/google_transcript'\n",
    "i=0\n",
    "for filename in os.listdir(directory):\n",
    "    if filename.endswith(\".txt\"): \n",
    "        local_file_path = (os.path.join(directory, filename))\n",
    "        with io.open(local_file_path, \"rb\") as f:\n",
    "            content = f.read()\n",
    "            google_trans.append(content.lower())"
   ]
  },
  {
   "cell_type": "code",
   "execution_count": 16,
   "metadata": {},
   "outputs": [],
   "source": [
    "blues=[]\n",
    "for i in range(len(google_trans)):\n",
    "    google = google_trans[i].decode(\"utf-8\").split()\n",
    "    truth = ground_truth[i].decode(\"utf-8\").split()\n",
    "    #print('\\nGoogle : ', google, '\\nTruth : ', truth)\n",
    "    #there may be several references\n",
    "    blues.append(nltk.translate.bleu_score.sentence_bleu([truth], google))\n",
    "    #print(\"\\nB : \", blues[i])"
   ]
  },
  {
   "cell_type": "code",
   "execution_count": 18,
   "metadata": {},
   "outputs": [
    {
     "data": {
      "text/plain": [
       "0.7791187640327726"
      ]
     },
     "execution_count": 18,
     "metadata": {},
     "output_type": "execute_result"
    }
   ],
   "source": [
    "max(blues)"
   ]
  },
  {
   "cell_type": "code",
   "execution_count": 19,
   "metadata": {},
   "outputs": [
    {
     "data": {
      "text/plain": [
       "1.529588101626149e-79"
      ]
     },
     "execution_count": 19,
     "metadata": {},
     "output_type": "execute_result"
    }
   ],
   "source": [
    "min(blues)"
   ]
  },
  {
   "cell_type": "code",
   "execution_count": 20,
   "metadata": {
    "collapsed": true
   },
   "outputs": [
    {
     "data": {
      "text/plain": [
       "[0.4047260144788778,\n",
       " 0.13937103824564287,\n",
       " 0.12252313606638664,\n",
       " 8.081994368253908e-05,\n",
       " 0.01045226948823664,\n",
       " 1.529588101626149e-79,\n",
       " 0.6881424220215246,\n",
       " 0.4499628779742637,\n",
       " 0.6629849663362426,\n",
       " 0.7299809672833977,\n",
       " 0.38938405226173683,\n",
       " 0.6082544496613371,\n",
       " 0.3582530252528475,\n",
       " 0.16147417076735607,\n",
       " 0.16719038333508343,\n",
       " 0.5187931055884295,\n",
       " 0.3313032363597496,\n",
       " 0.3899841479113067,\n",
       " 0.3125760577480313,\n",
       " 0.7791187640327726,\n",
       " 0.5886474510486585,\n",
       " 0.6655358152708091,\n",
       " 0.3474968064717284,\n",
       " 0.427165178301328,\n",
       " 0.7124143956802569,\n",
       " 0.5686460282916778,\n",
       " 0.6170418820639015,\n",
       " 0.6010500715663932,\n",
       " 0.49875519442947946,\n",
       " 0.6474933433943678,\n",
       " 0.545997655390976,\n",
       " 0.6608438566361079,\n",
       " 0.06385411723992793,\n",
       " 0.280308922719494,\n",
       " 0.0823711640205244,\n",
       " 0.4726168836691167,\n",
       " 0.4479538674682411,\n",
       " 0.5222812003299417,\n",
       " 0.4915050093713044,\n",
       " 0.7374397291954953,\n",
       " 0.3989601978519058,\n",
       " 0.36742636958874253,\n",
       " 0.5303298220987264,\n",
       " 0.5396066714453133,\n",
       " 0.25123433318877225,\n",
       " 0.3622164168236469,\n",
       " 0.37695821379029837,\n",
       " 0.5148471552047899,\n",
       " 0.4198646599335573,\n",
       " 0.5649056567490055,\n",
       " 0.6544264537614456,\n",
       " 0.46630149321756587,\n",
       " 0.4286696731308693,\n",
       " 0.5069627574007753,\n",
       " 0.7325088987650321,\n",
       " 0.6140390131760971,\n",
       " 0.5898312881704669,\n",
       " 0.49579502450610874,\n",
       " 0.6873840739027297,\n",
       " 0.5883537159640394]"
      ]
     },
     "execution_count": 20,
     "metadata": {},
     "output_type": "execute_result"
    }
   ],
   "source": [
    "blues"
   ]
  },
  {
   "cell_type": "markdown",
   "metadata": {},
   "source": [
    "### Attacked Audio Check\n",
    "Short Audio"
   ]
  },
  {
   "cell_type": "markdown",
   "metadata": {},
   "source": [
    "Test attacked audio"
   ]
  },
  {
   "cell_type": "code",
   "execution_count": 3,
   "metadata": {},
   "outputs": [],
   "source": [
    "os.environ[\"GOOGLE_APPLICATION_CREDENTIALS\"]=\"path/key.json\"\n",
    "directory = 'path/attack_audio'\n",
    "\n",
    "client = speech_v1.SpeechClient()\n",
    "# The language of the supplied audio\n",
    "language_code = \"en-US\"\n",
    "\n",
    "attack_t=[]\n",
    "for filename in os.listdir(directory):\n",
    "    if filename.endswith(\".wav\"): \n",
    "        local_file_path = (os.path.join(directory, filename))\n",
    "        sample_rate_hertz, content= wavfile.read(local_file_path)\n",
    "        # Sample rate in Hertz of the audio data sent\n",
    "        with io.open(local_file_path, \"rb\") as f:\n",
    "            content = f.read()\n",
    "        audio = {\"content\": content}\n",
    "        config = {\n",
    "            \"language_code\": language_code,\n",
    "            \"sample_rate_hertz\": sample_rate_hertz\n",
    "        }\n",
    "        x=''\n",
    "        response = client.recognize(config, audio)\n",
    "        for result in response.results:\n",
    "            # First alternative is the most probable result\n",
    "            for tr in result.alternatives:\n",
    "                x= x+tr.transcript\n",
    "        attack_t.append(x)"
   ]
  },
  {
   "cell_type": "markdown",
   "metadata": {},
   "source": [
    "Save transcript"
   ]
  },
  {
   "cell_type": "code",
   "execution_count": 5,
   "metadata": {},
   "outputs": [],
   "source": [
    "i=0\n",
    "for ti in attack_t:\n",
    "    path = 'path/google_short_attack_transcript/'+str(i)+'.txt'\n",
    "    i+=1\n",
    "    file = open(path,\"w\") \n",
    "    file.write(ti)\n",
    "    file.close() "
   ]
  },
  {
   "cell_type": "markdown",
   "metadata": {},
   "source": [
    "Calculate Bleu Score"
   ]
  },
  {
   "cell_type": "code",
   "execution_count": 6,
   "metadata": {},
   "outputs": [],
   "source": [
    "directory = 'path/short-audio'\n",
    "i=0\n",
    "attacked_blues=[]\n",
    "attacked_google_trans = []\n",
    "ground_truth = []\n",
    "for filename in os.listdir(directory):\n",
    "    if filename.endswith(\".txt\"): \n",
    "        local_file_path = (os.path.join(directory, filename))\n",
    "        with io.open(local_file_path, \"rb\") as f:\n",
    "            content = f.read()\n",
    "            ground_truth.append(content.lower())\n",
    "            \n",
    "directory = 'path/google_short_attack_transcript'\n",
    "i=0\n",
    "for filename in os.listdir(directory):\n",
    "    if filename.endswith(\".txt\"): \n",
    "        local_file_path = (os.path.join(directory, filename))\n",
    "        with io.open(local_file_path, \"rb\") as f:\n",
    "            content = f.read()\n",
    "            attacked_google_trans.append(content.lower())   \n",
    "\n",
    "for i in range(len(attacked_google_trans)):\n",
    "    attacked_google = attacked_google_trans[i].decode(\"utf-8\").split()\n",
    "    truth = ground_truth[i].decode(\"utf-8\").split()\n",
    "    #print('\\nGoogle : ', google, '\\nTruth : ', truth)\n",
    "    #there may be several references\n",
    "    attacked_blues.append(nltk.translate.bleu_score.sentence_bleu([truth], attacked_google))\n",
    "    #print(\"\\nB : \", blues[i])"
   ]
  },
  {
   "cell_type": "code",
   "execution_count": 7,
   "metadata": {},
   "outputs": [
    {
     "data": {
      "text/plain": [
       "[0.6242384068209503,\n",
       " 0.7721947901921794,\n",
       " 0.6823154859904647,\n",
       " 1.0,\n",
       " 0.7963205130973803,\n",
       " 0.9391044157537525,\n",
       " 0.6748913185157768,\n",
       " 0.4949431898772216,\n",
       " 0.8524094630854673]"
      ]
     },
     "execution_count": 7,
     "metadata": {},
     "output_type": "execute_result"
    }
   ],
   "source": [
    "attacked_blues"
   ]
  },
  {
   "cell_type": "markdown",
   "metadata": {},
   "source": [
    "Test original short audio"
   ]
  },
  {
   "cell_type": "code",
   "execution_count": 8,
   "metadata": {},
   "outputs": [],
   "source": [
    "os.environ[\"GOOGLE_APPLICATION_CREDENTIALS\"]=\"path/key.json\"\n",
    "directory = 'path/short-audio'\n",
    "\n",
    "client = speech_v1.SpeechClient()\n",
    "# The language of the supplied audio\n",
    "language_code = \"en-US\"\n",
    "\n",
    "t=[]\n",
    "for filename in os.listdir(directory):\n",
    "    if filename.endswith(\".wav\"): \n",
    "        local_file_path = (os.path.join(directory, filename))\n",
    "        sample_rate_hertz, content= wavfile.read(local_file_path)\n",
    "        # Sample rate in Hertz of the audio data sent\n",
    "        with io.open(local_file_path, \"rb\") as f:\n",
    "            content = f.read()\n",
    "        audio = {\"content\": content}\n",
    "        config = {\n",
    "            \"language_code\": language_code,\n",
    "            \"sample_rate_hertz\": sample_rate_hertz\n",
    "        }\n",
    "        x=''\n",
    "        response = client.recognize(config, audio)\n",
    "        for result in response.results:\n",
    "            # First alternative is the most probable result\n",
    "            for tr in result.alternatives:\n",
    "                x= x+tr.transcript\n",
    "        t.append(x)"
   ]
  },
  {
   "cell_type": "code",
   "execution_count": 9,
   "metadata": {},
   "outputs": [],
   "source": [
    "i=0\n",
    "for ti in t:\n",
    "    path = 'path/google_short_transcript/'+str(i)+'.txt'\n",
    "    i+=1\n",
    "    file = open(path,\"w\") \n",
    "    file.write(ti)\n",
    "    file.close() \n",
    "\n",
    "directory = 'path/short-audio'\n",
    "i=0\n",
    "blues=[]\n",
    "google_trans = []\n",
    "ground_truth = []\n",
    "for filename in os.listdir(directory):\n",
    "    if filename.endswith(\".txt\"): \n",
    "        local_file_path = (os.path.join(directory, filename))\n",
    "        with io.open(local_file_path, \"rb\") as f:\n",
    "            content = f.read()\n",
    "            ground_truth.append(content.lower())\n",
    "            \n",
    "directory = 'path/google_short_transcript'\n",
    "i=0\n",
    "for filename in os.listdir(directory):\n",
    "    if filename.endswith(\".txt\"): \n",
    "        local_file_path = (os.path.join(directory, filename))\n",
    "        with io.open(local_file_path, \"rb\") as f:\n",
    "            content = f.read()\n",
    "            google_trans.append(content.lower())   \n",
    "\n",
    "for i in range(len(google_trans)):\n",
    "    google = google_trans[i].decode(\"utf-8\").split()\n",
    "    truth = ground_truth[i].decode(\"utf-8\").split()\n",
    "    #print('\\nGoogle : ', google, '\\nTruth : ', truth)\n",
    "    #there may be several references\n",
    "    blues.append(nltk.translate.bleu_score.sentence_bleu([truth], google))\n",
    "    #print(\"\\nB : \", blues[i])"
   ]
  },
  {
   "cell_type": "code",
   "execution_count": 10,
   "metadata": {},
   "outputs": [
    {
     "data": {
      "text/plain": [
       "[0.6242384068209503,\n",
       " 0.8656030552541708,\n",
       " 0.6823154859904647,\n",
       " 1.0,\n",
       " 0.7963205130973803,\n",
       " 0.9391044157537525,\n",
       " 0.7739321540474097,\n",
       " 0.2308533055713764,\n",
       " 0.8524094630854673]"
      ]
     },
     "execution_count": 10,
     "metadata": {},
     "output_type": "execute_result"
    }
   ],
   "source": [
    "blues"
   ]
  },
  {
   "cell_type": "markdown",
   "metadata": {},
   "source": [
    "#### New attacked Audios"
   ]
  },
  {
   "cell_type": "code",
   "execution_count": 6,
   "metadata": {
    "scrolled": true
   },
   "outputs": [
    {
     "name": "stdout",
     "output_type": "stream",
     "text": [
      "and hence we find the same sort of clumsiness in the Tamia's of Plato which characterizes the philosophical poem of lucretius\n"
     ]
    }
   ],
   "source": [
    "from google.cloud import speech_v1\n",
    "from google.cloud.speech_v1 import enums\n",
    "from scipy.io import wavfile\n",
    "import io\n",
    "import os\n",
    "\n",
    "os.environ[\"GOOGLE_APPLICATION_CREDENTIALS\"]=\"path/key.json\"\n",
    "\n",
    "local_file_path = 'path/music.wav'\n",
    "\n",
    "client = speech_v1.SpeechClient()\n",
    "\n",
    "# local_file_path = 'resources/brooklyn_bridge.raw'\n",
    "\n",
    "# The language of the supplied audio\n",
    "language_code = \"en-US\"\n",
    "\n",
    "# Sample rate in Hertz of the audio data sent\n",
    "#sample_rate_hertz = 48000\n",
    "#frame_rate_channel(local_file_path)\n",
    "#sample_rate_hertz, content= wavfile.read(local_file_path)\n",
    "# Sample rate in Hertz of the audio data sent\n",
    "with io.open(local_file_path, \"rb\") as f:\n",
    "    content = f.read()\n",
    "audio = {\"content\": content}\n",
    "config = {\n",
    "    \"language_code\": language_code,\n",
    "    #\"audio_channel_count\" :1,\n",
    "    #\"enable_separate_recognition_per_channel\":True,\n",
    "    #\"sample_width\" : 2,\n",
    "    \"sample_rate_hertz\": 16000\n",
    "}\n",
    "x=''\n",
    "response = client.recognize(config, audio)\n",
    "for result in response.results:\n",
    "    for tr in result.alternatives:\n",
    "        x= x+tr.transcript\n",
    "print(x)"
   ]
  },
  {
   "cell_type": "code",
   "execution_count": 9,
   "metadata": {
    "scrolled": false
   },
   "outputs": [],
   "source": [
    "import wave\n",
    "def frame_rate_channel(audio_file_name):\n",
    "    #print(audio_file_name)\n",
    "    with wave.open(audio_file_name, \"rb\") as wave_file:\n",
    "        #frame_rate = wave_file.getframerate()\n",
    "        nchannels = wave_file.getnchannels()\n",
    "        sampwidth = wave_file.getsampwidth()\n",
    "        framerate = wave_file.getframerate() \n",
    "        nframes = wave_file.getnframes()\n",
    "        comptype = wave_file.getcomptype()\n",
    "        compname = wave_file.getcompname()\n",
    "        content = wave_file.readframes(nframes)\n",
    "        print(nchannels, sampwidth, framerate, nframes, comptype, compname)\n",
    "    with wave.open(\"D:/NYU_MS/Sem3/CloudML/Project/test/1samp.wav\", \"wb\") as wave_file:\n",
    "        wave_file.setnchannels(nchannels)\n",
    "        wave_file.setsampwidth(sampwidth)\n",
    "        wave_file.setframerate(framerate)\n",
    "        wave_file.setnframes(nframes)\n",
    "        wave_file.setcomptype(comptype,compname)\n",
    "        wave_file.writeframes(content)\n",
    "#audio_file_name='D:/NYU_MS/Sem3/CloudML/Project/8230/279154/8230-279154-0017.wav'\n",
    "#frame_rate_channel(audio_file_name)"
   ]
  },
  {
   "cell_type": "code",
   "execution_count": null,
   "metadata": {},
   "outputs": [],
   "source": [
    "def numpy_to_req_wav(audio_np):\n",
    "    audio_bytes = audio_np.tobytes()\n",
    "    nchannels = 1\n",
    "    sampwidth = 2\n",
    "    framerate = 16000\n",
    "    nframes = 126880\n",
    "    comptype = \"NONE\"\n",
    "    compname = \"not compressed\"\n",
    "    #audio_file_name is the path with filename of the .wav file\n",
    "    with wave.open(audio_file_name, \"wb\") as wave_file:\n",
    "        wave_file.setnchannels(nchannels)\n",
    "        wave_file.setsampwidth(sampwidth)\n",
    "        wave_file.setframerate(framerate)\n",
    "        wave_file.setnframes(nframes)\n",
    "        wave_file.setcomptype(comptype,compname)\n",
    "        wave_file.writeframes(audio_bytes)"
   ]
  }
 ],
 "metadata": {
  "kernelspec": {
   "display_name": "Python 3",
   "language": "python",
   "name": "python3"
  },
  "language_info": {
   "codemirror_mode": {
    "name": "ipython",
    "version": 3
   },
   "file_extension": ".py",
   "mimetype": "text/x-python",
   "name": "python",
   "nbconvert_exporter": "python",
   "pygments_lexer": "ipython3",
   "version": "3.7.5"
  }
 },
 "nbformat": 4,
 "nbformat_minor": 2
}
