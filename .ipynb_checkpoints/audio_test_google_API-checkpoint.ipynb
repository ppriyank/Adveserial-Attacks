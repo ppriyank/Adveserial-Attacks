{
 "cells": [
  {
   "cell_type": "markdown",
   "metadata": {},
   "source": [
    "## Google Cloud APIs"
   ]
  },
  {
   "cell_type": "markdown",
   "metadata": {},
   "source": [
    "### Audio"
   ]
  },
  {
   "cell_type": "code",
   "execution_count": 1,
   "metadata": {},
   "outputs": [],
   "source": [
    "from google.cloud import speech_v1\n",
    "from google.cloud.speech_v1 import enums\n",
    "import io\n",
    "import os\n",
    "from scipy.io import wavfile\n",
    "import nltk"
   ]
  },
  {
   "cell_type": "code",
   "execution_count": 4,
   "metadata": {},
   "outputs": [],
   "source": [
    "os.environ[\"GOOGLE_APPLICATION_CREDENTIALS\"]=\"D:/NYU_MS/Sem3/CloudML/key.json\"\n",
    "\n",
    "directory = 'D:/NYU_MS/Sem3/CloudML/Adveserial-Attacks/audio-dataset/audio'\n",
    "\n",
    "client = speech_v1.SpeechClient()\n",
    "# The language of the supplied audio\n",
    "language_code = \"en-US\"\n",
    "\n",
    "t=[]\n",
    "for filename in os.listdir(directory):\n",
    "    if filename.endswith(\".wav\"): \n",
    "        local_file_path = (os.path.join(directory, filename))\n",
    "        sample_rate_hertz, content= wavfile.read(local_file_path)\n",
    "        # Sample rate in Hertz of the audio data sent\n",
    "        with io.open(local_file_path, \"rb\") as f:\n",
    "            content = f.read()\n",
    "        audio = {\"content\": content}\n",
    "        config = {\n",
    "            \"language_code\": language_code,\n",
    "            \"sample_rate_hertz\": sample_rate_hertz\n",
    "        }\n",
    "        x=''\n",
    "        response = client.recognize(config, audio)\n",
    "        for result in response.results:\n",
    "            # First alternative is the most probable result\n",
    "            for tr in result.alternatives:\n",
    "                x= x+tr.transcript\n",
    "        t.append(x)\n",
    "        "
   ]
  },
  {
   "cell_type": "code",
   "execution_count": 6,
   "metadata": {},
   "outputs": [],
   "source": [
    "i=0\n",
    "for ti in t:\n",
    "    path = ''\n",
    "    if i<10:\n",
    "        path = 'D:/NYU_MS/Sem3/CloudML/Adveserial-Attacks/google_transcript/'+'0'+str(i)+'.txt'\n",
    "    else:\n",
    "        path = 'D:/NYU_MS/Sem3/CloudML/Adveserial-Attacks/google_transcript/'+str(i)+'.txt'\n",
    "    i+=1\n",
    "    file = open(path,\"w\") \n",
    "    file.write(ti)\n",
    "    file.close() "
   ]
  },
  {
   "cell_type": "code",
   "execution_count": 12,
   "metadata": {},
   "outputs": [],
   "source": [
    "directory = 'D:/NYU_MS/Sem3/CloudML/Adveserial-Attacks/audio-dataset/script'\n",
    "i=0\n",
    "blues=[]\n",
    "google_trans = []\n",
    "ground_truth = []\n",
    "for filename in os.listdir(directory):\n",
    "    if filename.endswith(\".txt\"): \n",
    "        local_file_path = (os.path.join(directory, filename))\n",
    "        with io.open(local_file_path, \"rb\") as f:\n",
    "            content = f.read()\n",
    "            ground_truth.append(content.lower())\n",
    "            \n",
    "directory = 'D:/NYU_MS/Sem3/CloudML/Adveserial-Attacks/google_transcript'\n",
    "i=0\n",
    "for filename in os.listdir(directory):\n",
    "    if filename.endswith(\".txt\"): \n",
    "        local_file_path = (os.path.join(directory, filename))\n",
    "        with io.open(local_file_path, \"rb\") as f:\n",
    "            content = f.read()\n",
    "            google_trans.append(content.lower())"
   ]
  },
  {
   "cell_type": "code",
   "execution_count": 16,
   "metadata": {},
   "outputs": [],
   "source": [
    "blues=[]\n",
    "for i in range(len(google_trans)):\n",
    "    google = google_trans[i].decode(\"utf-8\").split()\n",
    "    truth = ground_truth[i].decode(\"utf-8\").split()\n",
    "    #print('\\nGoogle : ', google, '\\nTruth : ', truth)\n",
    "    #there may be several references\n",
    "    blues.append(nltk.translate.bleu_score.sentence_bleu([truth], google))\n",
    "    #print(\"\\nB : \", blues[i])"
   ]
  },
  {
   "cell_type": "code",
   "execution_count": 18,
   "metadata": {},
   "outputs": [
    {
     "data": {
      "text/plain": [
       "0.7791187640327726"
      ]
     },
     "execution_count": 18,
     "metadata": {},
     "output_type": "execute_result"
    }
   ],
   "source": [
    "max(blues)"
   ]
  },
  {
   "cell_type": "code",
   "execution_count": 19,
   "metadata": {},
   "outputs": [
    {
     "data": {
      "text/plain": [
       "1.529588101626149e-79"
      ]
     },
     "execution_count": 19,
     "metadata": {},
     "output_type": "execute_result"
    }
   ],
   "source": [
    "min(blues)"
   ]
  },
  {
   "cell_type": "code",
   "execution_count": null,
   "metadata": {},
   "outputs": [],
   "source": []
  }
 ],
 "metadata": {
  "kernelspec": {
   "display_name": "Python 3",
   "language": "python",
   "name": "python3"
  },
  "language_info": {
   "codemirror_mode": {
    "name": "ipython",
    "version": 3
   },
   "file_extension": ".py",
   "mimetype": "text/x-python",
   "name": "python",
   "nbconvert_exporter": "python",
   "pygments_lexer": "ipython3",
   "version": "3.7.4"
  }
 },
 "nbformat": 4,
 "nbformat_minor": 2
}
